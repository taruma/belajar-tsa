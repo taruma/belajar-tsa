{
 "cells": [
  {
   "cell_type": "markdown",
   "metadata": {},
   "source": [
    "NUMPY Create 3D point test"
   ]
  },
  {
   "cell_type": "code",
   "execution_count": 2,
   "metadata": {
    "ExecuteTime": {
     "end_time": "2018-10-07T08:52:05.727783Z",
     "start_time": "2018-10-07T08:52:03.118121Z"
    }
   },
   "outputs": [
    {
     "data": {
      "text/html": [
       "<script>requirejs.config({paths: { 'plotly': ['https://cdn.plot.ly/plotly-latest.min']},});if(!window.Plotly) {{require(['plotly'],function(plotly) {window.Plotly=plotly;});}}</script>"
      ],
      "text/vnd.plotly.v1+html": [
       "<script>requirejs.config({paths: { 'plotly': ['https://cdn.plot.ly/plotly-latest.min']},});if(!window.Plotly) {{require(['plotly'],function(plotly) {window.Plotly=plotly;});}}</script>"
      ]
     },
     "metadata": {},
     "output_type": "display_data"
    }
   ],
   "source": [
    "import numpy as np\n",
    "from plotly.offline import download_plotlyjs, init_notebook_mode, plot, iplot\n",
    "import plotly.graph_objs as go\n",
    "import cufflinks as cf\n",
    "init_notebook_mode(connected=True)\n",
    "cf.go_offline\n",
    "import pandas as pd"
   ]
  },
  {
   "cell_type": "code",
   "execution_count": 4,
   "metadata": {
    "ExecuteTime": {
     "end_time": "2018-10-07T08:52:11.801690Z",
     "start_time": "2018-10-07T08:52:11.792694Z"
    }
   },
   "outputs": [],
   "source": [
    "\n",
    "\n",
    "point = 10\n",
    "\n",
    "x = np.random.randint(-10,10,size=(10))\n",
    "y, z = map(np.random.rand, [point for _ in range(2)])\n",
    "\n",
    "add = np.linspace(0,100,10)\n",
    "\n",
    "x, y, z = (x, y, z) + add\n",
    "x, y, z = x.round(), y.round()-100, z.round()+100\n",
    "xyz = np.vstack((x,y,z))"
   ]
  },
  {
   "cell_type": "code",
   "execution_count": 5,
   "metadata": {
    "ExecuteTime": {
     "end_time": "2018-10-07T08:52:12.095242Z",
     "start_time": "2018-10-07T08:52:12.090246Z"
    }
   },
   "outputs": [],
   "source": [
    "df = pd.DataFrame(data=xyz.T, columns='x y z'.split())"
   ]
  },
  {
   "cell_type": "code",
   "execution_count": 32,
   "metadata": {
    "ExecuteTime": {
     "end_time": "2018-10-07T09:10:15.334248Z",
     "start_time": "2018-10-07T09:10:15.329249Z"
    }
   },
   "outputs": [],
   "source": [
    "df2 = df + 10\n"
   ]
  },
  {
   "cell_type": "code",
   "execution_count": 33,
   "metadata": {
    "ExecuteTime": {
     "end_time": "2018-10-07T09:10:15.712034Z",
     "start_time": "2018-10-07T09:10:15.606099Z"
    }
   },
   "outputs": [
    {
     "data": {
      "application/vnd.plotly.v1+json": {
       "data": [
        {
         "line": {
          "width": 3
         },
         "mode": "lines",
         "type": "scatter3d",
         "uid": "cdd2c8e6-ca10-11e8-bb45-0008cab1f893",
         "x": [
          2.3,
          11.3,
          24.3,
          29.3,
          52.3,
          63.3,
          73.3,
          75.3,
          91.3,
          108.3
         ],
         "y": [
          -99.7,
          -87.7,
          -76.7,
          -65.7,
          -54.7,
          -43.7,
          -32.7,
          -21.7,
          -10.7,
          1.3
         ],
         "z": [
          100.3,
          112.3,
          123.3,
          134.3,
          145.3,
          156.3,
          167.3,
          178.3,
          190.3,
          201.3
         ]
        },
        {
         "line": {
          "width": 5
         },
         "mode": "lines",
         "type": "scatter3d",
         "uid": "cdd2c8e7-ca10-11e8-9008-0008cab1f893",
         "x": [
          12.3,
          21.3,
          34.3,
          39.3,
          62.3,
          73.3,
          83.3,
          85.3,
          101.3,
          118.3
         ],
         "y": [
          -89.7,
          -77.7,
          -66.7,
          -55.7,
          -44.7,
          -33.7,
          -22.700000000000003,
          -11.7,
          -0.6999999999999993,
          11.3
         ],
         "z": [
          110.3,
          122.3,
          133.3,
          144.3,
          155.3,
          166.3,
          177.3,
          188.3,
          200.3,
          211.3
         ]
        }
       ],
       "layout": {}
      },
      "text/html": [
       "<div id=\"1aa63a44-06c0-401c-a279-2da3d1ba8234\" style=\"height: 525px; width: 100%;\" class=\"plotly-graph-div\"></div><script type=\"text/javascript\">require([\"plotly\"], function(Plotly) { window.PLOTLYENV=window.PLOTLYENV || {};window.PLOTLYENV.BASE_URL=\"https://plot.ly\";Plotly.newPlot(\"1aa63a44-06c0-401c-a279-2da3d1ba8234\", [{\"line\": {\"width\": 3}, \"mode\": \"lines\", \"x\": [2.3, 11.3, 24.3, 29.3, 52.3, 63.3, 73.3, 75.3, 91.3, 108.3], \"y\": [-99.7, -87.7, -76.7, -65.7, -54.7, -43.7, -32.7, -21.7, -10.7, 1.3], \"z\": [100.3, 112.3, 123.3, 134.3, 145.3, 156.3, 167.3, 178.3, 190.3, 201.3], \"type\": \"scatter3d\", \"uid\": \"cddb5302-ca10-11e8-995a-0008cab1f893\"}, {\"line\": {\"width\": 5}, \"mode\": \"lines\", \"x\": [12.3, 21.3, 34.3, 39.3, 62.3, 73.3, 83.3, 85.3, 101.3, 118.3], \"y\": [-89.7, -77.7, -66.7, -55.7, -44.7, -33.7, -22.700000000000003, -11.7, -0.6999999999999993, 11.3], \"z\": [110.3, 122.3, 133.3, 144.3, 155.3, 166.3, 177.3, 188.3, 200.3, 211.3], \"type\": \"scatter3d\", \"uid\": \"cddb5303-ca10-11e8-8b95-0008cab1f893\"}], {}, {\"showLink\": true, \"linkText\": \"Export to plot.ly\"})});</script>"
      ],
      "text/vnd.plotly.v1+html": [
       "<div id=\"1aa63a44-06c0-401c-a279-2da3d1ba8234\" style=\"height: 525px; width: 100%;\" class=\"plotly-graph-div\"></div><script type=\"text/javascript\">require([\"plotly\"], function(Plotly) { window.PLOTLYENV=window.PLOTLYENV || {};window.PLOTLYENV.BASE_URL=\"https://plot.ly\";Plotly.newPlot(\"1aa63a44-06c0-401c-a279-2da3d1ba8234\", [{\"line\": {\"width\": 3}, \"mode\": \"lines\", \"x\": [2.3, 11.3, 24.3, 29.3, 52.3, 63.3, 73.3, 75.3, 91.3, 108.3], \"y\": [-99.7, -87.7, -76.7, -65.7, -54.7, -43.7, -32.7, -21.7, -10.7, 1.3], \"z\": [100.3, 112.3, 123.3, 134.3, 145.3, 156.3, 167.3, 178.3, 190.3, 201.3], \"type\": \"scatter3d\", \"uid\": \"cddb5302-ca10-11e8-995a-0008cab1f893\"}, {\"line\": {\"width\": 5}, \"mode\": \"lines\", \"x\": [12.3, 21.3, 34.3, 39.3, 62.3, 73.3, 83.3, 85.3, 101.3, 118.3], \"y\": [-89.7, -77.7, -66.7, -55.7, -44.7, -33.7, -22.700000000000003, -11.7, -0.6999999999999993, 11.3], \"z\": [110.3, 122.3, 133.3, 144.3, 155.3, 166.3, 177.3, 188.3, 200.3, 211.3], \"type\": \"scatter3d\", \"uid\": \"cddb5303-ca10-11e8-8b95-0008cab1f893\"}], {}, {\"showLink\": true, \"linkText\": \"Export to plot.ly\"})});</script>"
      ]
     },
     "metadata": {},
     "output_type": "display_data"
    }
   ],
   "source": [
    "data1 = dict(\n",
    "    type='scatter3d',\n",
    "    mode='lines',\n",
    "    x=df.x, y=df.y, z=df.z,\n",
    "    line=dict(width=3)\n",
    ")\n",
    "\n",
    "data2 = dict(\n",
    "    type='scatter3d',\n",
    "    mode='lines',\n",
    "    x=df2.x, y=df2.y, z=df2.z,\n",
    "    line=dict(width=5)\n",
    ")\n",
    "\n",
    "\n",
    "# layout = dict(\n",
    "#     autosize=True,\n",
    "#     title='Test',\n",
    "# )\n",
    "\n",
    "\n",
    "iplot([data1,data2])"
   ]
  },
  {
   "cell_type": "code",
   "execution_count": null,
   "metadata": {},
   "outputs": [],
   "source": []
  },
  {
   "cell_type": "code",
   "execution_count": null,
   "metadata": {},
   "outputs": [],
   "source": []
  }
 ],
 "metadata": {
  "hide_input": false,
  "kernelspec": {
   "display_name": "Python [default]",
   "language": "python",
   "name": "python3"
  },
  "language_info": {
   "codemirror_mode": {
    "name": "ipython",
    "version": 3
   },
   "file_extension": ".py",
   "mimetype": "text/x-python",
   "name": "python",
   "nbconvert_exporter": "python",
   "pygments_lexer": "ipython3",
   "version": "3.7.0"
  },
  "toc": {
   "base_numbering": 1,
   "nav_menu": {},
   "number_sections": true,
   "sideBar": true,
   "skip_h1_title": false,
   "title_cell": "Table of Contents",
   "title_sidebar": "Contents",
   "toc_cell": false,
   "toc_position": {},
   "toc_section_display": true,
   "toc_window_display": false
  },
  "varInspector": {
   "cols": {
    "lenName": 16,
    "lenType": 16,
    "lenVar": 40
   },
   "kernels_config": {
    "python": {
     "delete_cmd_postfix": "",
     "delete_cmd_prefix": "del ",
     "library": "var_list.py",
     "varRefreshCmd": "print(var_dic_list())"
    },
    "r": {
     "delete_cmd_postfix": ") ",
     "delete_cmd_prefix": "rm(",
     "library": "var_list.r",
     "varRefreshCmd": "cat(var_dic_list()) "
    }
   },
   "types_to_exclude": [
    "module",
    "function",
    "builtin_function_or_method",
    "instance",
    "_Feature"
   ],
   "window_display": false
  }
 },
 "nbformat": 4,
 "nbformat_minor": 2
}
