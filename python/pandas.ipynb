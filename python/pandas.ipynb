{
 "cells": [
  {
   "cell_type": "code",
   "execution_count": null,
   "metadata": {},
   "outputs": [],
   "source": [
    "# New format 20181007\n",
    "\n",
    "import pandas as pd\n",
    "import numpy as np\n",
    "import pathlib\n",
    "from datetime import datetime, timedelta\n",
    "from calendar import monthrange\n",
    "\n",
    "## CHECK AND WARNING\n",
    "\n",
    "## STAGE SCANNING\n",
    "\n",
    "## STAGE GET\n",
    "\n",
    "## STAGE TRANSFORM\n",
    "\n",
    "\n",
    "def tf_emptydf(year):\n",
    "    \"\"\" Creating emptydf with index of date in single year \"\"\"\n",
    "    start, end = map(pd.Timestamp, f'{year}0101 {year}1231'.split())\n",
    "\n",
    "    df = pd.DataFrame()\n",
    "    df['date'] = pd.date_range(start, end)\n",
    "    return df\n",
    "\n",
    "\n",
    "def tf_column(rawdf, year):\n",
    "    #    if len(rawdf.columns) != 12:\n",
    "    #        print('Table is not compatible, only have {} column'\n",
    "    #              .format(rawdf.shape[1]))\n",
    "    #        return\n",
    "\n",
    "    month = 1\n",
    "    data_column = []\n",
    "\n",
    "    for col in rawdf:\n",
    "        days = monthrange(year, month)[1]\n",
    "\n",
    "        if not (days == 31):\n",
    "            end = days - 31\n",
    "        else:\n",
    "            end = 31\n",
    "\n",
    "    data_column += rawdf[col][:end].tolist()\n",
    "    month += 1\n",
    "\n",
    "    pass\n",
    "\n",
    "\n",
    "def tf_rawdf(rawdf, year, name='CH'):\n",
    "    df = tf_emptydf(year)\n",
    "    data = tf_column(rawdf, year)\n",
    "\n",
    "    pass\n",
    "\n",
    "\n",
    "## STAGE JOIN"
   ]
  }
 ],
 "metadata": {
  "hide_input": false,
  "kernelspec": {
   "display_name": "Python [default]",
   "language": "python",
   "name": "python3"
  },
  "language_info": {
   "codemirror_mode": {
    "name": "ipython",
    "version": 3
   },
   "file_extension": ".py",
   "mimetype": "text/x-python",
   "name": "python",
   "nbconvert_exporter": "python",
   "pygments_lexer": "ipython3",
   "version": "3.7.0"
  },
  "toc": {
   "base_numbering": 1,
   "nav_menu": {},
   "number_sections": true,
   "sideBar": true,
   "skip_h1_title": false,
   "title_cell": "Table of Contents",
   "title_sidebar": "Contents",
   "toc_cell": false,
   "toc_position": {},
   "toc_section_display": true,
   "toc_window_display": false
  },
  "varInspector": {
   "cols": {
    "lenName": 16,
    "lenType": 16,
    "lenVar": 40
   },
   "kernels_config": {
    "python": {
     "delete_cmd_postfix": "",
     "delete_cmd_prefix": "del ",
     "library": "var_list.py",
     "varRefreshCmd": "print(var_dic_list())"
    },
    "r": {
     "delete_cmd_postfix": ") ",
     "delete_cmd_prefix": "rm(",
     "library": "var_list.r",
     "varRefreshCmd": "cat(var_dic_list()) "
    }
   },
   "types_to_exclude": [
    "module",
    "function",
    "builtin_function_or_method",
    "instance",
    "_Feature"
   ],
   "window_display": false
  }
 },
 "nbformat": 4,
 "nbformat_minor": 2
}
