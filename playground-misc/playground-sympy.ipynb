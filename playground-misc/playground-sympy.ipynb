{
 "cells": [
  {
   "cell_type": "code",
   "execution_count": 1,
   "metadata": {
    "ExecuteTime": {
     "end_time": "2018-04-25T10:14:22.046870Z",
     "start_time": "2018-04-25T10:14:21.183719Z"
    }
   },
   "outputs": [],
   "source": [
    "from sympy import *\n",
    "init_printing() # Set up fancy printing"
   ]
  },
  {
   "cell_type": "code",
   "execution_count": 2,
   "metadata": {
    "ExecuteTime": {
     "end_time": "2018-04-25T10:14:59.790993Z",
     "start_time": "2018-04-25T10:14:59.784992Z"
    }
   },
   "outputs": [],
   "source": [
    "b, y, C, Q, S = symbols('b, y, C, Q, S')"
   ]
  },
  {
   "cell_type": "code",
   "execution_count": 8,
   "metadata": {
    "ExecuteTime": {
     "end_time": "2018-04-25T10:23:55.336820Z",
     "start_time": "2018-04-25T10:23:53.577283Z"
    }
   },
   "outputs": [
    {
     "data": {
      "image/png": "[encoded data removed]",
      "text/latex": [
       "$$\\frac{C b \\sqrt{\\frac{S b}{b + 2}}}{2 \\left(b + 2\\right)} \\left(3 b + 4\\right)$$"
      ],
      "text/plain": [
       "        _______          \n",
       "       ╱  S⋅b            \n",
       "C⋅b⋅  ╱  ───── ⋅(3⋅b + 4)\n",
       "    ╲╱   b + 2           \n",
       "─────────────────────────\n",
       "        2⋅(b + 2)        "
      ]
     },
     "execution_count": 8,
     "metadata": {},
     "output_type": "execute_result"
    }
   ],
   "source": [
    "A = b*y\n",
    "P = b + 2*y\n",
    "R = A/P\n",
    "Q = A*C*sqrt(R*S)\n",
    "\n",
    "simplify(Q.diff(y).subs(y, 1))"
   ]
  },
  {
   "cell_type": "code",
   "execution_count": null,
   "metadata": {},
   "outputs": [],
   "source": []
  }
 ],
 "metadata": {
  "hide_input": false,
  "kernelspec": {
   "display_name": "Python 3",
   "language": "python",
   "name": "python3"
  },
  "language_info": {
   "codemirror_mode": {
    "name": "ipython",
    "version": 3
   },
   "file_extension": ".py",
   "mimetype": "text/x-python",
   "name": "python",
   "nbconvert_exporter": "python",
   "pygments_lexer": "ipython3",
   "version": "3.6.4"
  },
  "toc": {
   "nav_menu": {},
   "number_sections": true,
   "sideBar": true,
   "skip_h1_title": false,
   "title_cell": "Table of Contents",
   "title_sidebar": "Contents",
   "toc_cell": false,
   "toc_position": {},
   "toc_section_display": true,
   "toc_window_display": false
  },
  "varInspector": {
   "cols": {
    "lenName": 16,
    "lenType": 16,
    "lenVar": 40
   },
   "kernels_config": {
    "python": {
     "delete_cmd_postfix": "",
     "delete_cmd_prefix": "del ",
     "library": "var_list.py",
     "varRefreshCmd": "print(var_dic_list())"
    },
    "r": {
     "delete_cmd_postfix": ") ",
     "delete_cmd_prefix": "rm(",
     "library": "var_list.r",
     "varRefreshCmd": "cat(var_dic_list()) "
    }
   },
   "types_to_exclude": [
    "module",
    "function",
    "builtin_function_or_method",
    "instance",
    "_Feature"
   ],
   "window_display": false
  }
 },
 "nbformat": 4,
 "nbformat_minor": 2
}
