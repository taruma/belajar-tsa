{
 "cells": [
  {
   "cell_type": "code",
   "execution_count": 1,
   "metadata": {
    "ExecuteTime": {
     "end_time": "2018-04-27T01:59:49.638923Z",
     "start_time": "2018-04-27T01:59:40.895922Z"
    }
   },
   "outputs": [],
   "source": [
    "from sympy import *\n",
    "init_printing() # Set up fancy printing"
   ]
  },
  {
   "cell_type": "code",
   "execution_count": 2,
   "metadata": {
    "ExecuteTime": {
     "end_time": "2018-04-27T01:59:50.082216Z",
     "start_time": "2018-04-27T01:59:49.701965Z"
    }
   },
   "outputs": [
    {
     "name": "stdout",
     "output_type": "stream",
     "text": [
      "Persamaan Q: \n",
      "\tf(y)= C*b*y*sqrt(b*s*y/(b + 2*y)) - Q \n",
      "==\n",
      " In Latex: C b y \\sqrt{\\frac{b s y}{b + 2 y}} - Q \n",
      "\n",
      "Turunan Persamaan Q terhadap y : \n",
      "\tf'(y)= C*b*sqrt(b*s*y/(b + 2*y)) + C*sqrt(b*s*y/(b + 2*y))*(b + 2*y)*(-b*s*y/(b + 2*y)**2 + b*s/(2*(b + 2*y)))/s \n",
      "==\n",
      " In Latex: C b \\sqrt{\\frac{b s y}{b + 2 y}} + \\frac{C}{s} \\sqrt{\\frac{b s y}{b + 2 y}} \\left(b + 2 y\\right) \\left(- \\frac{b s y}{\\left(b + 2 y\\right)^{2}} + \\frac{b s}{2 \\left(b + 2 y\\right)}\\right) \n",
      "\n",
      "Bentuk sederhana : \n",
      "\tf'(y)= C*b*sqrt(b*s*y/(b + 2*y))*(3*b + 4*y)/(2*(b + 2*y)) \n",
      "==\n",
      " In Latex: \\frac{C b \\sqrt{\\frac{b s y}{b + 2 y}}}{2 \\left(b + 2 y\\right)} \\left(3 b + 4 y\\right) \n",
      "\n"
     ]
    }
   ],
   "source": [
    "# Mencari turunan fungsi menggunakan library sympy\n",
    "from sympy import symbols, simplify, sqrt, latex\n",
    "\n",
    "sb, sy, sC, sS, sQ = symbols('b, y, C, s, Q')\n",
    "sA = sb * sy\n",
    "sP = sb + 2* sy\n",
    "sR = sA/sP\n",
    "sfy = sA*sC*sqrt(sR*sS) - sQ\n",
    "\n",
    "# Mencari Turunan f(y)\n",
    "print('Persamaan Q: \\n\\tf(y)=', sfy, '\\n==\\n In Latex:', latex(sfy), '\\n')\n",
    "sfy_d = sfy.diff(sy)\n",
    "print('Turunan Persamaan Q terhadap y : \\n\\tf\\'(y)=', sfy_d, '\\n==\\n In Latex:', latex(sfy_d), '\\n')\n",
    "print('Bentuk sederhana : \\n\\tf\\'(y)=', simplify(sfy_d), '\\n==\\n In Latex:', latex(simplify(sfy_d)), '\\n')\n",
    "\n",
    "# Mendefinisikan fungsi dalam python\n",
    "def f(y):\n",
    "    return float(sfy.subs({sS: S, sC: C, sb: b, sy: y, sQ: Q}))\n",
    "\n",
    "def fd(y):\n",
    "    return float(sfy_d.subs({sS: S, sC: C, sb: b, sy: y}))"
   ]
  },
  {
   "cell_type": "code",
   "execution_count": 8,
   "metadata": {
    "ExecuteTime": {
     "end_time": "2018-04-27T02:02:42.106997Z",
     "start_time": "2018-04-27T02:02:42.075980Z"
    },
    "scrolled": true
   },
   "outputs": [
    {
     "name": "stdout",
     "output_type": "stream",
     "text": [
      "\\frac{\\sqrt{5} C}{s} \\sqrt{\\frac{b s}{b + 10}} \\left(b + 10\\right) \\left(- \\frac{2 b s}{\\left(b + 10\\right)^{2}} + \\frac{20 b s}{\\left(b + 10\\right)^{3}}\\right) + \\frac{\\sqrt{5} C}{5 s} \\sqrt{\\frac{b s}{b + 10}} \\left(b + 10\\right) \\left(\\frac{b s}{2 \\left(b + 10\\right)} - \\frac{5 b s}{\\left(b + 10\\right)^{2}}\\right) + \\frac{2 C}{s} \\sqrt{5} \\sqrt{\\frac{b s}{b + 10}} \\left(\\frac{b s}{2 \\left(b + 10\\right)} - \\frac{5 b s}{\\left(b + 10\\right)^{2}}\\right) + \\frac{\\sqrt{5} C \\sqrt{\\frac{b s}{b + 10}}}{5 b s^{2}} \\left(b + 10\\right)^{2} \\left(\\frac{b s}{2 \\left(b + 10\\right)} - \\frac{5 b s}{\\left(b + 10\\right)^{2}}\\right)^{2}\n"
     ]
    }
   ],
   "source": [
    "print(latex(sfy.diff(sy).diff(sy).subs({sy: 5})))"
   ]
  },
  {
   "cell_type": "markdown",
   "metadata": {},
   "source": [
    "$$\n",
    "Persamaan: C b \\sqrt{\\frac{b s y}{b + 2 y}} + \\frac{C}{s} \\sqrt{\\frac{b s y}{b + 2 y}} \\left(b + 2 y\\right) \\left(- \\frac{b s y}{\\left(b + 2 y\\right)^{2}} + \\frac{b s}{2 \\left(b + 2 y\\right)}\\right) \n",
    "$$\n",
    "\n",
    "$$\\begin{aligned}y &= 30\\ m \\\\\n",
    "y &= 10000\\ m\\end{aligned}\n",
    "$$\n",
    "\n",
    "$$\\frac{\\sqrt{5} C}{s} \\sqrt{\\frac{b s}{b + 10}} \\left(b + 10\\right) \\left(- \\frac{2 b s}{\\left(b + 10\\right)^{2}} + \\frac{20 b s}{\\left(b + 10\\right)^{3}}\\right) + \\frac{\\sqrt{5} C}{5 s} \\sqrt{\\frac{b s}{b + 10}} \\left(b + 10\\right) \\left(\\frac{b s}{2 \\left(b + 10\\right)} - \\frac{5 b s}{\\left(b + 10\\right)^{2}}\\right) + \\frac{2 C}{s} \\sqrt{5} \\sqrt{\\frac{b s}{b + 10}} \\left(\\frac{b s}{2 \\left(b + 10\\right)} - \\frac{5 b s}{\\left(b + 10\\right)^{2}}\\right) + \\frac{\\sqrt{5} C \\sqrt{\\frac{b s}{b + 10}}}{5 b s^{2}} \\left(b + 10\\right)^{2} \\left(\\frac{b s}{2 \\left(b + 10\\right)} - \\frac{5 b s}{\\left(b + 10\\right)^{2}}\\right)^{2}\n",
    "$$"
   ]
  },
  {
   "cell_type": "code",
   "execution_count": null,
   "metadata": {},
   "outputs": [],
   "source": []
  }
 ],
 "metadata": {
  "hide_input": false,
  "kernelspec": {
   "display_name": "Python 3",
   "language": "python",
   "name": "python3"
  },
  "language_info": {
   "codemirror_mode": {
    "name": "ipython",
    "version": 3
   },
   "file_extension": ".py",
   "mimetype": "text/x-python",
   "name": "python",
   "nbconvert_exporter": "python",
   "pygments_lexer": "ipython3",
   "version": "3.6.4"
  },
  "toc": {
   "nav_menu": {},
   "number_sections": true,
   "sideBar": true,
   "skip_h1_title": false,
   "title_cell": "Table of Contents",
   "title_sidebar": "Contents",
   "toc_cell": false,
   "toc_position": {},
   "toc_section_display": true,
   "toc_window_display": false
  },
  "varInspector": {
   "cols": {
    "lenName": 16,
    "lenType": 16,
    "lenVar": 40
   },
   "kernels_config": {
    "python": {
     "delete_cmd_postfix": "",
     "delete_cmd_prefix": "del ",
     "library": "var_list.py",
     "varRefreshCmd": "print(var_dic_list())"
    },
    "r": {
     "delete_cmd_postfix": ") ",
     "delete_cmd_prefix": "rm(",
     "library": "var_list.r",
     "varRefreshCmd": "cat(var_dic_list()) "
    }
   },
   "types_to_exclude": [
    "module",
    "function",
    "builtin_function_or_method",
    "instance",
    "_Feature"
   ],
   "window_display": false
  }
 },
 "nbformat": 4,
 "nbformat_minor": 2
}
