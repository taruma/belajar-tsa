{
 "cells": [
  {
   "cell_type": "markdown",
   "metadata": {},
   "source": [
    "# Metode Numerik Elemen Hingga\n",
    "\n",
    "Kasus 4.1 dari Buku **An Introduction to Computational Fluid Dynamics: The Finite Volume Method** Edisi ke-2, Halaman 118.\n",
    "Mohon mengacu pada buku/halaman tersebut, gambar dlsbnya (dapat) tidak ditampilkan. \n",
    "\n",
    "## Worked Examples: one-dimensional steady state diffusion\n",
    "\n",
    "Governing Equation: \n",
    "$$\\frac{d}{dx} \\left( k \\frac{dT}{dx} \\right) + S = 0$$\n",
    "\n",
    "### Example 4.1\n",
    "\n",
    "> Consider the problem of source-free heat conduction in an insulated rod whose ends are maintained at constant temperatures of 100 C and 500 C, respectively.\n",
    "> Calculate the steady state temperature distribution in the rod. Thermal conductivity $k = 1000\\ W/m.K$, cross-sectional area $A = 10 \\times 10^{-3} m^{2}$"
   ]
  },
  {
   "cell_type": "code",
   "execution_count": 12,
   "metadata": {
    "ExecuteTime": {
     "end_time": "2018-04-23T05:24:32.958999Z",
     "start_time": "2018-04-23T05:24:32.896960Z"
    },
    "code_folding": []
   },
   "outputs": [
    {
     "name": "stdout",
     "output_type": "stream",
     "text": [
      "Suhu di titik \tA = 100 K\n",
      "Suhu di titik \tB = 500 K\n",
      "dengan panjang \tL = 0.5 m\n",
      "Jumlah Noda \t  =   5\tdengan dx = 0.1 m\n"
     ]
    }
   ],
   "source": [
    "#preset - Mendefinisikan inisial/awal\n",
    "import numpy as np\n",
    "from decimal import Decimal as dec\n",
    "\n",
    "def add_dec(num1, num2):\n",
    "    return float(dec(str(num1)) + dec(str(num2)))\n",
    "\n",
    "def create_axis(nodes, dx):\n",
    "    axisx = [0]\n",
    "    x = 0\n",
    "    for i in range(1, nodes+1):\n",
    "        if i == 1:\n",
    "            x = add_dec(x, dx/2)\n",
    "            axisx.append(x)\n",
    "        else:\n",
    "            x = add_dec(x, dx)\n",
    "            axisx.append(x)\n",
    "    axisx.append(add_dec(x, dx/2))\n",
    "    return axisx\n",
    "\n",
    "TA = 100 # (K) - Suhu pada Tepi kiri (west)\n",
    "TB = 500 # (K) - Suhu pada Tepi kanan (east)\n",
    "L = 0.5 # (m) - Panjang pipa\n",
    "A = 10*10**-3 # (m) - Penampang pipa\n",
    "k = 1000 # (W/m.K) - konduktivitas\n",
    "\n",
    "dx = 0.1 # (m) - jarak control volume\n",
    "\n",
    "nodes = int(L/dx) # (..) - jumlah noda\n",
    "print('Suhu di titik \\tA = {:3d} K\\nSuhu di titik \\tB = {:3d} K\\ndengan panjang \\tL = {:2.1f} m'.format(TA,TB,L))\n",
    "print('Jumlah Noda \\t  = {:>3d}\\tdengan dx = {:2.1f} m'.format(nodes,dx))\n",
    "axisx = create_axis(nodes, dx)"
   ]
  },
  {
   "cell_type": "code",
   "execution_count": 13,
   "metadata": {
    "ExecuteTime": {
     "end_time": "2018-04-23T05:24:33.415448Z",
     "start_time": "2018-04-23T05:24:33.270355Z"
    },
    "code_folding": []
   },
   "outputs": [
    {
     "name": "stdout",
     "output_type": "stream",
     "text": [
      "[[ 300. -100.    0.    0.    0.]\n",
      " [-100.  200. -100.    0.    0.]\n",
      " [   0. -100.  200. -100.    0.]\n",
      " [   0.    0. -100.  200. -100.]\n",
      " [   0.    0.    0. -100.  300.]] [ 20000.      0.      0.      0. 100000.]\n",
      "[100. 140. 220. 300. 380. 460. 500.]\n"
     ]
    }
   ],
   "source": [
    "# Create matrix\n",
    "mat_a = np.zeros([nodes, nodes])\n",
    "mat_d = np.zeros([nodes])\n",
    "\n",
    "for i in range(0, nodes):\n",
    "    for j in range (0, nodes):\n",
    "        if i == j and (i == 0): # Baris pertama\n",
    "            aW = 0\n",
    "            aE = k*A/dx\n",
    "            SP = -(2*k*A/dx)\n",
    "            aP = aW + aE - SP\n",
    "            # Masukkan kedalam matrix\n",
    "            mat_a[i,j] = aP\n",
    "            mat_a[i,j+1] = -aE\n",
    "        elif i == j  and (i > 0 and i < nodes-1):\n",
    "            aW = k/dx*A\n",
    "            aE = k/dx*A\n",
    "            SP = 0\n",
    "            aP = aW + aE - SP\n",
    "            mat_a[i, j-1] = -aW\n",
    "            mat_a[i, j] = aP\n",
    "            mat_a[i, j+1] = -aE\n",
    "        elif i == j and (i == nodes-1):\n",
    "            aW = k/dx*A\n",
    "            aE = 0\n",
    "            SP = -2*k/dx*A\n",
    "            aP = aW + aE - SP\n",
    "            mat_a[i, j-1] = -aW\n",
    "            mat_a[i, j] = aP\n",
    "            \n",
    "for i in range(0, nodes):\n",
    "    if i == 0:\n",
    "        mat_d[i] = 200*TA\n",
    "    elif i > 0 and i < nodes-1:\n",
    "        mat_d[i] = 0\n",
    "    elif i == nodes-1:\n",
    "        mat_d[i] = 200*TB\n",
    "\n",
    "print(mat_a, mat_d)\n",
    "result = np.linalg.solve(mat_a, mat_d)\n",
    "result = np.append(result, TB)\n",
    "result = np.insert(result, 0, TA)\n",
    "print(result)\n",
    "\n",
    "# Solusi Analitik\n",
    "exact = []\n",
    "for x in axisx:\n",
    "    T = 800*x + 100\n",
    "    exact.append(T)\n"
   ]
  },
  {
   "cell_type": "code",
   "execution_count": 14,
   "metadata": {
    "ExecuteTime": {
     "end_time": "2018-04-23T05:24:33.916723Z",
     "start_time": "2018-04-23T05:24:33.678564Z"
    }
   },
   "outputs": [
    {
     "data": {
      "image/png": "[encoded data removed]",
      "text/plain": [
       "<matplotlib.figure.Figure at 0x21b47f98f98>"
      ]
     },
     "metadata": {},
     "output_type": "display_data"
    }
   ],
   "source": [
    "import matplotlib.pyplot as plt\n",
    "%matplotlib inline\n",
    "\n",
    "plt.rcParams[\"figure.figsize\"] = (10,5)\n",
    "plt.title('Comparison Numerical vs. Analytical Solution')\n",
    "plt.ylim(TA-100, TB+100)\n",
    "plt.xlabel('Distance x (m)')\n",
    "plt.ylabel('Temperature $(^{o}C)$')\n",
    "plt.plot(axisx, result, 'bo', label='numerical')\n",
    "plt.plot(axisx, exact, 'r--', label='analytical')\n",
    "plt.legend()\n",
    "\n",
    "\n",
    "plt.annotate('Numerical', xy=(axisx[4],result[4]), xytext =(0.35,250),\n",
    "            arrowprops=dict(arrowstyle='->', connectionstyle='arc3'),)\n",
    "\n",
    "plt.show()"
   ]
  },
  {
   "cell_type": "code",
   "execution_count": null,
   "metadata": {},
   "outputs": [],
   "source": []
  },
  {
   "cell_type": "code",
   "execution_count": null,
   "metadata": {},
   "outputs": [],
   "source": []
  }
 ],
 "metadata": {
  "hide_input": false,
  "kernelspec": {
   "display_name": "Python 3",
   "language": "python",
   "name": "python3"
  },
  "language_info": {
   "codemirror_mode": {
    "name": "ipython",
    "version": 3
   },
   "file_extension": ".py",
   "mimetype": "text/x-python",
   "name": "python",
   "nbconvert_exporter": "python",
   "pygments_lexer": "ipython3",
   "version": "3.6.4"
  },
  "toc": {
   "nav_menu": {},
   "number_sections": true,
   "sideBar": true,
   "skip_h1_title": false,
   "title_cell": "Table of Contents",
   "title_sidebar": "Contents",
   "toc_cell": false,
   "toc_position": {},
   "toc_section_display": true,
   "toc_window_display": false
  },
  "varInspector": {
   "cols": {
    "lenName": 16,
    "lenType": 16,
    "lenVar": 40
   },
   "kernels_config": {
    "python": {
     "delete_cmd_postfix": "",
     "delete_cmd_prefix": "del ",
     "library": "var_list.py",
     "varRefreshCmd": "print(var_dic_list())"
    },
    "r": {
     "delete_cmd_postfix": ") ",
     "delete_cmd_prefix": "rm(",
     "library": "var_list.r",
     "varRefreshCmd": "cat(var_dic_list()) "
    }
   },
   "types_to_exclude": [
    "module",
    "function",
    "builtin_function_or_method",
    "instance",
    "_Feature"
   ],
   "window_display": false
  }
 },
 "nbformat": 4,
 "nbformat_minor": 2
}
