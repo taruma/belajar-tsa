{
 "cells": [
  {
   "cell_type": "markdown",
   "metadata": {},
   "source": [
    "### Example 4.2\n",
    "\n",
    "Penyelesaian Example 4.2 dari Buku **An Introduction to Computational Fluid Dynamics: The Finite Volume Method** Edisi ke-2 oleh Henk Kaarle Versteeg & Weeratunge Malalasekera, Halaman 121.\n",
    "\n",
    "Diketahui:\n",
    "Tebal plat $L = 2 cm = 0.02\\ m$ dengan konduktivitas $k = 0.5\\ W/m.K$ dan $q = 1000\\ kW/m^{3}$. Pada titik A dan B memiliki suhu sebesar $100^{o}C$ dan $200^{o}C$. Pembagian grid menjadi 5 noda dengan $\\delta x = 0.004\\ m= 0.4\\ cm$. Dan dengan $A = 1$.\n",
    "\n",
    "Persamaan Pengatur:\n",
    "$$\\frac{d}{dx} \\left( k\\frac{dT}{dx} \\right) + q = 0$$"
   ]
  },
  {
   "cell_type": "code",
   "execution_count": 12,
   "metadata": {
    "ExecuteTime": {
     "end_time": "2018-04-24T08:46:15.280478Z",
     "start_time": "2018-04-24T08:46:15.264470Z"
    }
   },
   "outputs": [
    {
     "name": "stdout",
     "output_type": "stream",
     "text": [
      "Suhu di titik \tA =   100 C\n",
      "Suhu di titik \tB =   200 C\n",
      "dengan panjang \tL = 0.020 m\n",
      "Jumlah Noda \t  =     5\tdengan dx = 0.004 m\n"
     ]
    }
   ],
   "source": [
    "import numpy as np\n",
    "from decimal import Decimal as dec\n",
    "from metnum_uma import add_dec, create_axis\n",
    "\n",
    "# Diketahui:\n",
    "L = 0.02  # (m) - Tebal plat\n",
    "k = 0.5  # (W/m.K) - konduktivitas\n",
    "q = 1000*1000  # (kW/m^3) - Uniform Heat Generation\n",
    "TA = 100  # (C) - suhu di titik A\n",
    "TB = 200  # (C) - suhu di titik B\n",
    "dx = 0.004  # (m) - jarak grid control volume\n",
    "A = 1  # (m^2) - Luasan\n",
    "\n",
    "nodes = int(L/dx)  # (..) - jumlah noda\n",
    "print('Suhu di titik \\tA = {:>5d} C\\nSuhu di titik \\tB = {:>5d} C\\ndengan panjang \\tL = {:>1.3f} m'.format(\n",
    "    TA, TB, L))\n",
    "print('Jumlah Noda \\t  = {:>5d}\\tdengan dx = {:1.3f} m'.format(nodes, dx))\n",
    "axisx = create_axis(nodes, dx)"
   ]
  },
  {
   "cell_type": "code",
   "execution_count": 13,
   "metadata": {
    "ExecuteTime": {
     "end_time": "2018-04-24T08:46:15.981037Z",
     "start_time": "2018-04-24T08:46:15.767894Z"
    },
    "code_folding": [
     31
    ]
   },
   "outputs": [
    {
     "name": "stdout",
     "output_type": "stream",
     "text": [
      "Matrix A = \n",
      "[[ 375. -125.    0.    0.    0.]\n",
      " [-125.  250. -125.    0.    0.]\n",
      " [   0. -125.  250. -125.    0.]\n",
      " [   0.    0. -125.  250. -125.]\n",
      " [   0.    0.    0. -125.  375.]]\n",
      "=====\n",
      "Matrix D = \n",
      "[29000.  4000.  4000.  4000. 54000.]\n",
      "=====\n",
      "Penyelesaian Matrix [AX = D], diperoleh matrix X = \n",
      "[150. 218. 254. 258. 230.]\n",
      "=====\n"
     ]
    }
   ],
   "source": [
    "# Buat Matrix Penyelesaian\n",
    "mat_a = np.zeros([nodes, nodes])\n",
    "mat_d = np.zeros([nodes])\n",
    "\n",
    "# Buat Matrix A\n",
    "for i in range(0, nodes):\n",
    "    for j in range(0, nodes):\n",
    "        if i == j and (i == 0):  # Baris Pertama (Titik A)\n",
    "            aW = 0\n",
    "            aE = k*A/dx\n",
    "            SP = -2*k*A/dx\n",
    "            aP = aW + aE - SP\n",
    "            mat_a[i, j] = aP\n",
    "            mat_a[i, j+1] = -aE\n",
    "        # Baris Kedua sampai satu sebelum terakhir\n",
    "        elif i == j and (i > 0 and i < nodes-1):\n",
    "            aW = k*A/dx\n",
    "            aE = k*A/dx\n",
    "            SP = 0\n",
    "            aP = aW + aE - SP\n",
    "            mat_a[i, j-1] = -aW\n",
    "            mat_a[i, j] = aP\n",
    "            mat_a[i, j+1] = -aE\n",
    "        elif i == j and (i == nodes-1):  # Baris Terakhir (Titik B)\n",
    "            aW = k*A/dx\n",
    "            aE = 0\n",
    "            SP = -2*k*A/dx\n",
    "            aP = aW + aE - SP\n",
    "            mat_a[i, j-1] = -aW\n",
    "            mat_a[i, j] = aP\n",
    "\n",
    "# Matrix D\n",
    "for i in range(0, nodes):\n",
    "    if i == 0:\n",
    "        Su = 2*k*A*TA/dx + q*A*dx\n",
    "        mat_d[i] = Su\n",
    "    elif i > 0 and i < nodes-1:\n",
    "        Su = q*A*dx\n",
    "        mat_d[i] = Su\n",
    "    elif i == nodes-1:\n",
    "        Su = q*A*dx + 2*k*A*TB/dx\n",
    "        mat_d[i] = Su\n",
    "\n",
    "# Penyelesaian Matrix\n",
    "result = np.linalg.solve(mat_a, mat_d)\n",
    "y_num = np.append(result, TB)\n",
    "y_num = np.insert(y_num, 0, TA)\n",
    "\n",
    "def hasil_exact(x, TB, TA, L, q, k):\n",
    "    return ((TB-TA)/L + (q/(2*k)*(L-x)))*x + TA\n",
    "\n",
    "# Solusi Analitik\n",
    "nodes_exact = 100  # Jumlah titik untuk solusi analitik\n",
    "exact = []\n",
    "axisx_exact = np.linspace(0, L, nodes_exact)\n",
    "for x in axisx_exact:\n",
    "    #hasil = ((TB-TA)/L + (q/(2*k)*(L-x)))*x + TA\n",
    "    hasil = hasil_exact(x, TB, TA, L, q, k)\n",
    "    exact.append(hasil)\n",
    "\n",
    "print('Matrix A = \\n{}\\n====='.format(mat_a))\n",
    "print('Matrix D = \\n{}\\n====='.format(mat_d))\n",
    "print(\n",
    "    'Penyelesaian Matrix [AX = D], diperoleh matrix X = \\n{}\\n====='.format(result))"
   ]
  },
  {
   "cell_type": "code",
   "execution_count": 15,
   "metadata": {
    "ExecuteTime": {
     "end_time": "2018-04-24T08:49:10.943300Z",
     "start_time": "2018-04-24T08:49:10.539808Z"
    }
   },
   "outputs": [
    {
     "data": {
      "image/png": "[encoded data removed]",
      "text/plain": [
       "<matplotlib.figure.Figure at 0x1a9bf6313c8>"
      ]
     },
     "metadata": {},
     "output_type": "display_data"
    },
    {
     "name": "stdout",
     "output_type": "stream",
     "text": [
      "Percentage Error for   0 = 0.00\n",
      "Percentage Error for   1 = 2.74\n",
      "Percentage Error for   2 = 1.87\n",
      "Percentage Error for   3 = 1.60\n",
      "Percentage Error for   4 = 1.57\n",
      "Percentage Error for   5 = 1.77\n",
      "Percentage Error for   6 = 0.00\n"
     ]
    }
   ],
   "source": [
    "import matplotlib.pyplot as plt\n",
    "%matplotlib inline\n",
    "\n",
    "plt.rcParams[\"figure.figsize\"] = (15, 8)\n",
    "plt.title('Comparison Numerical vs. Analytical Solution')\n",
    "plt.xlabel('Distance x (m)')\n",
    "plt.ylabel('Temperature $(^{o}C)$')\n",
    "plt.plot(axisx, y_num, 'ro', label='numerical')\n",
    "plt.plot(axisx_exact, exact, 'y--', label='analytical')\n",
    "plt.legend()\n",
    "\n",
    "node_ann = 3\n",
    "plt.annotate('Numerical', xy=(axisx[node_ann], y_num[node_ann]), xytext=(axisx[node_ann], y_num[node_ann]-20),\n",
    "             arrowprops=dict(arrowstyle='->', connectionstyle='arc3'),)\n",
    "\n",
    "mid_exact = int(nodes_exact/2)-10\n",
    "plt.annotate('Exact Solution', xy=(axisx_exact[mid_exact], exact[mid_exact]),\n",
    "             xytext=(axisx_exact[mid_exact], exact[mid_exact]-20),\n",
    "             arrowprops=dict(arrowstyle='->', connectionstyle='arc3'),)\n",
    "plt.grid()\n",
    "plt.show()\n",
    "\n",
    "result_exact = []\n",
    "for x in axisx:\n",
    "    result_exact.append(hasil_exact(x, TB, TA, L, q, k))\n",
    "\n",
    "for counter, val in enumerate(result_exact):\n",
    "    hasil = (y_num[counter] - val)/val*100\n",
    "    print('Percentage Error for {:3d} = {:2.2f}'.format(counter, hasil))"
   ]
  },
  {
   "cell_type": "code",
   "execution_count": null,
   "metadata": {},
   "outputs": [],
   "source": []
  },
  {
   "cell_type": "code",
   "execution_count": 19,
   "metadata": {
    "ExecuteTime": {
     "end_time": "2018-04-24T08:49:44.440693Z",
     "start_time": "2018-04-24T08:49:44.433690Z"
    }
   },
   "outputs": [
    {
     "name": "stdout",
     "output_type": "stream",
     "text": [
      "3\n"
     ]
    }
   ],
   "source": []
  },
  {
   "cell_type": "code",
   "execution_count": null,
   "metadata": {},
   "outputs": [],
   "source": []
  }
 ],
 "metadata": {
  "hide_input": false,
  "kernelspec": {
   "display_name": "Python 3",
   "language": "python",
   "name": "python3"
  },
  "language_info": {
   "codemirror_mode": {
    "name": "ipython",
    "version": 3
   },
   "file_extension": ".py",
   "mimetype": "text/x-python",
   "name": "python",
   "nbconvert_exporter": "python",
   "pygments_lexer": "ipython3",
   "version": "3.6.4"
  },
  "toc": {
   "nav_menu": {},
   "number_sections": true,
   "sideBar": true,
   "skip_h1_title": false,
   "title_cell": "Table of Contents",
   "title_sidebar": "Contents",
   "toc_cell": false,
   "toc_position": {},
   "toc_section_display": true,
   "toc_window_display": false
  },
  "varInspector": {
   "cols": {
    "lenName": 16,
    "lenType": 16,
    "lenVar": 40
   },
   "kernels_config": {
    "python": {
     "delete_cmd_postfix": "",
     "delete_cmd_prefix": "del ",
     "library": "var_list.py",
     "varRefreshCmd": "print(var_dic_list())"
    },
    "r": {
     "delete_cmd_postfix": ") ",
     "delete_cmd_prefix": "rm(",
     "library": "var_list.r",
     "varRefreshCmd": "cat(var_dic_list()) "
    }
   },
   "types_to_exclude": [
    "module",
    "function",
    "builtin_function_or_method",
    "instance",
    "_Feature"
   ],
   "window_display": false
  }
 },
 "nbformat": 4,
 "nbformat_minor": 2
}
