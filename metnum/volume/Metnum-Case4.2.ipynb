{
 "cells": [
  {
   "cell_type": "markdown",
   "metadata": {},
   "source": [
    "### Example 4.2\n",
    "\n",
    "Penyelesaian Example 4.2 dari Buku **An Introduction to Computational Fluid Dynamics: The Finite Volume Method** Edisi ke-2 oleh Henk Kaarle Versteeg & Weeratunge Malalasekera, Halaman 121.\n",
    "\n",
    "Diketahui:\n",
    "Tebal plat $L = 2 cm = 0.02\\ m$ dengan konduktivitas $k = 0.5\\ W/m.K$ dan _Uniform heat generation_ $q = 1000\\ kW/m^{3}$. Pada titik A dan B memiliki suhu sebesar $100^{o}C$ dan $200^{o}C$. Lihat Gambar:\n",
    "\n",
    "<img src=\"42fig46.jpg\" />\n",
    "\n",
    "Persamaan Pengatur:\n",
    "$$\\frac{\\mathrm{d}}{\\mathrm{d}x} \\left( k\\frac{\\mathrm{d}T}{\\mathrm{d}x} \\right) + q = 0$$"
   ]
  },
  {
   "cell_type": "markdown",
   "metadata": {},
   "source": [
    "# Solusi\n",
    "\n",
    "Metode ini menggunakan grid sederhana. Domain dibagi menjadi 5 kontrol volume, sehingga diketahui nilai $\\delta x =\\ 0.004\\ m$. Grid sebagai berikut:\n",
    "\n",
    "<img src=\"42fig47.jpg\" />\n",
    "\n",
    "## Noda Tengah (Titik 2, 3, 4)\n",
    "Diintegrasikan persamaan pengatur:\n",
    "$$ \\int\\limits_{\\Delta V}\\ \\frac{d}{dx} \\left( k\\frac{dT}{dx} \\right) \\text{d}V + \\int\\limits_{\\Delta V} q \\text{d}V = 0$$\n",
    "\n",
    "Suku pertama di integralkan seperti contoh sebelumnya, sedangkan suku kedua, dievaluasi dengan rata-rata (i.e. $\\bar{S}\\Delta V=q\\Delta V$) pada kontrol volume. Persamaan diatas dapat ditulis:\n",
    "\n",
    "$$\\begin{aligned}\n",
    "\\left[ \\left( k A \\frac{\\text{d}T}{\\text{d}x} \\right)_e -\n",
    "\\left( k A \\frac{\\text{d}T}{\\text{d}x} \\right)_w \\right] \n",
    "+q \\Delta V = 0 \\\\\n",
    "\\left[ k_e A \\left(\\frac{T_E-T_P}{\\delta x} \\right) - k_w A \\left(\\frac{T_P-T_W}{\\delta x} \\right) \\right]\n",
    "+ q A \\delta x = 0 \\\\\n",
    "\\left(\\frac{k_e A}{\\delta x} + \\frac{k_w A}{\\delta x}\\right)T_P = \\left(\\frac{k_w A}{\\delta x}\\right)T_W +\n",
    "\\left(\\frac{k_w A}{\\delta x} \\right)T_E + q A \\delta x \\\\\n",
    "\\end{aligned}$$\n",
    "\n",
    "Dalam bentuk umum serupa dengan:\n",
    "$$a_P T_P = a_W T_W+a_E T_E + S_u$$\n",
    "\n",
    "karena $k_e = k_w = k$ maka diperoleh persamaan:\n",
    "\n",
    "$$\\begin{array}{|c|c|c|c|c|}\\hline a_W & a_E & a_P & S_P & S_u \\\\\n",
    "\\hline\n",
    "\\frac{k A}{\\delta x} & \\frac{k A}{\\delta x} & a_W+a_E-S_P & 0 & qA\\delta x \\\\ \\hline\n",
    "\\end{array}\n",
    "$$\n",
    "\n",
    "Persamaan diatas hanya berlaku untuk noda di tengah (contoh: noda 2, 3 dan 4).\n",
    "\n",
    "## Noda Tepi Kiri (titik 1)\n",
    "Hasil integrasi persamaan sebelumnya pada titik 1 sebagai berikut:\n",
    "\n",
    "$$\\begin{aligned}\n",
    "\\left[ \\left( k A \\frac{\\text{d}T}{\\text{d}x} \\right)_e -\n",
    "\\left( k A \\frac{\\text{d}T}{\\text{d}x} \\right)_w \\right] \n",
    "+q \\Delta V = 0 \\\\\n",
    "\\left[ k_e A \\left(\\frac{T_E-T_P}{\\delta x} \\right) - k_A A \\left(\\frac{T_P-T_A}{\\delta x/2} \\right) \\right]\n",
    "+ q A \\delta x = 0 \\\\\n",
    "\\end{aligned}$$\n",
    "\n",
    "karena $k_e = k_w = k$ maka diperoleh persamaan:\n",
    "$$a_P T_P = a_W T_W+a_E T_E + S_u$$\n",
    "\n",
    "yang:\n",
    "\n",
    "$$\\begin{array}{|c|c|c|c|c|}\\hline a_W & a_E & a_P & S_P & S_u \\\\\n",
    "\\hline\n",
    "0 & \\frac{k A}{\\delta x} & a_W+a_E-S_P & -\\frac{2kA}{\\delta x} & qA\\delta x + \\frac{2kA}{\\delta x}T_A \\\\ \\hline\n",
    "\\end{array}$$\n",
    "\n",
    "## Noda Tepi Kanan (titik 5)\n",
    "Hasil integrasi yang serupa pada titik 5 sebagai berikut:\n",
    "\n",
    "$$\\begin{aligned}\n",
    "\\left[ \\left( k A \\frac{\\text{d}T}{\\text{d}x} \\right)_e -\n",
    "\\left( k A \\frac{\\text{d}T}{\\text{d}x} \\right)_w \\right] \n",
    "+q \\Delta V = 0 \\\\\n",
    "\\left[ k_B A \\left(\\frac{T_B-T_P}{\\delta x} \\right) - k_w A \\left(\\frac{T_P-T_W}{\\delta x/2} \\right) \\right]\n",
    "+ q A \\delta x = 0 \\\\\n",
    "\\end{aligned}$$\n",
    "\n",
    "karena $k_e = k_w = k$ maka diperoleh persamaan:\n",
    "$$a_P T_P = a_W T_W+a_E T_E + S_u$$\n",
    "\n",
    "yang:\n",
    "\n",
    "$$\\begin{array}{|c|c|c|c|c|}\\hline a_W & a_E & a_P & S_P & S_u \\\\\n",
    "\\hline\n",
    "\\frac{k A}{\\delta x} & 0 & a_W+a_E-S_P & -\\frac{2kA}{\\delta x} & qA\\delta x + \\frac{2kA}{\\delta x}T_B \\\\ \\hline\n",
    "\\end{array}$$\n",
    "\n",
    "***\n",
    "\n",
    "## Dalam Bentuk Matriks\n",
    "\n",
    "Persamaan diatas dapat disusun dalam bentuk matriks (jika 5 noda):\n",
    "\n",
    "$$\\left[ \\begin{array}{ccccc}a_P & -a_E & 0 & 0 & 0 \\\\\n",
    "-a_W & a_P & -a_E & 0 & 0 \\\\\n",
    "0 & -a_W & a_P & -a_E & 0 \\\\\n",
    "0 & 0 & -a_W & a_P & -a_E \\\\\n",
    "0 & 0 & 0 & -a_W & a_P \\\\\\end{array}\\right]\n",
    "\\left[ \\begin{array}{c} T_1 \\\\ T_2 \\\\ T_3 \\\\ T_4 \\\\ T_5 \\end{array} \\right] = \n",
    "\\left[ \\begin{array}{c} S_u \\\\ S_u \\\\ S_u \\\\ S_u \\\\ S_u \\end{array} \\right]\n",
    "$$\n",
    "\n",
    "dengan catatan, pada baris $1$ dan $5$ nilai $a_W, a_P, a_E$ menggunakan persamaan yang berbeda dari baris lainnya. Matrix $\\left[ \\begin{array}{c} T_1 \\\\ T_2 \\\\ T_3 \\\\ T_4 \\\\ T_5 \\end{array} \\right]$ dapat dicari dengan menggunakan metoda algoritma Thomas. Dalam python dapat menggunakan _numpy.linalg.solve()_ dari library _numpy_. \n",
    "\n",
    "## Perbandingan solusi analitik\n",
    "\n",
    "Hasil numerik bisa dibandingkan dengan persamaan solusi analitik:\n",
    "$$T = \\left[\\frac{T_B-T_A}{L}+\\frac{q}{2k}(L-x)\\right]x+T_A$$"
   ]
  },
  {
   "cell_type": "markdown",
   "metadata": {},
   "source": [
    "# Pemrograman Python\n",
    "\n",
    "Solusi numerik dicoba menggunakan Python dengan menggunakan beberapa library antara lain numpy, decimal, matplotlib. Menggunakan fungsi *add_dec* dan *create_axis* yang diperoleh dari **metnum_uma.py**. "
   ]
  },
  {
   "cell_type": "code",
   "execution_count": 4,
   "metadata": {
    "ExecuteTime": {
     "end_time": "2018-05-06T09:12:36.613923Z",
     "start_time": "2018-05-06T09:12:36.593937Z"
    }
   },
   "outputs": [
    {
     "name": "stdout",
     "output_type": "stream",
     "text": [
      "Suhu di titik \tA =   100 C\n",
      "Suhu di titik \tB =   200 C\n",
      "dengan panjang \tL = 0.020 m\n",
      "Jumlah Noda \t  =    10\tdengan dx = 0.002 m\n"
     ]
    }
   ],
   "source": [
    "import numpy as np\n",
    "from decimal import Decimal as dec\n",
    "from metnum_uma import add_dec, create_axis \n",
    "\n",
    "# Diketahui:\n",
    "L = 0.02  # (m) - Tebal plat\n",
    "k = 0.5  # (W/m.K) - konduktivitas\n",
    "q = 1000*1000  # (kW/m^3) - Uniform Heat Generation\n",
    "TA, TB = 100, 200  # (C) - suhu di titik A\n",
    "dx = 0.002  # (m) - jarak grid control volume\n",
    "A = 1  # (m^2) - Luasan\n",
    "\n",
    "nodes = int(L/dx)\n",
    "print('Suhu di titik \\tA = {:>5d} C\\nSuhu di titik \\tB = {:>5d} C\\ndengan panjang \\tL = {:>1.3f} m'.format(\n",
    "    TA, TB, L))\n",
    "print('Jumlah Noda \\t  = {:>5d}\\tdengan dx = {:1.3f} m'.format(nodes, dx))\n",
    "axisx = create_axis(nodes, dx)"
   ]
  },
  {
   "cell_type": "code",
   "execution_count": 5,
   "metadata": {
    "ExecuteTime": {
     "end_time": "2018-05-06T09:12:37.590333Z",
     "start_time": "2018-05-06T09:12:37.322481Z"
    },
    "code_folding": [
     31
    ]
   },
   "outputs": [
    {
     "name": "stdout",
     "output_type": "stream",
     "text": [
      "Matrix A = \n",
      "[[ 750. -250.    0.    0.    0.    0.    0.    0.    0.    0.]\n",
      " [-250.  500. -250.    0.    0.    0.    0.    0.    0.    0.]\n",
      " [   0. -250.  500. -250.    0.    0.    0.    0.    0.    0.]\n",
      " [   0.    0. -250.  500. -250.    0.    0.    0.    0.    0.]\n",
      " [   0.    0.    0. -250.  500. -250.    0.    0.    0.    0.]\n",
      " [   0.    0.    0.    0. -250.  500. -250.    0.    0.    0.]\n",
      " [   0.    0.    0.    0.    0. -250.  500. -250.    0.    0.]\n",
      " [   0.    0.    0.    0.    0.    0. -250.  500. -250.    0.]\n",
      " [   0.    0.    0.    0.    0.    0.    0. -250.  500. -250.]\n",
      " [   0.    0.    0.    0.    0.    0.    0.    0. -250.  750.]]\n",
      "=====\n",
      "Matrix D = \n",
      "[ 52000.   2000.   2000.   2000.   2000.   2000.   2000.   2000.   2000.\n",
      " 102000.]\n",
      "=====\n",
      "Penyelesaian Matrix [AX = D], diperoleh matrix X = \n",
      "[125. 167. 201. 227. 245. 255. 257. 251. 237. 215.]\n",
      "=====\n"
     ]
    }
   ],
   "source": [
    "# Buat Matrix Penyelesaian\n",
    "mat_a = np.zeros([nodes, nodes])\n",
    "mat_d = np.zeros([nodes])\n",
    "\n",
    "# Buat Matrix A\n",
    "for i in range(0, nodes):\n",
    "    for j in range(0, nodes):\n",
    "        if i == j and (i == 0):  # Baris Pertama (Titik A)\n",
    "            aW = 0\n",
    "            aE = k*A/dx\n",
    "            SP = -2*k*A/dx\n",
    "            aP = aW + aE - SP\n",
    "            mat_a[i, j] = aP\n",
    "            mat_a[i, j+1] = -aE\n",
    "        # Baris Kedua sampai satu sebelum terakhir\n",
    "        elif i == j and (i > 0 and i < nodes-1):\n",
    "            aW = k*A/dx\n",
    "            aE = k*A/dx\n",
    "            SP = 0\n",
    "            aP = aW + aE - SP\n",
    "            mat_a[i, j-1] = -aW\n",
    "            mat_a[i, j] = aP\n",
    "            mat_a[i, j+1] = -aE\n",
    "        elif i == j and (i == nodes-1):  # Baris Terakhir (Titik B)\n",
    "            aW = k*A/dx\n",
    "            aE = 0\n",
    "            SP = -2*k*A/dx\n",
    "            aP = aW + aE - SP\n",
    "            mat_a[i, j-1] = -aW\n",
    "            mat_a[i, j] = aP\n",
    "\n",
    "# Matrix D\n",
    "for i in range(0, nodes):\n",
    "    if i == 0:\n",
    "        Su = 2*k*A*TA/dx + q*A*dx\n",
    "        mat_d[i] = Su\n",
    "    elif i > 0 and i < nodes-1:\n",
    "        Su = q*A*dx\n",
    "        mat_d[i] = Su\n",
    "    elif i == nodes-1:\n",
    "        Su = q*A*dx + 2*k*A*TB/dx\n",
    "        mat_d[i] = Su\n",
    "\n",
    "# Penyelesaian Matrix\n",
    "result = np.linalg.solve(mat_a, mat_d)\n",
    "y_num = np.append(result, TB)\n",
    "y_num = np.insert(y_num, 0, TA)\n",
    "\n",
    "def hasil_exact(x, TB, TA, L, q, k):\n",
    "    return ((TB-TA)/L + (q/(2*k)*(L-x)))*x + TA\n",
    "\n",
    "# Solusi Analitik\n",
    "nodes_exact = 100  # Jumlah titik untuk solusi analitik\n",
    "exact = []\n",
    "axisx_exact = np.linspace(0, L, nodes_exact)\n",
    "for x in axisx_exact:\n",
    "    #hasil = ((TB-TA)/L + (q/(2*k)*(L-x)))*x + TA\n",
    "    hasil = hasil_exact(x, TB, TA, L, q, k)\n",
    "    exact.append(hasil)\n",
    "\n",
    "print('Matrix A = \\n{}\\n====='.format(mat_a))\n",
    "print('Matrix D = \\n{}\\n====='.format(mat_d))\n",
    "print(\n",
    "    'Penyelesaian Matrix [AX = D], diperoleh matrix X = \\n{}\\n====='.format(result))"
   ]
  },
  {
   "cell_type": "code",
   "execution_count": 6,
   "metadata": {
    "ExecuteTime": {
     "end_time": "2018-05-06T09:12:38.582241Z",
     "start_time": "2018-05-06T09:12:38.199474Z"
    }
   },
   "outputs": [
    {
     "data": {
      "image/png": "[encoded data removed]",
      "text/plain": [
       "<matplotlib.figure.Figure at 0x228913b6cc0>"
      ]
     },
     "metadata": {},
     "output_type": "display_data"
    },
    {
     "name": "stdout",
     "output_type": "stream",
     "text": [
      "Percentage Error pada titik   0 = 0.00\n",
      "Percentage Error pada titik   1 = 0.81\n",
      "Percentage Error pada titik   2 = 0.60\n",
      "Percentage Error pada titik   3 = 0.50\n",
      "Percentage Error pada titik   4 = 0.44\n",
      "Percentage Error pada titik   5 = 0.41\n",
      "Percentage Error pada titik   6 = 0.39\n",
      "Percentage Error pada titik   7 = 0.39\n",
      "Percentage Error pada titik   8 = 0.40\n",
      "Percentage Error pada titik   9 = 0.42\n",
      "Percentage Error pada titik  10 = 0.47\n",
      "Percentage Error pada titik  11 = 0.00\n"
     ]
    }
   ],
   "source": [
    "import matplotlib.pyplot as plt\n",
    "%matplotlib inline\n",
    "\n",
    "plt.rcParams[\"figure.figsize\"] = (15, 8)\n",
    "plt.title('Comparison Numerical vs. Analytical Solution')\n",
    "plt.xlabel('Distance x (m)')\n",
    "plt.ylabel('Temperature $(^{o}C)$')\n",
    "plt.plot(axisx, y_num, 'ro', label='numerical')\n",
    "plt.plot(axisx_exact, exact, 'y--', label='analytical')\n",
    "plt.legend()\n",
    "\n",
    "node_ann = 3\n",
    "plt.annotate('Numerical', xy=(axisx[node_ann], y_num[node_ann]), xytext=(axisx[node_ann], y_num[node_ann]-20),\n",
    "             arrowprops=dict(arrowstyle='->', connectionstyle='arc3'),)\n",
    "\n",
    "mid_exact = int(nodes_exact/2)-10\n",
    "plt.annotate('Exact Solution', xy=(axisx_exact[mid_exact], exact[mid_exact]),\n",
    "             xytext=(axisx_exact[mid_exact], exact[mid_exact]-20),\n",
    "             arrowprops=dict(arrowstyle='->', connectionstyle='arc3'),)\n",
    "plt.grid()\n",
    "plt.show()\n",
    "\n",
    "result_exact = []\n",
    "for x in axisx:\n",
    "    result_exact.append(hasil_exact(x, TB, TA, L, q, k))\n",
    "\n",
    "for counter, val in enumerate(result_exact):\n",
    "    hasil = (y_num[counter] - val)/val*100\n",
    "    print('Percentage Error pada titik {:3d} = {:2.2f}'.format(counter, hasil))"
   ]
  }
 ],
 "metadata": {
  "hide_input": false,
  "kernelspec": {
   "display_name": "Python 3",
   "language": "python",
   "name": "python3"
  },
  "language_info": {
   "codemirror_mode": {
    "name": "ipython",
    "version": 3
   },
   "file_extension": ".py",
   "mimetype": "text/x-python",
   "name": "python",
   "nbconvert_exporter": "python",
   "pygments_lexer": "ipython3",
   "version": "3.6.4"
  },
  "toc": {
   "nav_menu": {},
   "number_sections": true,
   "sideBar": true,
   "skip_h1_title": false,
   "title_cell": "Table of Contents",
   "title_sidebar": "Contents",
   "toc_cell": false,
   "toc_position": {},
   "toc_section_display": true,
   "toc_window_display": false
  },
  "varInspector": {
   "cols": {
    "lenName": 16,
    "lenType": 16,
    "lenVar": 40
   },
   "kernels_config": {
    "python": {
     "delete_cmd_postfix": "",
     "delete_cmd_prefix": "del ",
     "library": "var_list.py",
     "varRefreshCmd": "print(var_dic_list())"
    },
    "r": {
     "delete_cmd_postfix": ") ",
     "delete_cmd_prefix": "rm(",
     "library": "var_list.r",
     "varRefreshCmd": "cat(var_dic_list()) "
    }
   },
   "types_to_exclude": [
    "module",
    "function",
    "builtin_function_or_method",
    "instance",
    "_Feature"
   ],
   "window_display": false
  }
 },
 "nbformat": 4,
 "nbformat_minor": 2
}
