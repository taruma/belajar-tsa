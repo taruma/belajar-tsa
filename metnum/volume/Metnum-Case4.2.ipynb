{
 "cells": [
  {
   "cell_type": "markdown",
   "metadata": {},
   "source": [
    "### Example 4.2\n",
    "\n",
    "Penyelesaian Example 4.2 dari Buku **An Introduction to Computational Fluid Dynamics: The Finite Volume Method** Edisi ke-2 oleh Henk Kaarle Versteeg & Weeratunge Malalasekera, Halaman 121.\n",
    "\n",
    "Diketahui:\n",
    "Tebal plat $L = 2 cm = 0.02\\ m$ dengan konduktivitas $k = 0.5\\ W/m.K$ dan $q = 1000\\ kW/m^{3}$. Pada titik A dan B memiliki suhu sebesar $100^{o}C$ dan $200^{o}C$. Pembagian grid menjadi 5 noda dengan $\\delta x = 0.004\\ m= 0.4\\ cm$. Dan dengan $A = 1$.\n",
    "\n",
    "Persamaan Pengatur:\n",
    "$$\\frac{d}{dx} \\left( k\\frac{dT}{dx} \\right) + q = 0$$"
   ]
  },
  {
   "cell_type": "code",
   "execution_count": 25,
   "metadata": {
    "ExecuteTime": {
     "end_time": "2018-04-22T03:20:38.924740Z",
     "start_time": "2018-04-22T03:20:38.905228Z"
    }
   },
   "outputs": [
    {
     "name": "stdout",
     "output_type": "stream",
     "text": [
      "Suhu di titik \tA =   100 K\n",
      "Suhu di titik \tB =   200 K\n",
      "dengan panjang \tL = 0.020 m\n",
      "Jumlah Noda \t  =     5\tdengan dx = 0.004 m\n"
     ]
    }
   ],
   "source": [
    "import numpy as np\n",
    "from decimal import Decimal as dec\n",
    "from metnum_uma import add_dec, create_axis\n",
    "\n",
    "# Diketahui:\n",
    "L = 0.02 # (m) - Tebal plat\n",
    "k = 0.5 # (W/m.K) - konduktivitas\n",
    "q = 1000*1000 # (kW/m^3) - Uniform Heat Generation\n",
    "TA = 100 # (C) - suhu di titik A\n",
    "TB = 200 # (C) - suhu di titik B\n",
    "dx = 0.004 # (m) - jarak grid control volume\n",
    "A = 1 # (m^2) - Luasan\n",
    "\n",
    "nodes = int(L/dx) # (..) - jumlah noda\n",
    "print('Suhu di titik \\tA = {:>5d} K\\nSuhu di titik \\tB = {:>5d} K\\ndengan panjang \\tL = {:>1.3f} m'.format(TA,TB,L))\n",
    "print('Jumlah Noda \\t  = {:>5d}\\tdengan dx = {:1.3f} m'.format(nodes,dx))\n",
    "axisx = create_axis(nodes, dx)"
   ]
  },
  {
   "cell_type": "code",
   "execution_count": 39,
   "metadata": {
    "ExecuteTime": {
     "end_time": "2018-04-22T03:27:41.222424Z",
     "start_time": "2018-04-22T03:27:41.057314Z"
    }
   },
   "outputs": [],
   "source": [
    "# Buat Matrix Penyelesaian\n",
    "mat_a = np.zeros([nodes, nodes])\n",
    "mat_d = np.zeros([nodes])\n",
    "\n",
    "# Buat Matrix A\n",
    "for i in range(0, nodes):\n",
    "    for j in range(0, nodes):\n",
    "        if i == j and (i == 0): # Baris Pertama (Titik A)\n",
    "            aW = 0\n",
    "            aE = k*A/dx\n",
    "            SP = -2*k*A/dx\n",
    "            aP = aW + aE - SP\n",
    "            # Masukkan ke dalam Matrix\n",
    "            mat_a[i, j] = aP\n",
    "            mat_a[i, j+1] = -aE\n",
    "        elif i == j and (i > 0 and i < nodes-1):\n",
    "            aW = k*A/dx\n",
    "            aE = k*A/dx\n",
    "            SP = 0\n",
    "            aP = aW + aE - SP\n",
    "            mat_a[i, j-1] = -aW\n",
    "            mat_a[i, j] = aP\n",
    "            mat_a[i, j+1] = -aE\n",
    "        elif i == j and (i == nodes-1):\n",
    "            aW = k*A/dx\n",
    "            aE = 0\n",
    "            SP = -2*k*A/dx\n",
    "            aP = aW + aE - SP\n",
    "            mat_a[i, j-1] = -aW\n",
    "            mat_a[i, j] = aP\n",
    "\n",
    "# Matrix D\n",
    "for i in range(0, nodes):\n",
    "    if i == 0:\n",
    "        Su = 2*k*A*TA/dx + q*A*dx\n",
    "        mat_d[i] = Su\n",
    "    elif i > 0 and i < nodes-1:\n",
    "        Su = q*A*dx\n",
    "        mat_d[i] = Su\n",
    "    elif i == nodes-1:\n",
    "        Su = q*A*dx + 2*k*A*TB/dx\n",
    "        mat_d[i] = Su\n",
    "\n",
    "result = np.linalg.solve(mat_a, mat_d)\n",
    "y_num = np.append(result, TB)\n",
    "y_num = np.insert(y_num, 0, TA)\n",
    "\n",
    "# Solusi Analitik\n",
    "exact = []\n",
    "axisx_exact = np.linspace(0, L, 100)\n",
    "for x in axisx_exact:\n",
    "    hasil = ((TB-TA)/L + (q/(2*k)*(L-x)))*x + TA\n",
    "    exact.append(hasil)"
   ]
  },
  {
   "cell_type": "code",
   "execution_count": 40,
   "metadata": {
    "ExecuteTime": {
     "end_time": "2018-04-22T03:27:43.443053Z",
     "start_time": "2018-04-22T03:27:43.163364Z"
    }
   },
   "outputs": [
    {
     "data": {
      "image/png": "[encoded data removed]",
      "text/plain": [
       "<matplotlib.figure.Figure at 0x22c7d08e6d8>"
      ]
     },
     "metadata": {},
     "output_type": "display_data"
    }
   ],
   "source": [
    "import matplotlib.pyplot as plt\n",
    "%matplotlib inline\n",
    "\n",
    "plt.rcParams[\"figure.figsize\"] = (10,10)\n",
    "plt.title('Comparison Numerical vs. Analytical Solution')\n",
    "plt.ylim(TA-100, TB+100)\n",
    "plt.xlabel('Distance x (m)')\n",
    "plt.ylabel('Temperature $(^{o}C)$')\n",
    "plt.plot(axisx, y_num, 'bo', label='numerical')\n",
    "plt.plot(axisx_exact, exact, 'r-', label='analytical')\n",
    "plt.legend()\n",
    "\n",
    "\n",
    "#plt.annotate('Numerical', xy=(axisx[4],result[4]), xytext =(0.35,250),\n",
    "#            arrowprops=dict(arrowstyle='->', connectionstyle='arc3'),)\n",
    "\n",
    "plt.show()"
   ]
  },
  {
   "cell_type": "code",
   "execution_count": null,
   "metadata": {},
   "outputs": [],
   "source": []
  }
 ],
 "metadata": {
  "hide_input": false,
  "kernelspec": {
   "display_name": "Python 3",
   "language": "python",
   "name": "python3"
  },
  "language_info": {
   "codemirror_mode": {
    "name": "ipython",
    "version": 3
   },
   "file_extension": ".py",
   "mimetype": "text/x-python",
   "name": "python",
   "nbconvert_exporter": "python",
   "pygments_lexer": "ipython3",
   "version": "3.6.4"
  },
  "toc": {
   "nav_menu": {},
   "number_sections": true,
   "sideBar": true,
   "skip_h1_title": false,
   "title_cell": "Table of Contents",
   "title_sidebar": "Contents",
   "toc_cell": false,
   "toc_position": {},
   "toc_section_display": true,
   "toc_window_display": false
  },
  "varInspector": {
   "cols": {
    "lenName": 16,
    "lenType": 16,
    "lenVar": 40
   },
   "kernels_config": {
    "python": {
     "delete_cmd_postfix": "",
     "delete_cmd_prefix": "del ",
     "library": "var_list.py",
     "varRefreshCmd": "print(var_dic_list())"
    },
    "r": {
     "delete_cmd_postfix": ") ",
     "delete_cmd_prefix": "rm(",
     "library": "var_list.r",
     "varRefreshCmd": "cat(var_dic_list()) "
    }
   },
   "types_to_exclude": [
    "module",
    "function",
    "builtin_function_or_method",
    "instance",
    "_Feature"
   ],
   "window_display": false
  }
 },
 "nbformat": 4,
 "nbformat_minor": 2
}
