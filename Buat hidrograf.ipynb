{
 "cells": [
  {
   "cell_type": "markdown",
   "metadata": {},
   "source": [
    "# Training Jupyter Notebook\n",
    "### Hidrologi Lanjut\n",
    "\n",
    "Tanggal training: 2018-02-15\n",
    "Durasi: 13.30 - 17.00\n",
    "\n",
    "Topik:\n",
    "- pengenalan tampilan jupyter\n",
    "- penggunaan operator\n",
    "- penggunaan numpy dan matplotlib\n",
    "- kelebihan numpy.array\n",
    "- memanggil nilai dari numpy.array\n",
    "- [Latihan] membuat angka dengan memanipulasi matriks\n",
    "- pemanggilan nilai array dengan menggunakan [:], dan penjelasan inklusif dan eksklusif\n",
    "- penggunaan numpy.zeros, np.zeros_like, np.ones_like, ..\n",
    "- penggunaan np.arange, np.linspace\n",
    "- [Latihan] membuat hidrograf superposisi dengan dimulai tinggi hujan efektif 4 cm, dan 4 cm (2 jam kemudian).\n",
    "- [Latihan] membuat hidrograf superposisi dengan tinggi hujan bervariasi setiap dua jam kemudian."
   ]
  },
  {
   "cell_type": "markdown",
   "metadata": {},
   "source": [
    "# Latihan 1"
   ]
  },
  {
   "cell_type": "code",
   "execution_count": 1,
   "metadata": {
    "ExecuteTime": {
     "end_time": "2018-02-24T06:48:59.168401Z",
     "start_time": "2018-02-24T06:48:58.662052Z"
    }
   },
   "outputs": [],
   "source": [
    "# Initialization and importing package\n",
    "# %reset -f\n",
    "import numpy as np\n",
    "import matplotlib.pyplot as plt\n",
    "%matplotlib inline\n",
    "\n",
    "# Latihan 2, membuat hidrograf superposisi\n",
    "# Hidrograf satuan dalam 1 cm, 2 jam\n",
    "hujan = 4 # tinggi hujan cm\n",
    "lagging = 2 # jam lagging\n",
    "\n",
    "uh = np.array([0, 0, 2.5, 5, 10, 8.75, 7.5, 6.25, 5, 3.75, 2.5, 0])\n",
    "absis = np.linspace (0, 22, 12) # Fungsi ini juga dapat dalam bentuk np.arange(0, 22 + 1, 2) dengan catatan batas akhirnya harus ditambah 1 karena bersifat ekslusif\n",
    "\n",
    "# UH\n",
    "\n",
    "uhlin = uh * hujan"
   ]
  },
  {
   "cell_type": "markdown",
   "metadata": {
    "hide_input": true
   },
   "source": [
    "```\n",
    "# Hitung superposisi\n",
    "# Cara 1 - uma 1\n",
    "alin = hujan * uh\n",
    "blin = np.insert(alin, 0, 0)\n",
    "alin = np.append(alin, 0)\n",
    "\n",
    "absisbaru = np.arange(0,24+1,2)\n",
    "\n",
    "superposisi = alin + blin\n",
    "```"
   ]
  },
  {
   "cell_type": "markdown",
   "metadata": {},
   "source": [
    "```\n",
    "# Hitung superposisi\n",
    "# Cara 2 - uma 2\n",
    "\n",
    "geser = 1\n",
    "alin = hujan * uh\n",
    "absisbaru = np.linspace (0, 24, 13)\n",
    "\n",
    "superposisi = np.zeros(13) # Buat array isinya 13 elemen\n",
    "superposisi[:len(alin)] = alin[:]\n",
    "superposisi[1:] = superposisi[1:] + alin[:]\n",
    "```"
   ]
  },
  {
   "cell_type": "code",
   "execution_count": 2,
   "metadata": {
    "ExecuteTime": {
     "end_time": "2018-02-24T06:48:59.182917Z",
     "start_time": "2018-02-24T06:48:59.170908Z"
    }
   },
   "outputs": [],
   "source": [
    "# Hitung superposisi\n",
    "# Cara 3 - akbar\n",
    "\n",
    "alin = hujan * uh\n",
    "absisbaru = np.linspace (0, 24, 13)\n",
    "\n",
    "uhabaru = np.zeros(13)\n",
    "uhabaru[:12] = alin\n",
    "uhbbaru = np.zeros(13)\n",
    "uhbbaru[1:] = alin\n",
    "\n",
    "superposisi = uhabaru + uhbbaru"
   ]
  },
  {
   "cell_type": "code",
   "execution_count": 3,
   "metadata": {
    "ExecuteTime": {
     "end_time": "2018-02-24T06:48:59.567555Z",
     "start_time": "2018-02-24T06:48:59.189421Z"
    }
   },
   "outputs": [
    {
     "data": {
      "image/png": "[encoded data removed]",
      "text/plain": [
       "<matplotlib.figure.Figure at 0x1fa90d7c2b0>"
      ]
     },
     "metadata": {},
     "output_type": "display_data"
    }
   ],
   "source": [
    "# Gambar plot unit hidrograf (4 cm, 2 jam)\n",
    "plt.plot(absis, uhlin, 'b--');\n",
    "\n",
    "# Gambar unit hidrograf (4 cm, 2 jam, lag: 2 jam)\n",
    "plt.plot(absis + lagging, uhlin, 'r--');\n",
    "\n",
    "# Gambar superposisi\n",
    "plt.plot(absisbaru, superposisi, 'g')\n",
    "\n",
    "# Atur plot\n",
    "plt.xlim(0,25)\n",
    "plt.ylim(0,100)\n",
    "plt.title('Unit Hidrograf')\n",
    "plt.ylabel('Debit (sq m/s)')\n",
    "plt.xlabel('Waktu (jam)')\n",
    "plt.legend(['UH A', 'UH B', 'UH A+B'], loc='best');  "
   ]
  },
  {
   "cell_type": "markdown",
   "metadata": {},
   "source": [
    "# Latihan 2\n",
    "\n",
    "Diasumsikan bahwa hujan berikutnya terjadi 2 jam setelah hujan sebelumnya. "
   ]
  },
  {
   "cell_type": "raw",
   "metadata": {
    "ExecuteTime": {
     "end_time": "2018-02-24T06:48:59.993836Z",
     "start_time": "2018-02-24T06:48:59.576059Z"
    }
   },
   "source": [
    "import numpy as np\n",
    "import matplotlib.pyplot as plt\n",
    "%matplotlib inline\n",
    "\n",
    "# hujan = [2,4,0,0,0,6,1,2,0,0,1] # cm\n",
    "# hujan = [4, 4, 0, 0, 0, 6]\n",
    "# hujan = [1, 1, 1, 1, 1, 1, 1, 1, 1, 1, 1, 1, 1]\n",
    "hujan = np.ones(20)\n",
    "\n",
    "lagging = 2 # jam\n",
    "satuanhujan = 2 # jam\n",
    "uh = np.array([0, 0, 2.5, 5, 10, 8.75, 7.5, 6.25, 5, 3.75, 2.5, 0]) # unit hidrograf\n",
    "abmax = 22\n",
    "ab_point = 12\n",
    "\n",
    "# geser = lagging/satuanhujan, \n",
    "# belum dipakai karena diasumsikan hujan berikutnya terjadi 2 jam kemudian dari awal hujan sebelumnya\n",
    "\n",
    "abmaxsup = abmax + int(len(hujan) * satuanhujan)\n",
    "ab_pointsup = ab_point + int(len(hujan))\n",
    "\n",
    "absisuh = np.linspace(0, abmax, ab_point)\n",
    "\n",
    "ab_akhir = np.linspace(0, abmaxsup, ab_pointsup)\n",
    "\n",
    "hasil = np.zeros([len(hujan), ab_pointsup])\n",
    "superposisi = np.zeros(ab_pointsup)\n",
    "# hasil = np.zeros(shape=(len(hujan), 12 + len(hujan)))\n",
    "\n",
    "# isi unit hidrograf linear (dikali dengan tinggi hujan)\n",
    "for i in range(len(hujan)):\n",
    "    uhlin = uh * hujan[i]\n",
    "    \n",
    "    bbel = len(uh) + i\n",
    "    bbel = int(bbel) # batas belakang\n",
    "    hasil[i,i:bbel] = uhlin\n",
    "    \n",
    "    plt.plot(ab_akhir,hasil[i,:],'b:')\n",
    "\n",
    "for j in range(ab_pointsup):\n",
    "    superposisi[j] = np.sum(hasil[:,j])\n",
    "\n",
    "plt.plot(ab_akhir, superposisi[:], 'g', lw=2)\n",
    "\n",
    "# Atur plot\n",
    "plt.xlim(0,abmaxsup)\n",
    "plt.ylim(0,np.amax(superposisi) + 10)\n",
    "plt.title('Unit Hidrograf')\n",
    "plt.ylabel('Debit (sq m/s)')\n",
    "plt.xlabel('Waktu (jam)');\n",
    "# plt.legend(['UH', 'UH B', 'UH A+B'], loc='best');  \n",
    "# print(hasil)"
   ]
  },
  {
   "cell_type": "code",
   "execution_count": 1,
   "metadata": {
    "ExecuteTime": {
     "end_time": "2018-03-01T05:00:38.277383Z",
     "start_time": "2018-03-01T05:00:27.941374Z"
    }
   },
   "outputs": [
    {
     "ename": "ValueError",
     "evalue": "could not broadcast input array from shape (15) into shape (14)",
     "output_type": "error",
     "traceback": [
      "\u001b[1;31m---------------------------------------------------------------------------\u001b[0m",
      "\u001b[1;31mValueError\u001b[0m                                Traceback (most recent call last)",
      "\u001b[1;32m<ipython-input-1-84e22c95ee95>\u001b[0m in \u001b[0;36m<module>\u001b[1;34m()\u001b[0m\n\u001b[0;32m     39\u001b[0m     \u001b[0mbbel\u001b[0m \u001b[1;33m=\u001b[0m \u001b[0mlen\u001b[0m\u001b[1;33m(\u001b[0m\u001b[0muh\u001b[0m\u001b[1;33m)\u001b[0m \u001b[1;33m+\u001b[0m \u001b[0mi\u001b[0m\u001b[1;33m\u001b[0m\u001b[0m\n\u001b[0;32m     40\u001b[0m     \u001b[0mbbel\u001b[0m \u001b[1;33m=\u001b[0m \u001b[0mint\u001b[0m\u001b[1;33m(\u001b[0m\u001b[0mbbel\u001b[0m\u001b[1;33m)\u001b[0m  \u001b[1;31m# batas belakang\u001b[0m\u001b[1;33m\u001b[0m\u001b[0m\n\u001b[1;32m---> 41\u001b[1;33m     \u001b[0mhasil\u001b[0m\u001b[1;33m[\u001b[0m\u001b[0mi\u001b[0m\u001b[1;33m,\u001b[0m \u001b[0mi\u001b[0m\u001b[1;33m:\u001b[0m\u001b[0mbbel\u001b[0m\u001b[1;33m]\u001b[0m \u001b[1;33m=\u001b[0m \u001b[0muhlin\u001b[0m\u001b[1;33m\u001b[0m\u001b[0m\n\u001b[0m\u001b[0;32m     42\u001b[0m \u001b[1;33m\u001b[0m\u001b[0m\n\u001b[0;32m     43\u001b[0m     \u001b[0mplt\u001b[0m\u001b[1;33m.\u001b[0m\u001b[0mplot\u001b[0m\u001b[1;33m(\u001b[0m\u001b[0mab_akhir\u001b[0m\u001b[1;33m,\u001b[0m \u001b[0mhasil\u001b[0m\u001b[1;33m[\u001b[0m\u001b[0mi\u001b[0m\u001b[1;33m,\u001b[0m \u001b[1;33m:\u001b[0m\u001b[1;33m]\u001b[0m\u001b[1;33m,\u001b[0m \u001b[1;34m'b:'\u001b[0m\u001b[1;33m)\u001b[0m\u001b[1;33m\u001b[0m\u001b[0m\n",
      "\u001b[1;31mValueError\u001b[0m: could not broadcast input array from shape (15) into shape (14)"
     ]
    },
    {
     "data": {
      "image/png": "[encoded data removed]",
      "text/plain": [
       "<matplotlib.figure.Figure at 0x2a6ac91b978>"
      ]
     },
     "metadata": {},
     "output_type": "display_data"
    }
   ],
   "source": [
    "import numpy as np\n",
    "import matplotlib.pyplot as plt\n",
    "%matplotlib inline\n",
    "\n",
    "# hujan = [2,4,0,0,0,6,1,2,0,0,1] # cm\n",
    "# hujan = [4, 4, 0, 0, 0, 6]\n",
    "# hujan = [1, 1, 1, 1, 1, 1, 1, 1, 1, 1, 1, 1, 1]\n",
    "hujanopsi1 = [5.6, 4.6, 4, 3.4, 2.4]\n",
    "hujanopsi2 = [2.3, 3.2, 4.2, 5.2, 2.6, 2.4]\n",
    "hujanopsi3 = [2.4, 3.2, 3.8, 4.8, 5.8]\n",
    "\n",
    "hujan = hujanopsi1\n",
    "\n",
    "lagging = 2  # jam\n",
    "satuanhujan = 2  # jam\n",
    "uh = np.array([0, 100, 200, 400, 800, 700, 600, 500, 400,\n",
    "               300, 200, 100, 0, 0, 0])  # unit hidrograf\n",
    "abmax = 14\n",
    "ab_point = 12\n",
    "\n",
    "# geser = lagging/satuanhujan,\n",
    "# belum dipakai karena diasumsikan hujan berikutnya terjadi 2 jam kemudian dari awal hujan sebelumnya\n",
    "\n",
    "abmaxsup = abmax + int(len(hujan) * satuanhujan)\n",
    "ab_pointsup = ab_point + int(len(hujan))\n",
    "\n",
    "absisuh = np.linspace(0, abmax, ab_point)\n",
    "\n",
    "ab_akhir = np.linspace(0, abmaxsup, ab_pointsup)\n",
    "\n",
    "hasil = np.zeros([len(hujan), ab_pointsup])\n",
    "superposisi = np.zeros(ab_pointsup)\n",
    "# hasil = np.zeros(shape=(len(hujan), 12 + len(hujan)))\n",
    "\n",
    "# isi unit hidrograf linear (dikali dengan tinggi hujan)\n",
    "for i in range(len(hujan)):\n",
    "    uhlin = uh * hujan[i]\n",
    "\n",
    "    bbel = len(uh) + i\n",
    "    bbel = int(bbel)  # batas belakang\n",
    "    hasil[i, i:bbel] = uhlin\n",
    "\n",
    "    plt.plot(ab_akhir, hasil[i, :], 'b:')\n",
    "\n",
    "for j in range(ab_pointsup):\n",
    "    superposisi[j] = np.sum(hasil[:, j])\n",
    "\n",
    "plt.plot(ab_akhir, superposisi[:], 'g', lw=2)\n",
    "\n",
    "# Atur plot\n",
    "plt.xlim(0, abmaxsup)\n",
    "plt.ylim(0, np.amax(superposisi) + 10)\n",
    "plt.title('Unit Hidrograf')\n",
    "plt.ylabel('Debit (sq m/s)')\n",
    "plt.xlabel('Waktu (jam)')\n",
    "# plt.legend(['UH', 'UH B', 'UH A+B'], loc='best');\n",
    "# print(hasil)"
   ]
  },
  {
   "cell_type": "code",
   "execution_count": null,
   "metadata": {},
   "outputs": [],
   "source": []
  }
 ],
 "metadata": {
  "hide_input": false,
  "kernelspec": {
   "display_name": "Python 3",
   "language": "python",
   "name": "python3"
  },
  "language_info": {
   "codemirror_mode": {
    "name": "ipython",
    "version": 3
   },
   "file_extension": ".py",
   "mimetype": "text/x-python",
   "name": "python",
   "nbconvert_exporter": "python",
   "pygments_lexer": "ipython3",
   "version": "3.6.4"
  },
  "toc": {
   "nav_menu": {},
   "number_sections": true,
   "sideBar": true,
   "skip_h1_title": false,
   "title_cell": "Table of Contents",
   "title_sidebar": "Contents",
   "toc_cell": false,
   "toc_position": {
    "height": "calc(100% - 180px)",
    "left": "10px",
    "top": "150px",
    "width": "273px"
   },
   "toc_section_display": true,
   "toc_window_display": false
  },
  "varInspector": {
   "cols": {
    "lenName": 16,
    "lenType": 16,
    "lenVar": 40
   },
   "kernels_config": {
    "python": {
     "delete_cmd_postfix": "",
     "delete_cmd_prefix": "del ",
     "library": "var_list.py",
     "varRefreshCmd": "print(var_dic_list())"
    },
    "r": {
     "delete_cmd_postfix": ") ",
     "delete_cmd_prefix": "rm(",
     "library": "var_list.r",
     "varRefreshCmd": "cat(var_dic_list()) "
    }
   },
   "types_to_exclude": [
    "module",
    "function",
    "builtin_function_or_method",
    "instance",
    "_Feature"
   ],
   "window_display": false
  }
 },
 "nbformat": 4,
 "nbformat_minor": 2
}
