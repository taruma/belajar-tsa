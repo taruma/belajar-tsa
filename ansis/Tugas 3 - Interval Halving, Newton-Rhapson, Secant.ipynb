{
 "cells": [
  {
   "cell_type": "markdown",
   "metadata": {},
   "source": [
    "# Tugas 3 - Analisis Sumber Daya Air\n",
    "\n",
    "Suatu saluran persegiempat mempunyai lebar $2.5\\ meter$ dan mempunyai kemiringan dasar saluran sama dengan $1:400$. \n",
    "Jika konstanta Chezy adalah 30 dalam satuan SI, tentukan kedalaman normal jika debit aliran adalah $0.80\\ m^3/detik$. TEntukan solusi dengan menggunakan **Metoda Interval Halving, Newton Rhapson, dan Secant**. \n",
    "\n",
    "Petunjuk: $Q = AC\\sqrt{RS},\\ A=by_n, \\text{dan}\\ \\large{y_{n1} = y_{n0}-\\frac{f(y_{n0})}{f'(y_{n0})}}$, untuk harga awal $y_{n0}$ ditentukan dengan asumsi kecepatan aliran $v = 1 m/detik$.\n",
    "\n",
    "\n"
   ]
  },
  {
   "cell_type": "code",
   "execution_count": 7,
   "metadata": {
    "ExecuteTime": {
     "end_time": "2018-04-25T06:38:07.862630Z",
     "start_time": "2018-04-25T06:38:07.844119Z"
    }
   },
   "outputs": [],
   "source": [
    "# Diketahui:\n",
    "L = 2.5 # (m) - Lebar Saluran\n",
    "S = 1/400 # (m/m) - Kemiringan dasar Saluran\n",
    "C = 30 # (..) - Chezy\n",
    "Q = 0.80 # (m3/det) - Debit Aliran\n",
    "\n",
    "# Asumsikan\n",
    "v = 1 # (m3/det)\n",
    "\n",
    "from math import sqrt\n",
    "\n",
    "def Area(b, y):\n",
    "    return b*y\n",
    "\n",
    "def Q(A, C, R, S):\n",
    "    return A*C*sqrt(R*S)\n"
   ]
  },
  {
   "cell_type": "code",
   "execution_count": null,
   "metadata": {},
   "outputs": [],
   "source": []
  }
 ],
 "metadata": {
  "hide_input": false,
  "kernelspec": {
   "display_name": "Python 3",
   "language": "python",
   "name": "python3"
  },
  "language_info": {
   "codemirror_mode": {
    "name": "ipython",
    "version": 3
   },
   "file_extension": ".py",
   "mimetype": "text/x-python",
   "name": "python",
   "nbconvert_exporter": "python",
   "pygments_lexer": "ipython3",
   "version": "3.6.4"
  },
  "toc": {
   "nav_menu": {},
   "number_sections": true,
   "sideBar": true,
   "skip_h1_title": false,
   "title_cell": "Table of Contents",
   "title_sidebar": "Contents",
   "toc_cell": false,
   "toc_position": {},
   "toc_section_display": true,
   "toc_window_display": false
  },
  "varInspector": {
   "cols": {
    "lenName": 16,
    "lenType": 16,
    "lenVar": 40
   },
   "kernels_config": {
    "python": {
     "delete_cmd_postfix": "",
     "delete_cmd_prefix": "del ",
     "library": "var_list.py",
     "varRefreshCmd": "print(var_dic_list())"
    },
    "r": {
     "delete_cmd_postfix": ") ",
     "delete_cmd_prefix": "rm(",
     "library": "var_list.r",
     "varRefreshCmd": "cat(var_dic_list()) "
    }
   },
   "types_to_exclude": [
    "module",
    "function",
    "builtin_function_or_method",
    "instance",
    "_Feature"
   ],
   "window_display": false
  }
 },
 "nbformat": 4,
 "nbformat_minor": 2
}
