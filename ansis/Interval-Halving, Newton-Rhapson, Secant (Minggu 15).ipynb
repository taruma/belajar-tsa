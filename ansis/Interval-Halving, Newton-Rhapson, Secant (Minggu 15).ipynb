{
 "cells": [
  {
   "cell_type": "markdown",
   "metadata": {},
   "source": [
    "_Latihan soal ini dari perkuliahan Analisis Sumber Daya Air (SI-6232) tahun 2018 Semester Genap diajarkan oleh Dr. Dhemi Harlan ST, MT, MSc._\n",
    "\n",
    "_Kode dibawah ini dibuat oleh Taruma S.M._\n",
    "\n",
    "# Metoda Secant\n",
    "> Tentukan solusi positif dari $f(x) = x - 2\\ \\sin{x} = 0$ dengan metode secant, mulai dari $x_0 = 2, x_1 = 1.9$\n",
    "\n",
    "Penyelesaian:\n",
    "Solusi persamaan :\n",
    "$$x_{n+1} = x_n - \\frac{(x_n-2\\sin{x_n})(x_n-x_{n-1})}{x_n-x_{n-1}+2(\\sin{x_{n-1}}-\\sin{x_n})}=x_n-\\frac{N_n}{D_n}$$"
   ]
  },
  {
   "cell_type": "code",
   "execution_count": 107,
   "metadata": {
    "ExecuteTime": {
     "end_time": "2018-04-25T08:51:36.559615Z",
     "start_time": "2018-04-25T08:51:36.501454Z"
    }
   },
   "outputs": [
    {
     "name": "stdout",
     "output_type": "stream",
     "text": [
      "=================================================================================\n",
      "|                   Solusi Numerik Menggunakan Metoda Secant                    |\n",
      "=================================================================================\n",
      "|     n      |  x_{n-1}   |    x_n     |    N_n     |    D_n     | x_{n+1}-x_n  |\n",
      "=================================================================================\n",
      "|     1      | +2.0000000 | +1.9000000 | -0.0007400 | -0.1740053 | -0.004252643 |\n",
      "|     2      | +1.9000000 | +1.8957474 | -0.0000018 | -0.0069852 | -0.000252433 |\n",
      "|     3      | +1.8957474 | +1.8954949 | -0.0000000 | -0.0004136 | -0.000000658 |\n",
      "|     4      | +1.8954949 | +1.8954943 | -0.0000000 | -0.0000011 | -0.000000000 |\n",
      "|     5      | +1.8954943 | +1.8954943 | -0.0000000 | -0.0000000 | +0.000000000 |\n",
      "=================================================================================\n",
      "Maka diperoleh nilai akar-akarnya =   1.895494\n"
     ]
    }
   ],
   "source": [
    "from math import sin\n",
    "\n",
    "x0, x1 = 2, 1.9\n",
    "\n",
    "lebar_text = 10*5+12+2*6+7\n",
    "print('='*lebar_text)\n",
    "print('|{:^{n:d}s}|'.format(\n",
    "    'Solusi Numerik Menggunakan Metoda Secant', n=lebar_text-2))\n",
    "print('='*(10*5+12+2*6+7))\n",
    "print('| {:^10s} | {:^10s} | {:^10s} | {:^10s} | {:^10s} | {:^12s} |'.format(\n",
    "    'n', 'x_{n-1}', 'x_n', 'N_n', 'D_n', 'x_{n+1}-x_n'))\n",
    "print('='*(10*5+12+2*6+7))\n",
    "\n",
    "iterasi = 5\n",
    "\n",
    "xn = x1\n",
    "xn_m1 = x0\n",
    "xn_p1 = 0\n",
    "for n in range(1, iterasi+1):\n",
    "    Nn = (xn - 2*sin(xn))*(xn - xn_m1)\n",
    "    Dn = (xn - xn_m1) + 2*(sin(xn_m1) - sin(xn))\n",
    "    xn_p1 = xn - Nn / Dn\n",
    "    dx = xn_p1-xn\n",
    "\n",
    "    print('| {:^10d} | {:^+1.7f} | {:^+1.7f} | {:^+1.7f} | {:^+1.7f} | {:^+1.9f} |'.format(n, xn_m1, xn, Nn, Dn, dx))\n",
    "\n",
    "    xn_m1 = xn\n",
    "    xn = xn_p1\n",
    "\n",
    "print('='*(10*5+12+2*6+7))\n",
    "print('Maka diperoleh nilai akar-akarnya = {:10.6f}'.format(xn))"
   ]
  },
  {
   "cell_type": "markdown",
   "metadata": {},
   "source": [
    "# Metode Newton-Rhapson\n",
    "\n",
    "> Tentukan sebuah akar persamaan dari fungsi berikut: $f(x) = x^3 - 3.5x^2+2x-10$\n",
    "\n",
    "Solusi:\n",
    "Persamaan umumnya:\n",
    "$$\\large{x_{k+1} = x_k - \\frac{f(x_k)}{f'(x_k)}}$$"
   ]
  },
  {
   "cell_type": "code",
   "execution_count": 115,
   "metadata": {
    "ExecuteTime": {
     "end_time": "2018-04-25T08:54:06.721287Z",
     "start_time": "2018-04-25T08:54:06.684264Z"
    }
   },
   "outputs": [
    {
     "name": "stdout",
     "output_type": "stream",
     "text": [
      "==================================================================\n",
      "|              Solusi Numerik Metoda Newton Rhapson              |\n",
      "==================================================================\n",
      "|     k      |    x_k     |   f(x_k)   |  f'(x_k)   |  x_{k+1}   |\n",
      "==================================================================\n",
      "|     1      |   3.00000  |  -8.50000  |   8.00000  |   4.06250  | \n",
      "|     2      |   4.06250  |   7.40845  |  23.07422  |   3.74143  | \n",
      "|     3      |   3.74143  |   0.86246  |  17.80488  |   3.69299  | \n",
      "|     4      |   3.69299  |   0.01801  |  17.06359  |   3.69193  | \n",
      "|     5      |   3.69193  |   0.00001  |  17.04760  |   3.69193  | \n",
      "|     6      |   3.69193  |   0.00000  |  17.04759  |   3.69193  | \n",
      "==================================================================\n",
      "Maka diperoleh nilai akar-akarnya =   3.691934\n"
     ]
    }
   ],
   "source": [
    "# Defining function\n",
    "def f(x):  # Fungsi f(x)\n",
    "    return x**3 - 3.5*x**2 + 2*x - 10\n",
    "\n",
    "\n",
    "def f_d(x):  # Turunan Fungsi f(x) -> f'(x)\n",
    "    return 3*x**2 - 7*x + 2\n",
    "\n",
    "\n",
    "iterasi = 6  # Iteration\n",
    "xk = 3  # x_k\n",
    "\n",
    "lebar_text = 12*5 + 6\n",
    "print('='*lebar_text)\n",
    "print('|{:^{n:d}s}|'.format('Solusi Numerik Metoda Newton Rhapson', n=lebar_text-2))\n",
    "print('='*lebar_text)\n",
    "print('| {:^{n:d}s} | {:^{n:d}s} | {:^{n:d}s} | {:^{n:d}s} | {:^{n:d}s} |'.format(\n",
    "    'k', 'x_k', 'f(x_k)', 'f\\'(x_k)', 'x_{k+1}', n=10))\n",
    "print('='*lebar_text)\n",
    "\n",
    "for i in range(1, iterasi+1):\n",
    "    xk_p1 = xk - f(xk)/f_d(xk)\n",
    "    print('| {:^{n:d}d} | {:^ {f1:d}.{f2:d}f} | {:^ {f1:d}.{f2:d}f} | {:^ {f1:d}.{f2:d}f} | {:^ {f1:d}.{f2:d}f} | '.format(i,\n",
    "                                                                                                                           xk, f(xk), f_d(xk), xk_p1, n=10, f1=10, f2=5))\n",
    "    xk = xk_p1\n",
    "print('='*lebar_text)\n",
    "print('Maka diperoleh nilai akar-akarnya = {:10.6f}'.format(xk))"
   ]
  },
  {
   "cell_type": "markdown",
   "metadata": {},
   "source": [
    "# Metode Interval-halving\n",
    "\n",
    "> Gunakan metode interval-halving, fungsi berikut didapat mempunyai suatu akar real antara x = 1 dan x = 3; tentukan akar dari: $f(x) = x^3-5x^2-2x+10$\n",
    "\n",
    "Solusi:\n",
    "\n",
    "Evaluasi fungsi pada kedua nilai awal, $x_1 = 1 \\text{ dan } x_2 = 3$\n",
    "$$\\begin{align} x_1 &=& 1 &\\rightarrow& f(x_1) &=& 4 \\\\\n",
    "x_2 &=& 3 &\\rightarrow& f(x_2) &=& -14 \\\\ \\end{align}$$"
   ]
  },
  {
   "cell_type": "code",
   "execution_count": 120,
   "metadata": {
    "ExecuteTime": {
     "end_time": "2018-04-25T09:23:07.480052Z",
     "start_time": "2018-04-25T09:23:07.377967Z"
    }
   },
   "outputs": [
    {
     "name": "stdout",
     "output_type": "stream",
     "text": [
      "======================================================================\n",
      "Periksa nilai akarnya berada diantara xa dan xb\n",
      "f(x_a) x f(x_b) < 0 === OK \n",
      "\tdengan nilai f(x_a) = 4 dan f(x_b) = -14\n",
      "======================================================================\n",
      "\n",
      "\n",
      "============================================================================================\n",
      "|                          Solusi Numerik Metoda Interval Halving                          |\n",
      "============================================================================================\n",
      "|     n      |    x_a     |    x_b     |   f(x_a)   |   f(x_b)   |    x_h     |   f(x_h)   |\n",
      "============================================================================================\n",
      "|     1      |   1.00000  |   3.00000  |   4.00000  | -14.00000  |   2.00000  |  -6.00000  |\n",
      "|     2      |   1.00000  |   2.00000  |   4.00000  |  -6.00000  |   1.50000  |  -0.87500  |\n",
      "|     3      |   1.00000  |   1.50000  |   4.00000  |  -0.87500  |   1.25000  |   1.64062  |\n",
      "|     4      |   1.25000  |   1.50000  |   1.64062  |  -0.87500  |   1.37500  |   0.39648  |\n",
      "|     5      |   1.37500  |   1.50000  |   0.39648  |  -0.87500  |   1.43750  |  -0.23657  |\n",
      "|     6      |   1.37500  |   1.43750  |   0.39648  |  -0.23657  |   1.40625  |   0.08072  |\n",
      "============================================================================================\n",
      "Maka diperoleh nilai akar-akarnya =   1.406250\n"
     ]
    }
   ],
   "source": [
    "def f(x):\n",
    "    return x**3 - 5*x**2 - 2*x + 10\n",
    "\n",
    "def newline(x=30):\n",
    "    print('='*x)\n",
    "\n",
    "x1, x2 = 1, 3\n",
    "iterasi = 6\n",
    "xa, xb = x1, x2\n",
    "\n",
    "pad = 70\n",
    "newline(pad)\n",
    "print('Periksa nilai akarnya berada diantara xa dan xb')\n",
    "if f(xa)*f(xb) < 0:\n",
    "    print('f(x_a) x f(x_b) < 0 === OK \\n\\tdengan nilai f(x_a) = {fxa} dan f(x_b) = {fxb}'.format(\n",
    "        fxa=f(xa), fxb=f(xb)))\n",
    "else:\n",
    "    print('f(x_a) x f(x_b) < 0 === NOT OK \\n\\ttidak akan ditemukan akarnya diantara {xa} dan {xb}'.format(\n",
    "        xa=xa, xb=xb))\n",
    "newline(pad)\n",
    "print('\\n')\n",
    "\n",
    "lebar_text = 12*7 + 8\n",
    "print('='*lebar_text)\n",
    "print('|{:^{n:d}s}|'.format('Solusi Numerik Metoda Interval Halving', n=lebar_text-2))\n",
    "print('='*lebar_text)\n",
    "print('| {:^{n:d}s} | {:^{n:d}s} | {:^{n:d}s} | {:^{n:d}s} | {:^{n:d}s} | {:^{n:d}s} | {:^{n:d}s} |'.format(\n",
    "    'n', 'x_a', 'x_b', 'f(x_a)', 'f(x_b)', 'x_h', 'f(x_h)', n=10))\n",
    "print('='*lebar_text)\n",
    "\n",
    "for i in range(1, iterasi+1):\n",
    "    fxa, fxb = f(xa), f(xb)\n",
    "    xh = (xa+xb)/2\n",
    "    fxh = f(xh)\n",
    "\n",
    "    print('| {:^{n:d}d} | {:^ {f1:d}.{f2:d}f} | {:^ {f1:d}.{f2:d}f} | {:^ {f1:d}.{f2:d}f} | {:^ {f1:d}.{f2:d}f} | {:^ {f1:d}.{f2:d}f} | {:^ {f1:d}.{f2:d}f} |'.format(\n",
    "        i, xa, xb, f(xa), f(xb), xh, f(xh), n=10, f1=10, f2=5))\n",
    "    if fxa*fxh < 0:\n",
    "        xb = xh\n",
    "    elif fxb*fxh < 0:\n",
    "        xa = xh\n",
    "print('='*lebar_text)\n",
    "print('Maka diperoleh nilai akar-akarnya = {:10.6f}'.format(xh))"
   ]
  },
  {
   "cell_type": "code",
   "execution_count": null,
   "metadata": {},
   "outputs": [],
   "source": []
  }
 ],
 "metadata": {
  "hide_input": false,
  "kernelspec": {
   "display_name": "Python 3",
   "language": "python",
   "name": "python3"
  },
  "language_info": {
   "codemirror_mode": {
    "name": "ipython",
    "version": 3
   },
   "file_extension": ".py",
   "mimetype": "text/x-python",
   "name": "python",
   "nbconvert_exporter": "python",
   "pygments_lexer": "ipython3",
   "version": "3.6.4"
  },
  "toc": {
   "nav_menu": {},
   "number_sections": true,
   "sideBar": true,
   "skip_h1_title": false,
   "title_cell": "Table of Contents",
   "title_sidebar": "Contents",
   "toc_cell": false,
   "toc_position": {},
   "toc_section_display": true,
   "toc_window_display": false
  },
  "varInspector": {
   "cols": {
    "lenName": 16,
    "lenType": 16,
    "lenVar": 40
   },
   "kernels_config": {
    "python": {
     "delete_cmd_postfix": "",
     "delete_cmd_prefix": "del ",
     "library": "var_list.py",
     "varRefreshCmd": "print(var_dic_list())"
    },
    "r": {
     "delete_cmd_postfix": ") ",
     "delete_cmd_prefix": "rm(",
     "library": "var_list.r",
     "varRefreshCmd": "cat(var_dic_list()) "
    }
   },
   "types_to_exclude": [
    "module",
    "function",
    "builtin_function_or_method",
    "instance",
    "_Feature"
   ],
   "window_display": false
  }
 },
 "nbformat": 4,
 "nbformat_minor": 2
}
