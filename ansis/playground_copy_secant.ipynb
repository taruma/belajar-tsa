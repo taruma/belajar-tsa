{
 "cells": [
  {
   "cell_type": "markdown",
   "metadata": {},
   "source": [
    "_Latihan soal ini dari perkuliahan Analisis Sumber Daya Air (SI-6232) tahun 2018 Semester Genap diajarkan oleh Dr. Dhemi Harlan ST, MT, MSc._\n",
    "\n",
    "_Kode dibawah ini dibuat oleh Taruma S.M._\n",
    "\n",
    "# Metoda Secant\n",
    "> Tentukan solusi positif dari $f(x) = x - 2\\ \\sin{x} = 0$ dengan metode secant, mulai dari $x_0 = 2, x_1 = 1.9$\n",
    "\n",
    "Penyelesaian:\n",
    "Solusi persamaan :\n",
    "$$x_{n+1} = x_n - \\frac{(x_n-2\\sin{x_n})(x_n-x_{n-1})}{x_n-x_{n-1}+2(\\sin{x_{n-1}}-\\sin{x_n})}=x_n-\\frac{N_n}{D_n}$$"
   ]
  },
  {
   "cell_type": "code",
   "execution_count": 107,
   "metadata": {
    "ExecuteTime": {
     "end_time": "2018-04-25T08:51:36.559615Z",
     "start_time": "2018-04-25T08:51:36.501454Z"
    }
   },
   "outputs": [
    {
     "name": "stdout",
     "output_type": "stream",
     "text": [
      "=================================================================================\n",
      "|                   Solusi Numerik Menggunakan Metoda Secant                    |\n",
      "=================================================================================\n",
      "|     n      |  x_{n-1}   |    x_n     |    N_n     |    D_n     | x_{n+1}-x_n  |\n",
      "=================================================================================\n",
      "|     1      | +2.0000000 | +1.9000000 | -0.0007400 | -0.1740053 | -0.004252643 |\n",
      "|     2      | +1.9000000 | +1.8957474 | -0.0000018 | -0.0069852 | -0.000252433 |\n",
      "|     3      | +1.8957474 | +1.8954949 | -0.0000000 | -0.0004136 | -0.000000658 |\n",
      "|     4      | +1.8954949 | +1.8954943 | -0.0000000 | -0.0000011 | -0.000000000 |\n",
      "|     5      | +1.8954943 | +1.8954943 | -0.0000000 | -0.0000000 | +0.000000000 |\n",
      "=================================================================================\n",
      "Maka diperoleh nilai akar-akarnya =   1.895494\n"
     ]
    }
   ],
   "source": [
    "from math import sin\n",
    "\n",
    "x0, x1 = 2, 1.9\n",
    "\n",
    "lebar_text = 10*5+12+2*6+7\n",
    "print('='*lebar_text)\n",
    "print('|{:^{n:d}s}|'.format(\n",
    "    'Solusi Numerik Menggunakan Metoda Secant', n=lebar_text-2))\n",
    "print('='*(10*5+12+2*6+7))\n",
    "print('| {:^10s} | {:^10s} | {:^10s} | {:^10s} | {:^10s} | {:^12s} |'.format(\n",
    "    'n', 'x_{n-1}', 'x_n', 'N_n', 'D_n', 'x_{n+1}-x_n'))\n",
    "print('='*(10*5+12+2*6+7))\n",
    "\n",
    "iterasi = 5\n",
    "\n",
    "xn = x1\n",
    "xn_m1 = x0\n",
    "xn_p1 = 0\n",
    "for n in range(1, iterasi+1):\n",
    "    Nn = (xn - 2*sin(xn))*(xn - xn_m1)\n",
    "    Dn = (xn - xn_m1) + 2*(sin(xn_m1) - sin(xn))\n",
    "    xn_p1 = xn - Nn / Dn\n",
    "    dx = xn_p1-xn\n",
    "\n",
    "    print('| {:^10d} | {:^+1.7f} | {:^+1.7f} | {:^+1.7f} | {:^+1.7f} | {:^+1.9f} |'.format(n, xn_m1, xn, Nn, Dn, dx))\n",
    "\n",
    "    xn_m1 = xn\n",
    "    xn = xn_p1\n",
    "\n",
    "print('='*(10*5+12+2*6+7))\n",
    "print('Maka diperoleh nilai akar-akarnya = {:10.6f}'.format(xn))"
   ]
  },
  {
   "cell_type": "markdown",
   "metadata": {},
   "source": [
    "# Metode Newton-Rhapson\n",
    "\n",
    "> Tentukan sebuah akar persamaan dari fungsi berikut: $f(x) = x^3 - 3.5x^2+2x-10$\n",
    "\n",
    "Solusi:\n",
    "Persamaan umumnya:\n",
    "$$\\large{x_{k+1} = x_k - \\frac{f(x_k)}{f'(x_k)}}$$"
   ]
  },
  {
   "cell_type": "code",
   "execution_count": 13,
   "metadata": {
    "ExecuteTime": {
     "end_time": "2018-04-25T12:15:52.815875Z",
     "start_time": "2018-04-25T12:15:52.742321Z"
    }
   },
   "outputs": [
    {
     "name": "stdout",
     "output_type": "stream",
     "text": [
      "==================================================================\n",
      "|              Solusi Numerik Metoda Newton Rhapson              |\n",
      "==================================================================\n",
      "|     k      |    x_k     |   f(x_k)   |  f'(x_k)   |  x_{k+1}   |\n",
      "==================================================================\n",
      "|     1      |   3.00000  |   9.76753  |   4.04053  |   0.58261  | \n",
      "|     2      |   0.58261  |   0.57726  |   3.17017  |   0.40052  | \n",
      "|     3      |   0.40052  |   0.02719  |   2.84739  |   0.39097  | \n",
      "|     4      |   0.39097  |   0.00010  |   2.82592  |   0.39093  | \n",
      "|     5      |   0.39093  |   0.00000  |   2.82584  |   0.39093  | \n",
      "|     6      |   0.39093  |  -0.00000  |   2.82584  |   0.39093  | \n",
      "==================================================================\n",
      "Maka diperoleh nilai akar-akarnya =   0.390930\n"
     ]
    }
   ],
   "source": [
    "# Defining function\n",
    "def f(y):  # Fungsi f(x)\n",
    "    return C*b*y*sqrt(b*s*y/(b + 2*y)) - Q\n",
    "\n",
    "\n",
    "def f_d(y):  # Turunan Fungsi f(x) -> f'(x)\n",
    "    return C*b*sqrt(b*s*y/(b + 2*y))*(3*b + 4*y)/(2*(b + 2*y))\n",
    "\n",
    "# Diketahui:\n",
    "b = 2.5 # (m) - Lebar Saluran\n",
    "s = 1/400 # (m/m) - Kemiringan dasar Saluran\n",
    "C = 30 # (..) - Chezy\n",
    "Q = 0.80 # (m3/det) - Debit Aliran\n",
    "\n",
    "# Asumsikan\n",
    "V = 1 # (m3/det)\n",
    "\n",
    "iterasi = 6  # Iteration\n",
    "xk = 3  # x_k\n",
    "\n",
    "lebar_text = 12*5 + 6\n",
    "print('='*lebar_text)\n",
    "print('|{:^{n:d}s}|'.format('Solusi Numerik Metoda Newton Rhapson', n=lebar_text-2))\n",
    "print('='*lebar_text)\n",
    "print('| {:^{n:d}s} | {:^{n:d}s} | {:^{n:d}s} | {:^{n:d}s} | {:^{n:d}s} |'.format(\n",
    "    'k', 'x_k', 'f(x_k)', 'f\\'(x_k)', 'x_{k+1}', n=10))\n",
    "print('='*lebar_text)\n",
    "\n",
    "for i in range(1, iterasi+1):\n",
    "    xk_p1 = xk - f(xk)/f_d(xk)\n",
    "    print('| {:^{n:d}d} | {:^ {f1:d}.{f2:d}f} | {:^ {f1:d}.{f2:d}f} | {:^ {f1:d}.{f2:d}f} | {:^ {f1:d}.{f2:d}f} | '.format(i,\n",
    "                                                                                                                           xk, f(xk), f_d(xk), xk_p1, n=10, f1=10, f2=5))\n",
    "    xk = xk_p1\n",
    "print('='*lebar_text)\n",
    "print('Maka diperoleh nilai akar-akarnya = {:10.6f}'.format(xk))"
   ]
  },
  {
   "cell_type": "markdown",
   "metadata": {},
   "source": [
    "# Metode Interval-halving\n",
    "\n",
    "> Gunakan metode interval-halving, fungsi berikut didapat mempunyai suatu akar real antara x = 1 dan x = 3; tentukan akar dari: $f(x) = x^3-5x^2-2x+10$\n",
    "\n",
    "Solusi:\n",
    "\n",
    "Evaluasi fungsi pada kedua nilai awal, $x_1 = 1 \\text{ dan } x_2 = 3$\n",
    "$$\\begin{align} x_1 &=& 1 &\\rightarrow& f(x_1) &=& 4 \\\\\n",
    "x_2 &=& 3 &\\rightarrow& f(x_2) &=& -14 \\\\ \\end{align}$$"
   ]
  },
  {
   "cell_type": "code",
   "execution_count": 14,
   "metadata": {
    "ExecuteTime": {
     "end_time": "2018-04-25T12:26:01.045261Z",
     "start_time": "2018-04-25T12:26:00.917177Z"
    }
   },
   "outputs": [
    {
     "name": "stdout",
     "output_type": "stream",
     "text": [
      "======================================================================\n",
      "Periksa nilai akarnya berada diantara xa dan xb\n",
      "f(x_a) x f(x_b) < 0 === OK \n",
      "\tdengan nilai f(x_a) = -0.19429464184991752 dan f(x_b) = 0.007042937550998607\n",
      "======================================================================\n",
      "\n",
      "\n",
      "============================================================================================\n",
      "|                          Solusi Numerik Metoda Interval Halving                          |\n",
      "============================================================================================\n",
      "|     n      |    x_a     |    x_b     |   f(x_a)   |   f(x_b)   |    x_h     |   f(x_h)   |\n",
      "============================================================================================\n",
      "|     1      |   0.32000  |   0.39342  |  -0.19429  |   0.00704  |   0.35671  |  -0.09532  |\n",
      "|     2      |   0.35671  |   0.39342  |  -0.09532  |   0.00704  |   0.37506  |  -0.04454  |\n",
      "|     3      |   0.37506  |   0.39342  |  -0.04454  |   0.00704  |   0.38424  |  -0.01885  |\n",
      "|     4      |   0.38424  |   0.39342  |  -0.01885  |   0.00704  |   0.38883  |  -0.00593  |\n",
      "|     5      |   0.38883  |   0.39342  |  -0.00593  |   0.00704  |   0.39113  |   0.00055  |\n",
      "|     6      |   0.38883  |   0.39113  |  -0.00593  |   0.00055  |   0.38998  |  -0.00269  |\n",
      "|     7      |   0.38998  |   0.39113  |  -0.00269  |   0.00055  |   0.39055  |  -0.00107  |\n",
      "|     8      |   0.39055  |   0.39113  |  -0.00107  |   0.00055  |   0.39084  |  -0.00026  |\n",
      "|     9      |   0.39084  |   0.39113  |  -0.00026  |   0.00055  |   0.39098  |   0.00015  |\n",
      "|     10     |   0.39084  |   0.39098  |  -0.00026  |   0.00015  |   0.39091  |  -0.00006  |\n",
      "|     11     |   0.39091  |   0.39098  |  -0.00006  |   0.00015  |   0.39095  |   0.00005  |\n",
      "|     12     |   0.39091  |   0.39095  |  -0.00006  |   0.00005  |   0.39093  |  -0.00000  |\n",
      "|     13     |   0.39093  |   0.39095  |  -0.00000  |   0.00005  |   0.39094  |   0.00002  |\n",
      "|     14     |   0.39093  |   0.39094  |  -0.00000  |   0.00002  |   0.39093  |   0.00001  |\n",
      "|     15     |   0.39093  |   0.39093  |  -0.00000  |   0.00001  |   0.39093  |   0.00000  |\n",
      "|     16     |   0.39093  |   0.39093  |  -0.00000  |   0.00000  |   0.39093  |  -0.00000  |\n",
      "|     17     |   0.39093  |   0.39093  |  -0.00000  |   0.00000  |   0.39093  |  -0.00000  |\n",
      "|     18     |   0.39093  |   0.39093  |  -0.00000  |   0.00000  |   0.39093  |   0.00000  |\n",
      "|     19     |   0.39093  |   0.39093  |  -0.00000  |   0.00000  |   0.39093  |   0.00000  |\n",
      "|     20     |   0.39093  |   0.39093  |  -0.00000  |   0.00000  |   0.39093  |   0.00000  |\n",
      "============================================================================================\n",
      "Maka diperoleh nilai akar-akarnya =   0.390930\n"
     ]
    }
   ],
   "source": [
    "from math import sqrt\n",
    "\n",
    "def f(y):\n",
    "    return C*b*y*sqrt(b*S*y/(b + 2*y)) - Q\n",
    "\n",
    "def newline(x=30):\n",
    "    print('='*x)\n",
    "\n",
    "# Diketahui:\n",
    "b = 2.5 # (m) - Lebar Saluran\n",
    "S = 1/400 # (m/m) - Kemiringan dasar Saluran\n",
    "C = 30 # (..) - Chezy\n",
    "Q = 0.80 # (m3/det) - Debit Aliran\n",
    "\n",
    "# Asumsikan\n",
    "V = 1 # (m3/det)\n",
    "    \n",
    "x1, x2 = 0.32, 0.39342\n",
    "iterasi = 20\n",
    "xa, xb = x1, x2\n",
    "\n",
    "pad = 70\n",
    "newline(pad)\n",
    "print('Periksa nilai akarnya berada diantara xa dan xb')\n",
    "if f(xa)*f(xb) < 0:\n",
    "    print('f(x_a) x f(x_b) < 0 === OK \\n\\tdengan nilai f(x_a) = {fxa} dan f(x_b) = {fxb}'.format(\n",
    "        fxa=f(xa), fxb=f(xb)))\n",
    "else:\n",
    "    print('f(x_a) x f(x_b) < 0 === NOT OK \\n\\ttidak akan ditemukan akarnya diantara {xa} dan {xb}'.format(\n",
    "        xa=xa, xb=xb))\n",
    "newline(pad)\n",
    "print('\\n')\n",
    "\n",
    "lebar_text = 12*7 + 8\n",
    "print('='*lebar_text)\n",
    "print('|{:^{n:d}s}|'.format('Solusi Numerik Metoda Interval Halving', n=lebar_text-2))\n",
    "print('='*lebar_text)\n",
    "print('| {:^{n:d}s} | {:^{n:d}s} | {:^{n:d}s} | {:^{n:d}s} | {:^{n:d}s} | {:^{n:d}s} | {:^{n:d}s} |'.format(\n",
    "    'n', 'x_a', 'x_b', 'f(x_a)', 'f(x_b)', 'x_h', 'f(x_h)', n=10))\n",
    "print('='*lebar_text)\n",
    "\n",
    "for i in range(1, iterasi+1):\n",
    "    fxa, fxb = f(xa), f(xb)\n",
    "    xh = (xa+xb)/2\n",
    "    fxh = f(xh)\n",
    "\n",
    "    print('| {:^{n:d}d} | {:^ {f1:d}.{f2:d}f} | {:^ {f1:d}.{f2:d}f} | {:^ {f1:d}.{f2:d}f} | {:^ {f1:d}.{f2:d}f} | {:^ {f1:d}.{f2:d}f} | {:^ {f1:d}.{f2:d}f} |'.format(\n",
    "        i, xa, xb, f(xa), f(xb), xh, f(xh), n=10, f1=10, f2=5))\n",
    "    if fxa*fxh < 0:\n",
    "        xb = xh\n",
    "    elif fxb*fxh < 0:\n",
    "        xa = xh\n",
    "print('='*lebar_text)\n",
    "print('Maka diperoleh nilai akar-akarnya = {:10.6f}'.format(xh))"
   ]
  },
  {
   "cell_type": "code",
   "execution_count": null,
   "metadata": {},
   "outputs": [],
   "source": []
  },
  {
   "cell_type": "code",
   "execution_count": null,
   "metadata": {},
   "outputs": [],
   "source": []
  }
 ],
 "metadata": {
  "hide_input": false,
  "kernelspec": {
   "display_name": "Python 3",
   "language": "python",
   "name": "python3"
  },
  "language_info": {
   "codemirror_mode": {
    "name": "ipython",
    "version": 3
   },
   "file_extension": ".py",
   "mimetype": "text/x-python",
   "name": "python",
   "nbconvert_exporter": "python",
   "pygments_lexer": "ipython3",
   "version": "3.6.4"
  },
  "toc": {
   "nav_menu": {},
   "number_sections": true,
   "sideBar": true,
   "skip_h1_title": false,
   "title_cell": "Table of Contents",
   "title_sidebar": "Contents",
   "toc_cell": false,
   "toc_position": {},
   "toc_section_display": true,
   "toc_window_display": false
  },
  "varInspector": {
   "cols": {
    "lenName": 16,
    "lenType": 16,
    "lenVar": 40
   },
   "kernels_config": {
    "python": {
     "delete_cmd_postfix": "",
     "delete_cmd_prefix": "del ",
     "library": "var_list.py",
     "varRefreshCmd": "print(var_dic_list())"
    },
    "r": {
     "delete_cmd_postfix": ") ",
     "delete_cmd_prefix": "rm(",
     "library": "var_list.r",
     "varRefreshCmd": "cat(var_dic_list()) "
    }
   },
   "types_to_exclude": [
    "module",
    "function",
    "builtin_function_or_method",
    "instance",
    "_Feature"
   ],
   "window_display": false
  }
 },
 "nbformat": 4,
 "nbformat_minor": 2
}
