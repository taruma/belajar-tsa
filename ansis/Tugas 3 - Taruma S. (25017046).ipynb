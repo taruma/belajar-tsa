{
 "cells": [
  {
   "cell_type": "markdown",
   "metadata": {},
   "source": [
    "_Tugas 3 - Analisis Sumber Daya Air oleh Taruma S.M. (25017046)_\n",
    "\n",
    "# Tugas 3 - Analisis Sumber Daya Air\n",
    "\n",
    "> Suatu saluran persegiempat mempunyai lebar $2.5\\ meter$ dan mempunyai kemiringan dasar saluran sama dengan $1:400$. \n",
    "Jika konstanta Chezy adalah 30 dalam satuan SI, tentukan kedalaman normal jika debit aliran adalah $0.80\\ m^3/detik$. Tentukan solusi dengan menggunakan **Metoda Interval Halving, Newton Rhapson, dan Secant**. \n",
    "\n",
    "> Petunjuk: $Q = AC\\sqrt{RS},\\ A=by_n, \\text{dan}\\ \\large{y_{n1} = y_{n0}-\\frac{f(y_{n0})}{f'(y_{n0})}}$, untuk harga awal $y_{n0}$ ditentukan dengan asumsi kecepatan aliran $v = 1 m/detik$."
   ]
  },
  {
   "cell_type": "code",
   "execution_count": 1,
   "metadata": {
    "ExecuteTime": {
     "end_time": "2018-04-26T08:37:04.294253Z",
     "start_time": "2018-04-26T08:37:04.283246Z"
    }
   },
   "outputs": [],
   "source": [
    "# Ignore this block code.\n",
    "# Define Function for printing result\n",
    "def cetak(name, val, unit = \"\"):\n",
    "    print('| {:>15s} = {:>10.5f} {:<{n}s}|'.format(name, val, unit, n = pad-15-10-7))\n",
    "    \n",
    "def new_line(pad = 50):\n",
    "    print('='*pad)\n",
    "    \n",
    "pad = 50"
   ]
  },
  {
   "cell_type": "markdown",
   "metadata": {},
   "source": [
    "***\n",
    "## Penurunan dan Penentuan Nilai Awal\n",
    "### Fungsi dan Turunannya\n",
    "\n",
    "Fungsi $f(y)$ diperoleh dari:\n",
    "\n",
    "$$\\begin{aligned} \n",
    "Q &= A C \\sqrt{R S} &\\leftrightarrow 0 = A C \\sqrt{R S} - Q \\\\\n",
    "f(y) &= A C \\sqrt{R S} - Q = 0 & \n",
    "\\end{aligned}$$\n",
    "\n",
    "Turunan dari fungsi $f(y)$:\n",
    "\n",
    "$$\\begin{aligned}f(y) &= C b y \\sqrt{\\frac{b s y}{b + 2 y}} - Q \\\\\n",
    "f'(y) &= C b \\sqrt{\\frac{b s y}{b + 2 y}} + \\frac{C}{s} \\sqrt{\\frac{b s y}{b + 2 y}} \\left(b + 2 y\\right) \\left(- \\frac{b s y}{\\left(b + 2 y\\right)^{2}} + \\frac{b s}{2 \\left(b + 2 y\\right)}\\right) \\end{aligned}$$\n",
    "Disederhanakan, $f'(y)$ menjadi:\n",
    "$$\\begin{aligned} f'(y) &= \\frac{C b \\sqrt{\\frac{b s y}{b + 2 y}}}{2 \\left(b + 2 y\\right)} \\left(3 b + 4 y\\right) \\end{aligned}$$\n",
    "\n",
    "> Catatan : Hasil turunan diperoleh dari kode dibawah menggunakan _sympy_."
   ]
  },
  {
   "cell_type": "code",
   "execution_count": 2,
   "metadata": {
    "ExecuteTime": {
     "end_time": "2018-04-26T08:37:05.421007Z",
     "start_time": "2018-04-26T08:37:04.296253Z"
    }
   },
   "outputs": [
    {
     "name": "stdout",
     "output_type": "stream",
     "text": [
      "Persamaan Q: \n",
      "\tf(y)= C*b*y*sqrt(b*s*y/(b + 2*y)) - Q \n",
      "==\n",
      " In Latex: C b y \\sqrt{\\frac{b s y}{b + 2 y}} - Q \n",
      "\n",
      "Turunan Persamaan Q terhadap y : \n",
      "\tf'(y)= C*b*sqrt(b*s*y/(b + 2*y)) + C*sqrt(b*s*y/(b + 2*y))*(b + 2*y)*(-b*s*y/(b + 2*y)**2 + b*s/(2*(b + 2*y)))/s \n",
      "==\n",
      " In Latex: C b \\sqrt{\\frac{b s y}{b + 2 y}} + \\frac{C}{s} \\sqrt{\\frac{b s y}{b + 2 y}} \\left(b + 2 y\\right) \\left(- \\frac{b s y}{\\left(b + 2 y\\right)^{2}} + \\frac{b s}{2 \\left(b + 2 y\\right)}\\right) \n",
      "\n",
      "Bentuk sederhana : \n",
      "\tf'(y)= C*b*sqrt(b*s*y/(b + 2*y))*(3*b + 4*y)/(2*(b + 2*y)) \n",
      "==\n",
      " In Latex: \\frac{C b \\sqrt{\\frac{b s y}{b + 2 y}}}{2 \\left(b + 2 y\\right)} \\left(3 b + 4 y\\right) \n",
      "\n"
     ]
    }
   ],
   "source": [
    "# Mencari turunan fungsi menggunakan library sympy\n",
    "from sympy import symbols, simplify, sqrt, latex\n",
    "\n",
    "sb, sy, sC, sS, sQ = symbols('b, y, C, s, Q')\n",
    "sA = sb * sy\n",
    "sP = sb + 2* sy\n",
    "sR = sA/sP\n",
    "sfy = sA*sC*sqrt(sR*sS) - sQ\n",
    "\n",
    "# Mencari Turunan f(y)\n",
    "print('Persamaan Q: \\n\\tf(y)=', sfy, '\\n==\\n In Latex:', latex(sfy), '\\n')\n",
    "sfy_d = sfy.diff(sy)\n",
    "print('Turunan Persamaan Q terhadap y : \\n\\tf\\'(y)=', sfy_d, '\\n==\\n In Latex:', latex(sfy_d), '\\n')\n",
    "print('Bentuk sederhana : \\n\\tf\\'(y)=', simplify(sfy_d), '\\n==\\n In Latex:', latex(simplify(sfy_d)), '\\n')\n",
    "\n",
    "# Mendefinisikan fungsi dalam python\n",
    "def f(y):\n",
    "    return float(sfy.subs({sS: S, sC: C, sb: b, sy: y, sQ: Q}))\n",
    "\n",
    "def fd(y):\n",
    "    return float(sfy_d.subs({sS: S, sC: C, sb: b, sy: y}))\n"
   ]
  },
  {
   "cell_type": "markdown",
   "metadata": {},
   "source": [
    "***\n",
    "### Menentukan nilai awal $y_{n0}$ dan $y_{n1}$\n",
    "\n",
    "\n",
    "#### Nilai $y_{n0}$\n",
    "\n",
    "Dengan mengasumsikan kecepatan aliran $v = 1\\ m/det$, $y_{n0}$ dapat dicari dari persamaan $Q = VA$:\n",
    "\n",
    "$$Q = VA \\leftrightarrow Q = V\\ (by_{n0})$$\n",
    "\n",
    "Dimasukkan nilai $V = 1\\ m/det$, $b = 2.5\\ m$ dan $Q = 0.8\\ m^3/det$, maka diperoleh nilai $y_{n0}$ sebesar:\n",
    "\n",
    "$$\\begin{aligned} V = 1\\ m/det, b = 2.5\\ m, Q = 0.8\\ m^3/det &\\rightarrow& Q &= V\\ (b\\ y_{n0}) \\\\\n",
    "&& 0.8 &= 1\\ (2.5\\ y_{n0}) \\\\\n",
    "&& y_{n0} &= \\frac{0.8}{2.5} = 0.32\\ m\n",
    "\\end{aligned}$$\n",
    "\n",
    "#### Nilai $y_{n1}$\n",
    "\n",
    "Nilai $y_{n1}$ diperoleh dari persamaan yang diberikan di petunjuk yaitu $y_{n1} = y_{n0}-\\frac{f(y_{n0})}{f'(y_{n0})}$:\n",
    "\n",
    "$$\\begin{aligned} y_{n0} = 0.32\\ m, f(y_{n0}) = -0.1942946, f'(y_{n0}) = 2.646344 &\\rightarrow& y_{n1} &= y_{n0}-\\frac{f(y_{n0})}{f'(y_{n0})} \\\\\n",
    "&& y_{n1} &= 0.32 - \\frac{-0.1942946}{2.646344} \\\\\n",
    "&& y_{n1} &= 0.39342\\ m\n",
    "\\end{aligned}$$\n",
    "\n",
    "### Nilai $y_{n0}$ dan $y_{n1}$\n",
    "\n",
    "Disimpulkan bahwa nilai $y_{n0} = 0.32\\ m$ dan $y_{n1} = 0.39342\\ m$. Dengan catatan:\n",
    "-  Untuk Metoda Interval Halving, nilai batas kiri: $x_a = y_{n0}$ dan batas kanan: $x_b = y_{n1}$.\n",
    "-  Untuk Metoda Newton-Rhapson, nilai awal: $x_k = y_{n1}$.\n",
    "-  Untuk Metoda Secant, nilai $x_n = y_{n1}$ dan $x_{n-1} = y_{n0}$.\n",
    "\n",
    "Catatan: Hasil diatas diperoleh dari perhitungan melalui python dibawah ini."
   ]
  },
  {
   "cell_type": "code",
   "execution_count": 3,
   "metadata": {
    "ExecuteTime": {
     "end_time": "2018-04-26T08:37:05.499059Z",
     "start_time": "2018-04-26T08:37:05.425009Z"
    }
   },
   "outputs": [
    {
     "name": "stdout",
     "output_type": "stream",
     "text": [
      "==================================================\n",
      "|                   Diketahui                    |\n",
      "==================================================\n",
      "|               b =    2.50000 m                 |\n",
      "|               S =    0.00250 m/m               |\n",
      "|               C =   30.00000                   |\n",
      "|               Q =    0.80000 m^3/det           |\n",
      "==================================================\n",
      "\n",
      "==================================================\n",
      "|        Mencari nilai y_{n0} dan y_{n1}         |\n",
      "==================================================\n",
      "|          y_{n0} =    0.32000 m                 |\n",
      "|       f(y_{n0}) =   -0.19429                   |\n",
      "|      f'(y_{n0}) =    2.64634                   |\n",
      "|          y_{n1} =    0.39342 m                 |\n",
      "==================================================\n"
     ]
    }
   ],
   "source": [
    "# Diketahui:\n",
    "b = 2.5 # (m) - Lebar Saluran\n",
    "S = 1/400 # (m/m) - Kemiringan dasar Saluran\n",
    "C = 30 # (..) - Chezy\n",
    "Q = 0.80 # (m3/det) - Debit Aliran\n",
    "\n",
    "# Asumsikan\n",
    "V = 1 # (m3/det)\n",
    "\n",
    "new_line(pad)\n",
    "print('|{:^{n}s}|'.format('Diketahui', n=pad-2))\n",
    "new_line(pad)\n",
    "cetak('b', b, 'm')\n",
    "cetak('S', S, 'm/m')\n",
    "cetak('C', C)\n",
    "cetak('Q', Q, 'm^3/det')\n",
    "new_line(pad)\n",
    "\n",
    "# Menentukan harga awal\n",
    "# Q = V.A -> Q = V.b.y -> y = Q/(V.b)\n",
    "yn0 = Q/(V*b)\n",
    "fy, fdy = f(yn0), fd(yn0)\n",
    "yn1 = yn0 - fy/fdy\n",
    "\n",
    "print()\n",
    "new_line(pad)\n",
    "print('|{:^{n}s}|'.format('Mencari nilai y_{n0} dan y_{n1}', n=pad-2))\n",
    "new_line(pad)\n",
    "cetak('y_{n0}', yn0, 'm')\n",
    "cetak('f(y_{n0})',fy)\n",
    "cetak('f\\'(y_{n0})',fdy)\n",
    "cetak('y_{n1}', yn1, 'm')\n",
    "new_line(pad)"
   ]
  },
  {
   "cell_type": "markdown",
   "metadata": {},
   "source": [
    "*******\n",
    "## Penyelesaian Numerik (Interval Halving, Newton, Secant)\n",
    "\n",
    "Kode diperoleh dari Latihan Soal Notebook [Interval-Halving, Newton-Rhapson, Secant (Minggu 15)](https://github.com/taruma/belajar-tsa/blob/master/ansis/Interval-Halving%2C%20Newton-Rhapson%2C%20Secant%20(Minggu%2015).ipynb) atau dapat dilihat dengan nbviewer [Interval-Halving, Newton-Rhapson, Secant (Minggu 15)](https://nbviewer.jupyter.org/github/taruma/belajar-tsa/blob/master/ansis/Interval-Halving%2C%20Newton-Rhapson%2C%20Secant%20%28Minggu%2015%29.ipynb). Dan dimodifikasi sesuai kebutuhan.\n",
    "\n",
    "***\n",
    "### Metode Interval Halving\n",
    "\n",
    "#### Langkah Pengerjaan\n",
    "\n",
    "Solusi menggunakan metode _Interval Halving_ dengan langkah sebagai berikut:\n",
    "-  Nilai batas kiri dan kanan yang digunakan diperoleh dari perhitungan sebelumnya untuk mendapatkan nilai $y_{n0}$ dan $y_{n1}$.\n",
    "\n",
    "$$\\begin{aligned} &\\text{Batas bawah/kiri: }& x_a &= y_{n0} &\\text{Batas atas/kanan: }& x_b &=&\\ y_{n1} \\\\\n",
    "&& x_a &= 0.32\\ m && x_b &=&\\ 0.39342\\ m \\end{aligned}$$\n",
    "\n",
    "-  Periksa nilai $f(x_a)$ dan $f(x_b)$ lebih kecil dari $0$. Langkah ini memastikan bahwa akar persamaannya berada di antara $x_a$ dan $x_b$. Dan diperoleh bahwa nilai akar-akarnya berada di antara $x_a$ dan $x_b$\n",
    "\n",
    "$$\\begin{aligned} f(x_a) &=\\ -0.19429 ; f(x_b) &=\\ 0.00704 \\\\\n",
    "f(x_a)f(x_b) &< 0 &\\rightarrow \\text{OK} \\end{aligned}$$\n",
    "\n",
    "-  Cari nilai tengah $(x_h)$ yang merupakan titik tengah dari $x_a$ dan $x_b$:\n",
    "\n",
    "$$x_h = \\frac{x_a + x_b}{2}$$\n",
    "\n",
    "-  Tentukan batas atas/bawah berikutnya. Nilai $x_h$ sebagai batas atas ketika $f(x_a)f(x_h)<0$ dan sebaliknya menjadi batas bawah ketika $f(x_b)f(x_h)<0$.\n",
    "\n",
    "$$\\begin{aligned} x_b \\leftarrow x_h &: \\text{if } f(x_a)f(x_h)<0 \\text{ TRUE} \\\\\n",
    "x_a \\leftarrow x_h &: \\text{if } f(x_h)f(x_b)<0 \\text{ TRUE}\n",
    "\\end{aligned}$$\n"
   ]
  },
  {
   "cell_type": "code",
   "execution_count": 4,
   "metadata": {
    "ExecuteTime": {
     "end_time": "2018-04-26T08:37:05.822276Z",
     "start_time": "2018-04-26T08:37:05.502062Z"
    }
   },
   "outputs": [
    {
     "name": "stdout",
     "output_type": "stream",
     "text": [
      "======================================================================\n",
      "Periksa nilai akarnya berada diantara xa dan xb\n",
      "f(x_a) x f(x_b) < 0 === OK \n",
      "\tdengan nilai f(x_a) =     -0.19429 dan f(x_b) =      0.00704\n",
      "======================================================================\n",
      "\n",
      "\n",
      "============================================================================================\n",
      "|                          Solusi Numerik Metoda Interval Halving                          |\n",
      "============================================================================================\n",
      "|     n      |    x_a     |    x_b     |   f(x_a)   |   f(x_b)   |    x_h     |   f(x_h)   |\n",
      "============================================================================================\n",
      "|     1      |  0.3200000 |  0.3934200 | -0.1942946 |  0.0070430 |  0.3567100 | -0.0953224 |\n",
      "|     2      |  0.3567100 |  0.3934200 | -0.0953224 |  0.0070430 |  0.3750650 | -0.0445413 |\n",
      "|     3      |  0.3750650 |  0.3934200 | -0.0445413 |  0.0070430 |  0.3842425 | -0.0188469 |\n",
      "|     4      |  0.3842425 |  0.3934200 | -0.0188469 |  0.0070430 |  0.3888313 | -0.0059261 |\n",
      "|     5      |  0.3888313 |  0.3934200 | -0.0059261 |  0.0070430 |  0.3911256 |  0.0005525 |\n",
      "|     6      |  0.3888313 |  0.3911256 | -0.0059261 |  0.0005525 |  0.3899785 | -0.0026883 |\n",
      "|     7      |  0.3899785 |  0.3911256 | -0.0026883 |  0.0005525 |  0.3905521 | -0.0010683 |\n",
      "|     8      |  0.3905521 |  0.3911256 | -0.0010683 |  0.0005525 |  0.3908389 | -0.0002580 |\n",
      "|     9      |  0.3908389 |  0.3911256 | -0.0002580 |  0.0005525 |  0.3909822 |  0.0001472 |\n",
      "|     10     |  0.3908389 |  0.3909822 | -0.0002580 |  0.0001472 |  0.3909105 | -0.0000554 |\n",
      "|     11     |  0.3909105 |  0.3909822 | -0.0000554 |  0.0001472 |  0.3909464 |  0.0000459 |\n",
      "|     12     |  0.3909105 |  0.3909464 | -0.0000554 |  0.0000459 |  0.3909285 | -0.0000048 |\n",
      "|     13     |  0.3909285 |  0.3909464 | -0.0000048 |  0.0000459 |  0.3909374 |  0.0000206 |\n",
      "|     14     |  0.3909285 |  0.3909374 | -0.0000048 |  0.0000206 |  0.3909330 |  0.0000079 |\n",
      "|     15     |  0.3909285 |  0.3909330 | -0.0000048 |  0.0000079 |  0.3909307 |  0.0000016 |\n",
      "|     16     |  0.3909285 |  0.3909307 | -0.0000048 |  0.0000016 |  0.3909296 | -0.0000016 |\n",
      "|     17     |  0.3909296 |  0.3909307 | -0.0000016 |  0.0000016 |  0.3909302 | -0.0000000 |\n",
      "|     18     |  0.3909302 |  0.3909307 | -0.0000000 |  0.0000016 |  0.3909304 |  0.0000008 |\n",
      "|     19     |  0.3909302 |  0.3909304 | -0.0000000 |  0.0000008 |  0.3909303 |  0.0000004 |\n",
      "|     20     |  0.3909302 |  0.3909303 | -0.0000000 |  0.0000004 |  0.3909302 |  0.0000002 |\n",
      "============================================================================================\n",
      "Maka diperoleh nilai akar-akarnya =   0.390930 dengan hasil f(x_h) =    0.0000001907\n"
     ]
    }
   ],
   "source": [
    "x1, x2 = yn0, yn1\n",
    "iterasi = 20\n",
    "xa, xb = x1, x2\n",
    "\n",
    "pad = 70\n",
    "new_line(pad)\n",
    "print('Periksa nilai akarnya berada diantara xa dan xb')\n",
    "if f(xa)*f(xb) < 0:\n",
    "    print('f(x_a) x f(x_b) < 0 === OK \\n\\tdengan nilai f(x_a) = {fxa:12.5f} dan f(x_b) = {fxb:12.5f}'.format(\n",
    "        fxa=f(xa), fxb=f(xb)))\n",
    "else:\n",
    "    print('f(x_a) x f(x_b) < 0 === NOT OK \\n\\ttidak akan ditemukan akarnya diantara {xa} dan {xb}\\n\\tdengan nilai f(x_a) = {fxa} dan f(x_b) = {fxb}'.format(\n",
    "        xa=xa, xb=xb, fxa=f(xa), fxb=f(xb)))\n",
    "new_line(pad)\n",
    "print('\\n')\n",
    "\n",
    "lebar_text = 12*7 + 8\n",
    "print('='*lebar_text)\n",
    "print('|{:^{n:d}s}|'.format('Solusi Numerik Metoda Interval Halving', n=lebar_text-2))\n",
    "print('='*lebar_text)\n",
    "print('| {:^{n:d}s} | {:^{n:d}s} | {:^{n:d}s} | {:^{n:d}s} | {:^{n:d}s} | {:^{n:d}s} | {:^{n:d}s} |'.format(\n",
    "    'n', 'x_a', 'x_b', 'f(x_a)', 'f(x_b)', 'x_h', 'f(x_h)', n=10))\n",
    "print('='*lebar_text)\n",
    "\n",
    "for i in range(1, iterasi+1):\n",
    "    fxa, fxb = f(xa), f(xb)\n",
    "    xh = (xa+xb)/2\n",
    "    fxh = f(xh)\n",
    "\n",
    "    print('| {:^{n:d}d} | {:^ {f1:d}.{f2:d}f} | {:^ {f1:d}.{f2:d}f} | {:^ {f1:d}.{f2:d}f} | {:^ {f1:d}.{f2:d}f} | {:^ {f1:d}.{f2:d}f} | {:^ {f1:d}.{f2:d}f} |'.format(\n",
    "        i, xa, xb, f(xa), f(xb), xh, f(xh), n=10, f1=10, f2=7))\n",
    "    if fxa*fxh < 0:\n",
    "        xb = xh\n",
    "    elif fxb*fxh < 0:\n",
    "        xa = xh\n",
    "print('='*lebar_text)\n",
    "print('Maka diperoleh nilai akar-akarnya = {:10.6f} dengan hasil f(x_h) = {:15.10f}'.format(xh, f(xh)))"
   ]
  },
  {
   "cell_type": "markdown",
   "metadata": {},
   "source": [
    "#### Solusi Numerik Metoda Interval Halving\n",
    "\n",
    "Dengan menggunakan prosedur diatas dan dilakukan iterasi sebanyak $20$ kali, diperoleh bahwa nilai $y_n = 0.390930\\ m$ dengan nilai $f(x_h) = 0.0000001907$. Dari tabel hasil perhitungan dibawah, dapat dilihat bahwa nilai akarnya sudah dapat ditemukan pada langkah ke $16$ jika error yang ditargetkan $\\epsilon = 0.000001$. "
   ]
  },
  {
   "cell_type": "markdown",
   "metadata": {},
   "source": [
    "***\n",
    "### Metoda Newton-Rhapson\n",
    "\n",
    "#### Langkah Pengerjaan\n",
    "\n",
    "Solusi Numerik menggunakan metoda _Newton-Rhapson_ dimulai dari:\n",
    "\n",
    "-  Nilai awal $x_k$ menggunakan nilai $y_{n0}$ maka $x_k = 0.32\\ m$\n",
    "\n",
    "-  Dalam metoda Newton-Rhapson diperlukan turunan dari fungsi $f(y)$. Persamaan yang digunakan:\n",
    "\n",
    "$$\\begin{aligned} f(y) &=& C b y \\sqrt{\\frac{b s y}{b + 2 y}} - Q \\\\\n",
    "f'(y) &=& \\frac{C b \\sqrt{\\frac{b s y}{b + 2 y}}}{2 \\left(b + 2 y\\right)} \\left(3 b + 4 y\\right) \n",
    "\\end{aligned}$$\n",
    "\n",
    "dengan: $C = 30, b = 2.5\\ m, s = \\frac{1}{400}\\ m/m$\n",
    "\n",
    "-  Akar persamaan $x_{k+1}$ diperoleh dengan melakukan iterasi sebanyak $k$ dengan menggunakan persamaan:\n",
    "\n",
    "$$x_{k+1} = x_k - \\frac{f(x_k)}{f'(x_k)}$$\n"
   ]
  },
  {
   "cell_type": "code",
   "execution_count": 5,
   "metadata": {
    "ExecuteTime": {
     "end_time": "2018-04-26T08:37:05.909334Z",
     "start_time": "2018-04-26T08:37:05.825279Z"
    }
   },
   "outputs": [
    {
     "name": "stdout",
     "output_type": "stream",
     "text": [
      "==================================================================\n",
      "|              Solusi Numerik Metoda Newton Rhapson              |\n",
      "==================================================================\n",
      "|     k      |    x_k     |   f(x_k)   |  f'(x_k)   |  x_{k+1}   |\n",
      "==================================================================\n",
      "|     1      |  0.320000  | -0.194295  |  2.646344  |  0.393420  | \n",
      "|     2      |  0.393420  |  0.007043  |  2.831491  |  0.390933  | \n",
      "|     3      |  0.390933  |  0.000007  |  2.825843  |  0.390930  | \n",
      "|     4      |  0.390930  |  0.000000  |  2.825838  |  0.390930  | \n",
      "|     5      |  0.390930  |  0.000000  |  2.825838  |  0.390930  | \n",
      "|     6      |  0.390930  |  0.000000  |  2.825838  |  0.390930  | \n",
      "|     7      |  0.390930  |  0.000000  |  2.825838  |  0.390930  | \n",
      "|     8      |  0.390930  |  0.000000  |  2.825838  |  0.390930  | \n",
      "|     9      |  0.390930  |  0.000000  |  2.825838  |  0.390930  | \n",
      "|     10     |  0.390930  |  0.000000  |  2.825838  |  0.390930  | \n",
      "==================================================================\n",
      "Maka diperoleh nilai akar-akarnya =   0.390930 dengan hasil f(x_k) =    0.0000000000\n"
     ]
    }
   ],
   "source": [
    "# Defining function\n",
    "\n",
    "iterasi = 10  # Iteration\n",
    "xk = yn0  # x_k\n",
    "\n",
    "lebar_text = 12*5 + 6\n",
    "print('='*lebar_text)\n",
    "print('|{:^{n:d}s}|'.format('Solusi Numerik Metoda Newton Rhapson', n=lebar_text-2))\n",
    "print('='*lebar_text)\n",
    "print('| {:^{n:d}s} | {:^{n:d}s} | {:^{n:d}s} | {:^{n:d}s} | {:^{n:d}s} |'.format(\n",
    "    'k', 'x_k', 'f(x_k)', 'f\\'(x_k)', 'x_{k+1}', n=10))\n",
    "print('='*lebar_text)\n",
    "\n",
    "for i in range(1, iterasi+1):\n",
    "    xk_p1 = xk - f(xk)/fd(xk)\n",
    "    print('| {:^{n:d}d} | {:^ {f1:d}.{f2:d}f} | {:^ {f1:d}.{f2:d}f} | {:^ {f1:d}.{f2:d}f} | {:^ {f1:d}.{f2:d}f} | '.format(i,\n",
    "                                                                                                                           xk, f(xk), fd(xk), xk_p1, n=10, f1=10, f2=6))\n",
    "    xk = xk_p1\n",
    "print('='*lebar_text)\n",
    "print('Maka diperoleh nilai akar-akarnya = {:10.6f} dengan hasil f(x_k) = {:15.10f}'.format(xk, f(xk)))"
   ]
  },
  {
   "cell_type": "markdown",
   "metadata": {},
   "source": [
    "#### Solusi Numerik Metoda Newton Rhapson\n",
    "\n",
    "Dengan menggunakan prosedur diatas dan dilakukan iterasi sebanyak $10$ kali, diperoleh bahwa nilai $y_n = 0.390930\\ m$ dengan nilai $f(x_k) = 0.0000000000$. Dari tabel hasil perhitungan diatas, dapat dilihat bahwa nilai akarnya sudah dapat ditemukan pada langkah ke $4$ jika error yang ditargetkan $\\epsilon = 0.000001$. "
   ]
  },
  {
   "cell_type": "markdown",
   "metadata": {},
   "source": [
    "***\n",
    "### Metoda Secant\n",
    "\n",
    "#### Langkah Pengerjaan\n",
    "\n",
    "Solusi Numerik menggunakan metoda _Secant_ dimulai dari:\n",
    "\n",
    "-  Menentukan nilai $x_0 = x_{n-1}$ dan $x_1 = x_n$ dari nilai $y_{n0}$ dan $y_{n1}$:\n",
    "$$\\begin{aligned}x_0 &= x_{n-1} &= y_{n0} &= 0.32\\ m \\\\\n",
    "x_1 &= x_{n} &= y_{n1} &= 0.39342\\ m\\end{aligned}$$\n",
    "\n",
    "-  Dalam metoda _Secant_ hanya diperlukan fungsi $f(y)$. Persamaan yang digunakan:\n",
    "\n",
    "$$\\begin{aligned} f(y) &=& C b y \\sqrt{\\frac{b s y}{b + 2 y}} - Q \\\\\n",
    "\\end{aligned}$$\n",
    "\n",
    "dengan: $C = 30, b = 2.5\\ m, s = \\frac{1}{400}\\ m/m$\n",
    "\n",
    "-  Akar persamaan $x_{n+1}$ diperoleh dengan melakukan iterasi sebanyak $n$ dengan menggunakan persamaan:\n",
    "\n",
    "$$x_{n+1} = x_n - f(x_n)\\frac{x_n - x_{n-1}}{f(x_n) - f(x_{n-1})}$$\n"
   ]
  },
  {
   "cell_type": "code",
   "execution_count": 6,
   "metadata": {
    "ExecuteTime": {
     "end_time": "2018-04-26T08:37:06.070442Z",
     "start_time": "2018-04-26T08:37:05.912336Z"
    },
    "scrolled": true
   },
   "outputs": [
    {
     "name": "stdout",
     "output_type": "stream",
     "text": [
      "=================================================================================\n",
      "|                   Solusi Numerik Menggunakan Metoda Secant                    |\n",
      "=================================================================================\n",
      "|     n      |  x_{n-1}   |    x_n     |    N_n     |    D_n     | x_{n+1}-x_n  |\n",
      "=================================================================================\n",
      "|     1      |  0.393420  |  0.320000  |  0.014265  | -0.201338  |   0.070852   |\n",
      "|     2      |  0.320000  |  0.390852  | -0.000016  |  0.194073  |   0.000081   |\n",
      "|     3      |  0.390852  |  0.390933  |  0.000000  |  0.000229  |  -0.000002   |\n",
      "|     4      |  0.390933  |  0.390930  |  0.000000  | -0.000007  |   0.000000   |\n",
      "|     5      |  0.390930  |  0.390930  | -0.000000  |  0.000000  |   0.000000   |\n",
      "|     6      |  0.390930  |  0.390930  |  0.000000  |  0.000000  |   0.000000   |\n",
      "=================================================================================\n",
      "Maka diperoleh nilai akar-akarnya =   0.390930 dengan f(x_{n+1}) =    0.0000000000\n"
     ]
    }
   ],
   "source": [
    "x0, x1 = yn1, yn0\n",
    "\n",
    "lebar_text = 10*5+12+2*6+7\n",
    "print('='*lebar_text)\n",
    "print('|{:^{n:d}s}|'.format(\n",
    "    'Solusi Numerik Menggunakan Metoda Secant', n=lebar_text-2))\n",
    "print('='*(10*5+12+2*6+7))\n",
    "print('| {:^10s} | {:^10s} | {:^10s} | {:^10s} | {:^10s} | {:^12s} |'.format(\n",
    "    'n', 'x_{n-1}', 'x_n', 'N_n', 'D_n', 'x_{n+1}-x_n'))\n",
    "print('='*(10*5+12+2*6+7))\n",
    "\n",
    "iterasi = 6\n",
    "\n",
    "xn = x1\n",
    "xn_m1 = x0\n",
    "xn_p1 = 0\n",
    "for n in range(1, iterasi+1):\n",
    "    Nn = f(xn)*(xn-xn_m1)\n",
    "    Dn = f(xn)-f(xn_m1)\n",
    "    xn_p1 = xn - Nn / Dn\n",
    "    dx = xn_p1-xn\n",
    "\n",
    "    print('| {:^10d} | {:^ 10.6f} | {:^ 10.6f} | {:^ 10.6f} | {:^ 10.6f} | {:^ 12.6f} |'.format(n, xn_m1, xn, Nn, Dn, dx))\n",
    "\n",
    "    xn_m1 = xn\n",
    "    xn = xn_p1\n",
    "\n",
    "print('='*(10*5+12+2*6+7))\n",
    "print('Maka diperoleh nilai akar-akarnya = {:10.6f} dengan f(x_{{n+1}}) = {:15.10f}'.format(xn, f(xn)))"
   ]
  },
  {
   "cell_type": "markdown",
   "metadata": {},
   "source": [
    "#### Solusi Numerik Metoda _Secant_\n",
    "\n",
    "Dengan menggunakan prosedur diatas dan dilakukan iterasi sebanyak $6$ kali, diperoleh bahwa nilai $y_n = 0.390930\\ m$ dengan nilai $f(x_k) = 0.0000000000$. Dari tabel hasil perhitungan diatas, dapat dilihat bahwa nilai akarnya sudah dapat ditemukan pada langkah ke $4$ jika error yang ditargetkan $\\epsilon = 0.000001$. "
   ]
  },
  {
   "cell_type": "markdown",
   "metadata": {},
   "source": [
    "***\n",
    "## Kesimpulan\n",
    "\n",
    "Ringkasan dari penyelesaian permasalahan dengan 3 metoda yaitu _Interval-Halving, Newton-Rhapson, Secant_:\n",
    "\n",
    "$$\\begin{array}{|l|c|c|c|c|}\n",
    "\\hline\n",
    "\\text{Metoda} & \\text{Jumlah Iterasi Coba} & y_{n0} & f(y_{n0}) & \\text{Jumlah Iterasi jika } \\epsilon = 0.000001 \\\\\n",
    "\\hline\n",
    "\\text{Interval-Halving} & 20 & 0.390930 & 0.0000001907 & 16 \\\\\n",
    "\\text{Newton-Rhapson} & 10 & 0.390930 & 0.0000000000 & 4 \\\\\n",
    "\\text{Secant} & 6 & 0.390930 & 0.0000000000 & 4 \\\\\\hline\n",
    "\\end{array}\n",
    "$$\n",
    "\n",
    "Dari ketiga metoda diatas, metoda _Newton-Rhapson_ dan _Secant_ memiliki iterasi yang lebih sedikit dengan $\\epsilon = 1\\times10^{-6}$, akan tetapi metoda _Newton-Rhapson_ memerlukan persamaan turunan $f'(y)$ yang jika persamaannya akan sulit diturunkan jika dilakukan secara manual. Sedangkan metoda _Secant_ hanya menggunakan persamaan $f(y)$. "
   ]
  }
 ],
 "metadata": {
  "hide_input": false,
  "kernelspec": {
   "display_name": "Python [default]",
   "language": "python",
   "name": "python3"
  },
  "language_info": {
   "codemirror_mode": {
    "name": "ipython",
    "version": 3
   },
   "file_extension": ".py",
   "mimetype": "text/x-python",
   "name": "python",
   "nbconvert_exporter": "python",
   "pygments_lexer": "ipython3",
   "version": "3.7.0"
  },
  "toc": {
   "base_numbering": 1,
   "nav_menu": {},
   "number_sections": true,
   "sideBar": true,
   "skip_h1_title": false,
   "title_cell": "Table of Contents",
   "title_sidebar": "Contents",
   "toc_cell": false,
   "toc_position": {},
   "toc_section_display": true,
   "toc_window_display": false
  },
  "varInspector": {
   "cols": {
    "lenName": 16,
    "lenType": 16,
    "lenVar": 40
   },
   "kernels_config": {
    "python": {
     "delete_cmd_postfix": "",
     "delete_cmd_prefix": "del ",
     "library": "var_list.py",
     "varRefreshCmd": "print(var_dic_list())"
    },
    "r": {
     "delete_cmd_postfix": ") ",
     "delete_cmd_prefix": "rm(",
     "library": "var_list.r",
     "varRefreshCmd": "cat(var_dic_list()) "
    }
   },
   "types_to_exclude": [
    "module",
    "function",
    "builtin_function_or_method",
    "instance",
    "_Feature"
   ],
   "window_display": false
  }
 },
 "nbformat": 4,
 "nbformat_minor": 2
}
