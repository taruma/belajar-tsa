{
 "cells": [
  {
   "cell_type": "markdown",
   "metadata": {},
   "source": [
    "# Example 5.E\n",
    "In a long, rectangular irrigation channel, stagnant water at a depth of $h_1 = 3.2 [m]$ is stored behind a sluice gate. The channel has a smooth bed of negligible slope. Due to a maneuvering error the gate is suddenly and completely opened.\n",
    "\n",
    "Determine the __water-surface profiles__ at different instants, $t=60, 120, 180, 240, \\text{and} 300 [s]$, after the accident, and this for the following two cases:\n",
    "1. the channel downstream of the gate is dry;\n",
    "2. the channel downstream of the gate is filled with stagnant water at a depth of $h_0 = 0.32 [m]$"
   ]
  },
  {
   "cell_type": "code",
   "execution_count": 1,
   "metadata": {
    "ExecuteTime": {
     "end_time": "2018-09-26T01:35:07.182824Z",
     "start_time": "2018-09-26T01:35:06.640808Z"
    }
   },
   "outputs": [],
   "source": [
    "%matplotlib inline\n",
    "import numpy as np\n",
    "import math\n",
    "import matplotlib.pyplot as plt\n",
    "\n",
    "h1 = 3.2\n",
    "h0 = 0.32"
   ]
  },
  {
   "cell_type": "markdown",
   "metadata": {},
   "source": [
    "## Absolute Celerity\n",
    "Absolute celerity of the wave after the sudden and complete opening of the gate."
   ]
  },
  {
   "cell_type": "code",
   "execution_count": 2,
   "metadata": {
    "ExecuteTime": {
     "end_time": "2018-09-26T01:35:07.191798Z",
     "start_time": "2018-09-26T01:35:07.184802Z"
    }
   },
   "outputs": [
    {
     "name": "stdout",
     "output_type": "stream",
     "text": [
      "upstream\n",
      "c_t(h=0) \t-> 11.21 m/s\n",
      "downstream\n",
      "c_t(h=h1) \t-> -5.60 m/s\n"
     ]
    }
   ],
   "source": [
    "def c_t(h, h1, U1=0, g=9.81):\n",
    "    return U1 - 3 * np.sqrt(g * h) + 2 * np.sqrt(g * h1)\n",
    "\n",
    "\n",
    "print(f'upstream\\nc_t(h=0) \\t-> {c_t(0, h1):.2f} m/s')\n",
    "print(f'downstream\\nc_t(h=h1) \\t-> {c_t(h1, h1):.2f} m/s')"
   ]
  },
  {
   "cell_type": "code",
   "execution_count": 3,
   "metadata": {
    "ExecuteTime": {
     "end_time": "2018-09-26T01:35:07.475390Z",
     "start_time": "2018-09-26T01:35:07.195795Z"
    },
    "code_folding": []
   },
   "outputs": [
    {
     "ename": "NameError",
     "evalue": "name 'flow_depth' is not defined",
     "output_type": "error",
     "traceback": [
      "\u001b[1;31m---------------------------------------------------------------------------\u001b[0m",
      "\u001b[1;31mNameError\u001b[0m                                 Traceback (most recent call last)",
      "\u001b[1;32m<ipython-input-3-2608e03ad37e>\u001b[0m in \u001b[0;36m<module>\u001b[1;34m()\u001b[0m\n\u001b[0;32m      9\u001b[0m def gen_plot(absolute_celerity,\n\u001b[0;32m     10\u001b[0m              \u001b[0mx_t\u001b[0m\u001b[1;33m=\u001b[0m\u001b[0mx_t\u001b[0m\u001b[1;33m,\u001b[0m\u001b[1;33m\u001b[0m\u001b[0m\n\u001b[1;32m---> 11\u001b[1;33m              \u001b[0mflow_depth\u001b[0m\u001b[1;33m=\u001b[0m\u001b[0mflow_depth\u001b[0m\u001b[1;33m,\u001b[0m\u001b[1;33m\u001b[0m\u001b[0m\n\u001b[0m\u001b[0;32m     12\u001b[0m              time=(60, 120, 180, 240, 300)):\n\u001b[0;32m     13\u001b[0m     \u001b[0mresult\u001b[0m \u001b[1;33m=\u001b[0m \u001b[1;33m[\u001b[0m\u001b[1;33m]\u001b[0m\u001b[1;33m\u001b[0m\u001b[0m\n",
      "\u001b[1;31mNameError\u001b[0m: name 'flow_depth' is not defined"
     ]
    }
   ],
   "source": [
    "def rel_c(h, g=9.81):\n",
    "    return np.sqrt(g * h)\n",
    "\n",
    "\n",
    "def x_t(celerity, time):\n",
    "    return celerity * time\n",
    "\n",
    "\n",
    "def gen_plot(absolute_celerity,\n",
    "             x_t=x_t,\n",
    "             flow_depth=flow_depth,\n",
    "             time=(60, 120, 180, 240, 300)):\n",
    "    result = []\n",
    "    for i, t in enumerate(time):\n",
    "        x = x_t(absolute_celerity, t)\n",
    "        result.append(x)\n",
    "\n",
    "    fig, [ax1, ax2] = plt.subplots(nrows=2, ncols=1, dpi=100, figsize=(6, 8))\n",
    "    for xaxis, time in zip(result, time):\n",
    "        ax1.plot(xaxis, flow_depth, label='t = {}s'.format(time))\n",
    "    ax1.set_title('Water-surface Profile')\n",
    "    ax1.set_xlim([-4000, 4000])\n",
    "    ax1.set_ylim([-0.5, 3.5])\n",
    "    ax1.axvline(color='k', linestyle='--', linewidth=1)\n",
    "    ax1.axhline(color='k', linestyle='--', linewidth=1)\n",
    "    ax1.set_ylabel('Depth $(m)$')\n",
    "\n",
    "    ax1.grid()\n",
    "    ax1.legend(loc='best')\n",
    "\n",
    "    ax2.set_xlim([-4000, 4000])\n",
    "    ax2.set_ylim([-50, 350])\n",
    "    ax2.set_ylabel('Time $s$')\n",
    "\n",
    "    plt.xlabel('position of gate')\n",
    "    plt.tight_layout()\n",
    "\n",
    "\n",
    "grid = 16\n",
    "flow_depth = np.linspace(h1, 0., num=grid + 1)\n",
    "absolute_celerity = c_t(flow_depth, h1)\n",
    "relative_celerity = rel_c(flow_depth)\n",
    "velocity = absolute_celerity + relative_celerity\n",
    "\n",
    "gen_plot(absolute_celerity, x_t=x_t, flow_depth=flow_depth)\n",
    "\n",
    "# x_t60 = x_t(absolute_celerity, 60)\n",
    "# x_t120 = x_t(absolute_celerity, 120)\n",
    "# x_t180 = x_t(absolute_celerity, 180)\n",
    "# x_t240 = x_t(absolute_celerity, 240)\n",
    "# x_t300 = x_t(absolute_celerity, 300)\n",
    "\n",
    "# plt.style.use('seaborn-notebook')\n",
    "# plt.plot(x_t60, flow_depth, label='60s')\n",
    "# plt.plot(x_t120, flow_depth, label='120s')\n",
    "# plt.plot(x_t180, flow_depth, label='180s')\n",
    "# plt.plot(x_t240, flow_depth, label='240s')\n",
    "# plt.plot(x_t300, flow_depth, label='300s')\n",
    "\n",
    "# plt.legend(loc='best')\n",
    "# plt.grid()\n",
    "# plt.show()"
   ]
  },
  {
   "cell_type": "raw",
   "metadata": {
    "ExecuteTime": {
     "end_time": "2018-09-26T01:32:01.206647Z",
     "start_time": "2018-09-26T01:32:00.417Z"
    }
   },
   "source": [
    "# depth @ x = 0\n",
    "def h_x0(h):\n",
    "    return 4 / 9 * h\n",
    "\n",
    "\n",
    "print(f'Depth (x=0)\\t-> {h_x0(h1):.2f} m')"
   ]
  },
  {
   "cell_type": "raw",
   "metadata": {
    "ExecuteTime": {
     "end_time": "2018-09-26T01:32:01.210645Z",
     "start_time": "2018-09-26T01:32:00.428Z"
    }
   },
   "source": [
    "from plotly.offline import init_notebook_mode, iplot\n",
    "from IPython.display import display, HTML\n",
    "from plotly.grid_objs import Grid, Column\n",
    "\n",
    "init_notebook_mode(connected=True)\n",
    "\n",
    "figure = {'data': [{'x': x_t60, 'y': flow_depth}],\n",
    "          'layout': {'xaxis': {'range': [-2000, 4000], 'autorange': False},\n",
    "                     'yaxis': {'range': [0, 4], 'autorange': False},\n",
    "                     'title': 'Start Title',\n",
    "                     'updatemenus': [{'type': 'buttons',\n",
    "                                      'buttons': [{'label': 'Play',\n",
    "                                                   'method': 'animate',\n",
    "                                                   'args': [None]}]}]\n",
    "                    },\n",
    "          'frames': [{'data': [{'x': x_t120, 'y': flow_depth}]},\n",
    "                     {'data': [{'x': x_t180, 'y': flow_depth}]},\n",
    "                     {'data': [{'x': x_t240, 'y': flow_depth}]},\n",
    "                     {'data': [{'x': x_t300, 'y': flow_depth}],\n",
    "                      'layout': {'title': 'End Title'}}]}\n",
    "\n",
    "iplot(figure)\n"
   ]
  },
  {
   "cell_type": "code",
   "execution_count": null,
   "metadata": {},
   "outputs": [],
   "source": []
  }
 ],
 "metadata": {
  "hide_input": false,
  "kernelspec": {
   "display_name": "Python [conda env:umads]",
   "language": "python",
   "name": "conda-env-umads-py"
  },
  "language_info": {
   "codemirror_mode": {
    "name": "ipython",
    "version": 3
   },
   "file_extension": ".py",
   "mimetype": "text/x-python",
   "name": "python",
   "nbconvert_exporter": "python",
   "pygments_lexer": "ipython3",
   "version": "3.7.0"
  },
  "toc": {
   "base_numbering": 1,
   "nav_menu": {},
   "number_sections": true,
   "sideBar": true,
   "skip_h1_title": false,
   "title_cell": "Table of Contents",
   "title_sidebar": "Contents",
   "toc_cell": false,
   "toc_position": {},
   "toc_section_display": true,
   "toc_window_display": false
  },
  "varInspector": {
   "cols": {
    "lenName": 16,
    "lenType": 16,
    "lenVar": 40
   },
   "kernels_config": {
    "python": {
     "delete_cmd_postfix": "",
     "delete_cmd_prefix": "del ",
     "library": "var_list.py",
     "varRefreshCmd": "print(var_dic_list())"
    },
    "r": {
     "delete_cmd_postfix": ") ",
     "delete_cmd_prefix": "rm(",
     "library": "var_list.r",
     "varRefreshCmd": "cat(var_dic_list()) "
    }
   },
   "types_to_exclude": [
    "module",
    "function",
    "builtin_function_or_method",
    "instance",
    "_Feature"
   ],
   "window_display": false
  }
 },
 "nbformat": 4,
 "nbformat_minor": 2
}
