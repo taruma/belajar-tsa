{
 "cells": [
  {
   "cell_type": "markdown",
   "metadata": {},
   "source": [
    "# TUGAS 2B\n",
    "\n",
    "## Example 12.3\n",
    "\n",
    "A low pressure tunnel $8000\\ m$ long, $4\\ m$ diameter, $\\lambda=0.012$ delivers a steady discharge of $45\\ m^3/s$ to hydraulic turbines. A surge chamber of constant area $100\\ m^2$ is situated at the downstream end of the tunnel $F_S=1.0$. \n",
    "Calculate the time variation of tunnel velocity $V$, and level in surge chamber using the finite difference forms of the governing differential equations given by (12.19) and (12.20) if the flow turbines is suddenly stopped.\n",
    "\n",
    "(Tambahan) $\\rightarrow$ Simulasikan muka air di _surge chamber_ sampai $480\\ s$, dan gambarkan hasilnya."
   ]
  },
  {
   "cell_type": "code",
   "execution_count": 1,
   "metadata": {
    "ExecuteTime": {
     "end_time": "2018-10-05T12:06:05.886868Z",
     "start_time": "2018-10-05T12:06:05.551047Z"
    }
   },
   "outputs": [],
   "source": [
    "%matplotlib inline\n",
    "# %load_ext autoreload\n",
    "# %autoreload 2\n",
    "import sys, os\n",
    "sys.path.append(os.path.abspath('..'))\n",
    "# %aimport umakit"
   ]
  },
  {
   "cell_type": "code",
   "execution_count": 2,
   "metadata": {
    "ExecuteTime": {
     "end_time": "2018-10-05T12:06:08.345393Z",
     "start_time": "2018-10-05T12:06:08.217789Z"
    }
   },
   "outputs": [],
   "source": [
    "# Persamaan/Rumus\n",
    "# import umakit\n",
    "# from umakit.basicmath import luas_lingkaran\n",
    "import umakit.general\n",
    "from umakit.transien import *"
   ]
  },
  {
   "cell_type": "code",
   "execution_count": 3,
   "metadata": {
    "ExecuteTime": {
     "end_time": "2018-10-05T12:06:09.965805Z",
     "start_time": "2018-10-05T12:06:09.960806Z"
    }
   },
   "outputs": [],
   "source": [
    "# Konstanta dan nilai\n",
    "nilai = dict(panjang_tunnel = 8000,\n",
    "             diameter_pipa = 4,\n",
    "             lamda = 0.012,\n",
    "             debit_tetap = 45,\n",
    "             area_surge_chamber = 100,\n",
    "             koefisien_tanki = 1.0)\n",
    "\n",
    "simulasi = dict(dt = 10,\n",
    "               waktu_hitung=500)\n",
    "\n",
    "# panjang_tunnel = 8000\n",
    "# diameter_pipa = 4  # D_T [m]\n",
    "# lamda = 0.012  # \\lambda [-]\n",
    "# debit_tetap = 45  # Q_S [m3/s]\n",
    "# area_surge_chamber = 100  # A_S [m2]\n",
    "# koefisien_tanki = 1.0  # F_S [-]\n",
    "\n",
    "# dt = 10  # \\delta t [s]\n",
    "# waktu_hitung = 500 # [s]"
   ]
  },
  {
   "cell_type": "code",
   "execution_count": null,
   "metadata": {
    "ExecuteTime": {
     "end_time": "2018-10-05T02:14:24.417938Z",
     "start_time": "2018-10-05T02:14:24.300188Z"
    }
   },
   "outputs": [],
   "source": [
    "luas_pipa = luas_lingkaran(diameter_pipa)\n",
    "koefisien_tunnel = F_T(lamda, panjang_tunnel, diameter_pipa, g=9.81)\n",
    "koefisien_total = F_R(koefisien_tanki, luas_pipa, area_surge_chamber,\n",
    "                      koefisien_tunnel)\n",
    "kecepatan_awal = debit_tetap / luas_pipa\n",
    "elevasi_awal = -z_0(koefisien_tunnel, kecepatan_awal)"
   ]
  },
  {
   "cell_type": "code",
   "execution_count": null,
   "metadata": {
    "ExecuteTime": {
     "end_time": "2018-10-05T02:17:59.368911Z",
     "start_time": "2018-10-05T02:17:59.363912Z"
    }
   },
   "outputs": [],
   "source": [
    "print('{n:5.4f}'.format(n = elevasi_awal))"
   ]
  },
  {
   "cell_type": "code",
   "execution_count": 3,
   "metadata": {
    "ExecuteTime": {
     "end_time": "2018-10-05T12:04:17.117830Z",
     "start_time": "2018-10-05T12:04:17.106836Z"
    }
   },
   "outputs": [
    {
     "data": {
      "text/plain": [
       "0.03399054043259761"
      ]
     },
     "execution_count": 3,
     "metadata": {},
     "output_type": "execute_result"
    }
   ],
   "source": [
    "F_T(1,2,3)"
   ]
  },
  {
   "cell_type": "code",
   "execution_count": 4,
   "metadata": {
    "ExecuteTime": {
     "end_time": "2018-10-05T12:06:31.447508Z",
     "start_time": "2018-10-05T12:06:31.441512Z"
    }
   },
   "outputs": [
    {
     "name": "stdout",
     "output_type": "stream",
     "text": [
      "|              aa =    2.00000                   |\n"
     ]
    }
   ],
   "source": [
    "umakit.general.cetak('aa',2)"
   ]
  },
  {
   "cell_type": "code",
   "execution_count": null,
   "metadata": {},
   "outputs": [],
   "source": []
  }
 ],
 "metadata": {
  "hide_input": false,
  "kernelspec": {
   "display_name": "Python [conda env:umads]",
   "language": "python",
   "name": "conda-env-umads-py"
  },
  "language_info": {
   "codemirror_mode": {
    "name": "ipython",
    "version": 3
   },
   "file_extension": ".py",
   "mimetype": "text/x-python",
   "name": "python",
   "nbconvert_exporter": "python",
   "pygments_lexer": "ipython3",
   "version": "3.7.0"
  },
  "toc": {
   "base_numbering": 1,
   "nav_menu": {},
   "number_sections": true,
   "sideBar": true,
   "skip_h1_title": false,
   "title_cell": "Table of Contents",
   "title_sidebar": "Contents",
   "toc_cell": false,
   "toc_position": {},
   "toc_section_display": true,
   "toc_window_display": false
  },
  "varInspector": {
   "cols": {
    "lenName": 16,
    "lenType": 16,
    "lenVar": 40
   },
   "kernels_config": {
    "python": {
     "delete_cmd_postfix": "",
     "delete_cmd_prefix": "del ",
     "library": "var_list.py",
     "varRefreshCmd": "print(var_dic_list())"
    },
    "r": {
     "delete_cmd_postfix": ") ",
     "delete_cmd_prefix": "rm(",
     "library": "var_list.r",
     "varRefreshCmd": "cat(var_dic_list()) "
    }
   },
   "types_to_exclude": [
    "module",
    "function",
    "builtin_function_or_method",
    "instance",
    "_Feature"
   ],
   "window_display": false
  }
 },
 "nbformat": 4,
 "nbformat_minor": 2
}
