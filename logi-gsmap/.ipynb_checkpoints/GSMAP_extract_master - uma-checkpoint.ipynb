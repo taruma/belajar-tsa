{
 "cells": [
  {
   "cell_type": "markdown",
   "metadata": {},
   "source": [
    "# Hidrologi Lanjut\n",
    "Extract data dari GSMAP\n",
    "\n",
    "`uma edit`"
   ]
  },
  {
   "cell_type": "code",
   "execution_count": 10,
   "metadata": {
    "ExecuteTime": {
     "end_time": "2018-02-24T13:14:47.191023Z",
     "start_time": "2018-02-24T13:14:46.918741Z"
    },
    "inputHidden": false,
    "outputHidden": false
   },
   "outputs": [],
   "source": [
    "# Reads GSMAP netcdf file by H. Kardhana\n",
    "# uma-edit, dari fadli 20180213\n",
    "# kuliah 20180213\n",
    "import numpy as np\n",
    "import matplotlib.pyplot as plt\n",
    "from scipy.io import netcdf as net\n",
    "from datetime import datetime, timedelta\n",
    "%matplotlib inline\n",
    "\n",
    "# Fungsi/Prosedur\n",
    "\n",
    "\n",
    "def pbukafilecdf():\n",
    "    global rain, xdef, ydef, origin, torigin\n",
    "    f = net.netcdf_file('jabar_gsmap_1hr.nc', mode='r', mmap=False)\n",
    "    rain = f.variables['precip']\n",
    "    xdef = 48\n",
    "    ydef = 32\n",
    "    origin = np.array([104.45, -8.05])  # titik awal grid\n",
    "    torigin = datetime(2000, 3, 1, 0)  # awal pencatatan gsmap\n",
    "    f.close()\n",
    "\n",
    "\n",
    "def fwaktukejadian(awal, akhir):\n",
    "    # Waktu origin + waktu awal\n",
    "    waktuawal = torigin + timedelta(1, (awal+7)*3600)\n",
    "    # Waktu origin + waktu akhir\n",
    "    waktuakhir = torigin + timedelta(1, (akhir+7)*3600)\n",
    "    # Waktu awal dan akhir, dalam bentuk list\n",
    "    hasil = [waktuawal, waktuakhir]\n",
    "    return hasil\n",
    "\n",
    "\n",
    "# Fungsi pengubah tanggal dalam bentuk jam-jaman.\n",
    "def hitungwaktu(year, month, date, hour):\n",
    "    time = datetime(year, month, date, hour) - torigin\n",
    "    time = timedelta.total_seconds(time)\n",
    "    time = int(time/3600)\n",
    "    return time\n",
    "\n",
    "\n",
    "def aturkoordinat(ll, ur):\n",
    "    global lowerleft, upperright\n",
    "    lowerleft = np.array(ll)\n",
    "    upperright = np.array(ur)\n",
    "    #lowerleft = np.array(lowerleft)\n",
    "    #upperright = np.array(upperright)\n",
    "\n",
    "\n",
    "def ambilkoordinat():\n",
    "    global x1, x2, y1, y2\n",
    "    arrdim1 = (upperright-origin)/0.1\n",
    "    arrdim2 = (lowerleft-origin)/0.1\n",
    "    x1 = int(round(arrdim2[0]))\n",
    "    x2 = int(round(arrdim1[0]))+1\n",
    "    y1 = int(ydef-round(arrdim1[1]))\n",
    "    y2 = int(ydef-round(arrdim2[1]))+1\n",
    "\n",
    "\n",
    "def cetakgambar(i, awal, akhir, setplot='b-'):\n",
    "    global absis, ordinat\n",
    "    absis = []\n",
    "    ordinat = []\n",
    "    for k in range(awal, akhir):\n",
    "        a = rain[k, y1:y2, x1:x2]\n",
    "        a[a < 0] = np.nan\n",
    "        b = np.mean(a)\n",
    "        absis.append(k)\n",
    "        ordinat.append(b)\n",
    "    plt.figure(i)\n",
    "    plt.plot(absis, ordinat, setplot)"
   ]
  },
  {
   "cell_type": "code",
   "execution_count": 16,
   "metadata": {
    "ExecuteTime": {
     "end_time": "2018-02-24T13:16:49.827555Z",
     "start_time": "2018-02-24T13:16:44.663853Z"
    },
    "inputHidden": false,
    "outputExpanded": false,
    "outputHidden": false
   },
   "outputs": [],
   "source": [
    "pbukafilecdf()\n",
    "# Masukkan koordinat dalam format (lower-left, upper-right) dan dalam (longitude, latitude)\n",
    "aturkoordinat([107.55, -7.25], [107.75, -7.05])\n",
    "ambilkoordinat()\n",
    "\n",
    "tinit = hitungwaktu(2000, 12, 30, 21)                      # Waktu Initial\n",
    "tend = hitungwaktu(2013, 12, 31, 21)                       # Waktu Akhir"
   ]
  },
  {
   "cell_type": "code",
   "execution_count": 20,
   "metadata": {
    "ExecuteTime": {
     "end_time": "2018-02-24T13:17:34.173029Z",
     "start_time": "2018-02-24T13:17:33.513488Z"
    },
    "inputHidden": false,
    "outputExpanded": false,
    "outputHidden": false
   },
   "outputs": [
    {
     "name": "stderr",
     "output_type": "stream",
     "text": [
      "C:\\Anaconda3\\lib\\site-packages\\ipykernel_launcher.py:66: RuntimeWarning: invalid value encountered in less\n"
     ]
    },
    {
     "data": {
      "image/png": "[encoded data removed]",
      "text/plain": [
       "<matplotlib.figure.Figure at 0x1a20163eb00>"
      ]
     },
     "metadata": {},
     "output_type": "display_data"
    },
    {
     "data": {
      "image/png": "[encoded data removed]",
      "text/plain": [
       "<matplotlib.figure.Figure at 0x1a2024225f8>"
      ]
     },
     "metadata": {},
     "output_type": "display_data"
    }
   ],
   "source": [
    "cetakgambar(0, hitungwaktu(2013, 1, 1, 0), hitungwaktu(2013, 12, 31, 23))\n",
    "# cetakgambar(1, hitungwaktu(2012, 1, 1, 0), hitungwaktu(2012, 12, 31, 23))\n",
    "cetakgambar(2, 112500, 112800, 'r')"
   ]
  },
  {
   "cell_type": "code",
   "execution_count": 9,
   "metadata": {
    "inputHidden": false,
    "outputExpanded": false,
    "outputHidden": false
   },
   "outputs": [
    {
     "name": "stdout",
     "output_type": "stream",
     "text": [
      "Kejadian dimulai 2009-11-21 08:00:00 sampai dengan 2009-11-22 09:00:00\n",
      "Jumlah Hujan =  74.9091 mm/jam\n"
     ]
    }
   ],
   "source": [
    "# Durasi Kejadian\n",
    "a, b = 85225, 85250\n",
    "\n",
    "# Cetak durasi kejadian\n",
    "arrkejadian = fwaktukejadian(a, b)\n",
    "print(\"Kejadian dimulai\", arrkejadian[0], \"sampai dengan\", arrkejadian[1])\n",
    "\n",
    "# Cetak jumlah hujan yang terjadi pada daerah das tersebut\n",
    "valjumlahhujan = np.sum(ordinat)\n",
    "print(\"Jumlah Hujan = \", valjumlahhujan, \"mm/jam\")"
   ]
  },
  {
   "cell_type": "code",
   "execution_count": 5,
   "metadata": {
    "inputHidden": false,
    "outputExpanded": false,
    "outputHidden": false
   },
   "outputs": [],
   "source": [
    "tutupfilecdf()"
   ]
  }
 ],
 "metadata": {
  "hide_input": false,
  "kernel_info": {
   "name": "python3"
  },
  "kernelspec": {
   "display_name": "Python 3",
   "language": "python",
   "name": "python3"
  },
  "language_info": {
   "codemirror_mode": {
    "name": "ipython",
    "version": 3
   },
   "file_extension": ".py",
   "mimetype": "text/x-python",
   "name": "python",
   "nbconvert_exporter": "python",
   "pygments_lexer": "ipython3",
   "version": "3.6.4"
  },
  "nteract": {
   "version": "0.7.1"
  },
  "toc": {
   "nav_menu": {},
   "number_sections": true,
   "sideBar": true,
   "skip_h1_title": false,
   "title_cell": "Table of Contents",
   "title_sidebar": "Contents",
   "toc_cell": false,
   "toc_position": {},
   "toc_section_display": true,
   "toc_window_display": false
  },
  "varInspector": {
   "cols": {
    "lenName": 16,
    "lenType": 16,
    "lenVar": 40
   },
   "kernels_config": {
    "python": {
     "delete_cmd_postfix": "",
     "delete_cmd_prefix": "del ",
     "library": "var_list.py",
     "varRefreshCmd": "print(var_dic_list())"
    },
    "r": {
     "delete_cmd_postfix": ") ",
     "delete_cmd_prefix": "rm(",
     "library": "var_list.r",
     "varRefreshCmd": "cat(var_dic_list()) "
    }
   },
   "types_to_exclude": [
    "module",
    "function",
    "builtin_function_or_method",
    "instance",
    "_Feature"
   ],
   "window_display": false
  }
 },
 "nbformat": 4,
 "nbformat_minor": 2
}
