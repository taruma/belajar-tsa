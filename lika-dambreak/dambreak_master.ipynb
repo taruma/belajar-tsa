{
 "cells": [
  {
   "cell_type": "code",
   "execution_count": 45,
   "metadata": {},
   "outputs": [],
   "source": [
    "# Initialization\n",
    "%matplotlib inline\n",
    "import numpy as np\n",
    "import matplotlib.pyplot as plt\n",
    "from matplotlib.animation import FuncAnimation\n",
    "\n",
    "\n",
    "np.seterr(all='ignore')\n",
    "\n",
    "# Constant\n",
    "g = 9.8\n",
    "n = 0\n",
    "beta = 1\n",
    "\n",
    "# grid and time step\n",
    "dx = 0.5\n",
    "dt = 0.07\n",
    "\n",
    "time = 2\n",
    "tout = 10\n",
    "\n",
    "# Initial Condition and Dam properties\n",
    "b = 1\n",
    "h1 = 1.5\n",
    "h2 = 1\n",
    "lf = 55\n",
    "\n",
    "# Grid\n",
    "imax = int(lf/dx)\n",
    "tmax = int(time/dt)\n",
    "\n",
    "# Zeros array\n",
    "Q = np.zeros(imax, dtype=np.float64)\n",
    "z = np.zeros(imax, dtype=np.float64)\n",
    "A = np.zeros(imax, dtype=np.float64)\n",
    "R = np.zeros(imax, dtype=np.float64)\n",
    "h = np.zeros(imax, dtype=np.float64)\n",
    "\n",
    "# Initial Condition\n",
    "for i in range(0, imax):\n",
    "    if i <= imax/2:\n",
    "        h[i]=h1\n",
    "    else:\n",
    "        h[i]=h2\n",
    "    A[i] = b*h[i]\n",
    "\n",
    "# Kondisi terhadap waktu\n",
    "Ao = np.array(A, copy=True)\n",
    "An = np.array(A, copy=True)\n",
    "Qn = np.array(Q, copy=True)\n",
    "Qo = np.array(Q, copy=True)"
   ]
  },
  {
   "cell_type": "code",
   "execution_count": 46,
   "metadata": {
    "inputHidden": false,
    "outputHidden": false
   },
   "outputs": [
    {
     "name": "stdout",
     "output_type": "stream",
     "text": [
      "nan\n"
     ]
    },
    {
     "data": {
      "image/png": "[encoded data removed]",
      "text/plain": [
       "<matplotlib.figure.Figure at 0x1e9585962e8>"
      ]
     },
     "metadata": {},
     "output_type": "display_data"
    }
   ],
   "source": [
    "# Simulasi\n",
    "# Pengulangan waktu\n",
    "absis = np.linspace(0,lf,int(lf/dx))\n",
    "\n",
    "#fig, ax = plt.subplots(1, figsize=(6,4))\n",
    "for t in range(0, tmax):\n",
    "    # Kontinuitas\n",
    "    for i in range(1,imax-1):\n",
    "        An[i] = Ao[i] - (dt/dx)*(Q[i+1]-Q[i-1])\n",
    "\n",
    "    An[0] = An[1]\n",
    "    An[-1] = An[-2]\n",
    "\n",
    "    for i in range(1, imax-1):\n",
    "        R[i] = A[i]/(b+2*(A[i]/b))\n",
    "        I2 = beta * (((Q[i+1]**2/A[i+1]) - (Q[i-1]**2)/A[i-1])) / (2*dx)\n",
    "        I3 = g * A[i] * ((h[i+1] + z[i+1]) - (h[i-1] + z[i-1])) / (2*dx)\n",
    "        I4 = g * abs(Q[i]) * Q[i] * n**2 / (A[i] * R[i]**(4/3))\n",
    "        Qn[i] = Qo[i] - (I2 + I3 +I4)*2*dt\n",
    "\n",
    "    Qn[0] = Qn[1]\n",
    "    Qn[-1] = Qn[-2]\n",
    "\n",
    "    # Current -> Initial\n",
    "    Ao = A\n",
    "    Qo = Q\n",
    "    # Next -> Current\n",
    "    A = An\n",
    "    Q = Qn\n",
    "\n",
    "    for i in range(0,imax):\n",
    "        h[i] = A[i]/b\n",
    "\n",
    "def init():\n",
    "    ax.set_ylim(0, 2)\n",
    "    ax.set_xlim(0, lf)\n",
    "    \n",
    "    ax.axhline(0, color='black', lw=1)\n",
    "    plt.rcParams.update({'font.size':12})\n",
    "    \n",
    "    return \n",
    "\n",
    "init()\n",
    "#steps = 1    \n",
    "#ani = FuncAnimation(fig, simulasi, steps, init_func=init, interval=50, blit=True)\n",
    "\n",
    "print(h[30])\n",
    "\n",
    "#plt.plot(absis,h);        \n",
    "plt.title('Grafik')\n",
    "plt.xlim(0,lf)\n",
    "plt.ylim(0,3)\n",
    "plt.plot(absis,h);"
   ]
  },
  {
   "cell_type": "code",
   "execution_count": 40,
   "metadata": {
    "inputHidden": false,
    "outputHidden": false
   },
   "outputs": [
    {
     "name": "stdout",
     "output_type": "stream",
     "text": [
      "0\n"
     ]
    }
   ],
   "source": [
    "for i in range(0,1):\n",
    "    print (i)"
   ]
  },
  {
   "cell_type": "code",
   "execution_count": null,
   "metadata": {},
   "outputs": [],
   "source": []
  }
 ],
 "metadata": {
  "kernel_info": {
   "name": "python3"
  },
  "kernelspec": {
   "display_name": "Python 3",
   "language": "python",
   "name": "python3"
  },
  "language_info": {
   "codemirror_mode": {
    "name": "ipython",
    "version": 3
   },
   "file_extension": ".py",
   "mimetype": "text/x-python",
   "name": "python",
   "nbconvert_exporter": "python",
   "pygments_lexer": "ipython3",
   "version": "3.6.4"
  },
  "nteract": {
   "version": "0.7.1"
  }
 },
 "nbformat": 4,
 "nbformat_minor": 4
}
