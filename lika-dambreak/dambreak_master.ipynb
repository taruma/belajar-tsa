{
 "cells": [
  {
   "cell_type": "code",
   "execution_count": 1,
   "metadata": {
    "ExecuteTime": {
     "end_time": "2018-02-24T06:45:59.079004Z",
     "start_time": "2018-02-24T06:45:54.809315Z"
    }
   },
   "outputs": [],
   "source": [
    "# Initialization\n",
    "%matplotlib inline\n",
    "import numpy as np\n",
    "import matplotlib.pyplot as plt\n",
    "from matplotlib.animation import FuncAnimation\n",
    "\n",
    "\n",
    "np.seterr(all='ignore')\n",
    "\n",
    "# Constant\n",
    "g = 9.8\n",
    "n = 0\n",
    "beta = 1\n",
    "\n",
    "# grid and time step\n",
    "dx = 0.5\n",
    "dt = 0.07\n",
    "\n",
    "time = 2\n",
    "tout = 10\n",
    "\n",
    "# Initial Condition and Dam properties\n",
    "b = 1\n",
    "h1 = 1.5\n",
    "h2 = 1\n",
    "lf = 55\n",
    "\n",
    "# Grid\n",
    "imax = int(lf/dx)\n",
    "tmax = int(time/dt)\n",
    "\n",
    "# Zeros array\n",
    "Q = np.zeros(imax, dtype=np.float64)\n",
    "z = np.zeros(imax, dtype=np.float64)\n",
    "A = np.zeros(imax, dtype=np.float64)\n",
    "R = np.zeros(imax, dtype=np.float64)\n",
    "h = np.zeros(imax, dtype=np.float64)\n",
    "\n",
    "# Initial Condition\n",
    "for i in range(0, imax):\n",
    "    if i <= imax/2:\n",
    "        h[i]=h1\n",
    "    else:\n",
    "        h[i]=h2\n",
    "    A[i] = b*h[i]\n",
    "\n",
    "# Kondisi terhadap waktu\n",
    "Ao = np.array(A, copy=True)\n",
    "An = np.array(A, copy=True)\n",
    "Qn = np.array(Q, copy=True)\n",
    "Qo = np.array(Q, copy=True)"
   ]
  },
  {
   "cell_type": "code",
   "execution_count": 2,
   "metadata": {
    "ExecuteTime": {
     "end_time": "2018-02-24T06:46:16.463294Z",
     "start_time": "2018-02-24T06:46:16.112065Z"
    },
    "inputHidden": false,
    "outputHidden": false
   },
   "outputs": [
    {
     "ename": "NameError",
     "evalue": "name 'ax' is not defined",
     "output_type": "error",
     "traceback": [
      "\u001b[1;31m---------------------------------------------------------------------------\u001b[0m",
      "\u001b[1;31mNameError\u001b[0m                                 Traceback (most recent call last)",
      "\u001b[1;32m<ipython-input-2-331bd4be39a4>\u001b[0m in \u001b[0;36m<module>\u001b[1;34m()\u001b[0m\n\u001b[0;32m     41\u001b[0m     \u001b[1;32mreturn\u001b[0m\u001b[1;33m\u001b[0m\u001b[0m\n\u001b[0;32m     42\u001b[0m \u001b[1;33m\u001b[0m\u001b[0m\n\u001b[1;32m---> 43\u001b[1;33m \u001b[0minit\u001b[0m\u001b[1;33m(\u001b[0m\u001b[1;33m)\u001b[0m\u001b[1;33m\u001b[0m\u001b[0m\n\u001b[0m\u001b[0;32m     44\u001b[0m \u001b[1;33m\u001b[0m\u001b[0m\n\u001b[0;32m     45\u001b[0m \u001b[1;33m\u001b[0m\u001b[0m\n",
      "\u001b[1;32m<ipython-input-2-331bd4be39a4>\u001b[0m in \u001b[0;36minit\u001b[1;34m()\u001b[0m\n\u001b[0;32m     33\u001b[0m \u001b[1;33m\u001b[0m\u001b[0m\n\u001b[0;32m     34\u001b[0m \u001b[1;32mdef\u001b[0m \u001b[0minit\u001b[0m\u001b[1;33m(\u001b[0m\u001b[1;33m)\u001b[0m\u001b[1;33m:\u001b[0m\u001b[1;33m\u001b[0m\u001b[0m\n\u001b[1;32m---> 35\u001b[1;33m     \u001b[0max\u001b[0m\u001b[1;33m.\u001b[0m\u001b[0mset_ylim\u001b[0m\u001b[1;33m(\u001b[0m\u001b[1;36m0\u001b[0m\u001b[1;33m,\u001b[0m \u001b[1;36m2\u001b[0m\u001b[1;33m)\u001b[0m\u001b[1;33m\u001b[0m\u001b[0m\n\u001b[0m\u001b[0;32m     36\u001b[0m     \u001b[0max\u001b[0m\u001b[1;33m.\u001b[0m\u001b[0mset_xlim\u001b[0m\u001b[1;33m(\u001b[0m\u001b[1;36m0\u001b[0m\u001b[1;33m,\u001b[0m \u001b[0mlf\u001b[0m\u001b[1;33m)\u001b[0m\u001b[1;33m\u001b[0m\u001b[0m\n\u001b[0;32m     37\u001b[0m \u001b[1;33m\u001b[0m\u001b[0m\n",
      "\u001b[1;31mNameError\u001b[0m: name 'ax' is not defined"
     ]
    }
   ],
   "source": [
    "# Simulasi\n",
    "# Pengulangan waktu\n",
    "absis = np.linspace(0,lf,int(lf/dx))\n",
    "\n",
    "#fig, ax = plt.subplots(1, figsize=(6,4))\n",
    "for t in range(0, tmax):\n",
    "    # Kontinuitas\n",
    "    for i in range(1,imax-1):\n",
    "        An[i] = Ao[i] - (dt/dx)*(Q[i+1]-Q[i-1])\n",
    "\n",
    "    An[0] = An[1]\n",
    "    An[-1] = An[-2]\n",
    "\n",
    "    for i in range(1, imax-1):\n",
    "        R[i] = A[i]/(b+2*(A[i]/b))\n",
    "        I2 = beta * (((Q[i+1]**2/A[i+1]) - (Q[i-1]**2)/A[i-1])) / (2*dx)\n",
    "        I3 = g * A[i] * ((h[i+1] + z[i+1]) - (h[i-1] + z[i-1])) / (2*dx)\n",
    "        I4 = g * abs(Q[i]) * Q[i] * n**2 / (A[i] * R[i]**(4/3))\n",
    "        Qn[i] = Qo[i] - (I2 + I3 +I4)*2*dt\n",
    "\n",
    "    Qn[0] = Qn[1]\n",
    "    Qn[-1] = Qn[-2]\n",
    "\n",
    "    # Current -> Initial\n",
    "    Ao = A\n",
    "    Qo = Q\n",
    "    # Next -> Current\n",
    "    A = An\n",
    "    Q = Qn\n",
    "\n",
    "    for i in range(0,imax):\n",
    "        h[i] = A[i]/b\n",
    "\n",
    "def init():\n",
    "    ax.set_ylim(0, 2)\n",
    "    ax.set_xlim(0, lf)\n",
    "    \n",
    "    ax.axhline(0, color='black', lw=1)\n",
    "    plt.rcParams.update({'font.size':12})\n",
    "    \n",
    "    return \n",
    "\n",
    "init()\n",
    "\n",
    "\n",
    "#steps = 1    \n",
    "#ani = FuncAnimation(fig, simulasi, steps, init_func=init, interval=50, blit=True)\n",
    "\n",
    "print(h[30])\n",
    "\n",
    "#plt.plot(absis,h);        \n",
    "plt.title('Grafik')\n",
    "plt.xlim(0,lf)\n",
    "plt.ylim(0,3)\n",
    "plt.plot(absis,h);"
   ]
  },
  {
   "cell_type": "code",
   "execution_count": 40,
   "metadata": {
    "inputHidden": false,
    "outputHidden": false
   },
   "outputs": [
    {
     "name": "stdout",
     "output_type": "stream",
     "text": [
      "0\n"
     ]
    }
   ],
   "source": [
    "for i in range(0,1):\n",
    "    print (i)"
   ]
  },
  {
   "cell_type": "code",
   "execution_count": null,
   "metadata": {},
   "outputs": [],
   "source": []
  }
 ],
 "metadata": {
  "hide_input": false,
  "kernel_info": {
   "name": "python3"
  },
  "kernelspec": {
   "display_name": "Python 3",
   "language": "python",
   "name": "python3"
  },
  "language_info": {
   "codemirror_mode": {
    "name": "ipython",
    "version": 3
   },
   "file_extension": ".py",
   "mimetype": "text/x-python",
   "name": "python",
   "nbconvert_exporter": "python",
   "pygments_lexer": "ipython3",
   "version": "3.6.4"
  },
  "nteract": {
   "version": "0.7.1"
  },
  "toc": {
   "nav_menu": {},
   "number_sections": true,
   "sideBar": true,
   "skip_h1_title": false,
   "title_cell": "Table of Contents",
   "title_sidebar": "Contents",
   "toc_cell": false,
   "toc_position": {},
   "toc_section_display": true,
   "toc_window_display": false
  }
 },
 "nbformat": 4,
 "nbformat_minor": 4
}
